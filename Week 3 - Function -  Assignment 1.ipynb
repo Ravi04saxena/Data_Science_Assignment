{
 "cells": [
  {
   "cell_type": "markdown",
   "id": "05073965",
   "metadata": {},
   "source": [
    "#### Q1. Which keyword is used to create a function? Create a function to return a list of odd numbers in the range of 1 to 25.\n",
    "#### Sol - \"def\" keyword is used to create function, below is the syntax- \n",
    "def function_name():\n",
    "     \n",
    "     function code"
   ]
  },
  {
   "cell_type": "code",
   "execution_count": 21,
   "id": "0c2f2c0b",
   "metadata": {},
   "outputs": [],
   "source": [
    "def odd_no():\n",
    "    l1 =[]\n",
    "    for i in range(1,26):\n",
    "        if i%2 != 0:\n",
    "            l1.append(i)\n",
    "    return l1"
   ]
  },
  {
   "cell_type": "code",
   "execution_count": 22,
   "id": "b8c7f758",
   "metadata": {},
   "outputs": [],
   "source": [
    "result = odd_no()"
   ]
  },
  {
   "cell_type": "code",
   "execution_count": 23,
   "id": "48cd1a58",
   "metadata": {},
   "outputs": [
    {
     "name": "stdout",
     "output_type": "stream",
     "text": [
      "[1, 3, 5, 7, 9, 11, 13, 15, 17, 19, 21, 23, 25]\n"
     ]
    }
   ],
   "source": [
    "print(result)"
   ]
  },
  {
   "cell_type": "markdown",
   "id": "3776a408",
   "metadata": {},
   "source": [
    "#### Q2. Why *args and **kwargs is used in some functions? Create a function each for *args and **kwargsto demonstrate their use.\n",
    "#### Sol - *args - we can use '*args' to pass the multiple argument of any data type in the function without any limit\n",
    "#### **kwargs - we can use '*args' to pass the multiple argument of any data type in the function without any limit in the 'key:value' pair\n"
   ]
  },
  {
   "cell_type": "code",
   "execution_count": 17,
   "id": "2a5b9258",
   "metadata": {},
   "outputs": [],
   "source": [
    "# example_1 :- \n",
    "def function1(*args):\n",
    "    return args"
   ]
  },
  {
   "cell_type": "code",
   "execution_count": 19,
   "id": "72a14670",
   "metadata": {},
   "outputs": [
    {
     "data": {
      "text/plain": [
       "(1, 2, 'ravi', 60.5)"
      ]
     },
     "execution_count": 19,
     "metadata": {},
     "output_type": "execute_result"
    }
   ],
   "source": [
    "function1(1,2,'ravi',60.5)"
   ]
  },
  {
   "cell_type": "code",
   "execution_count": 23,
   "id": "b945ab2f",
   "metadata": {},
   "outputs": [],
   "source": [
    "# example_2 :-\n",
    "def function2(**kwargs):\n",
    "    return kwargs"
   ]
  },
  {
   "cell_type": "code",
   "execution_count": 25,
   "id": "9814c4ae",
   "metadata": {},
   "outputs": [
    {
     "data": {
      "text/plain": [
       "{'Name': 'Ravi', 'Age': 25, 'Mailid': 'xyz@gmail.com', 'Address': 'Delhi'}"
      ]
     },
     "execution_count": 25,
     "metadata": {},
     "output_type": "execute_result"
    }
   ],
   "source": [
    "function2(Name = 'Ravi',Age = 25,Mailid = 'xyz@gmail.com',Address = 'Delhi')"
   ]
  },
  {
   "cell_type": "code",
   "execution_count": null,
   "id": "289519cd",
   "metadata": {},
   "outputs": [],
   "source": []
  },
  {
   "cell_type": "markdown",
   "id": "40988781",
   "metadata": {},
   "source": [
    "#### Q3. What is an iterator in python? Name the method used to initialise the iterator object and the method used for iteration. Use these methods to print the first five elements of the given list [2, 4, 6, 8, 10, 12, 14,16, 18, 20].\n",
    "#### Sol - An iterator in Python is an object that is used to iterate over iterable objects like lists, tuples, dicts, and sets. \n",
    "#### The Python iterators object is initialized using the method - \"iter()\"\n",
    "#### and It uses the method for iterationthe is \"next()\" ."
   ]
  },
  {
   "cell_type": "code",
   "execution_count": 158,
   "id": "0c0bea17",
   "metadata": {},
   "outputs": [],
   "source": [
    "my_list = [2,4,6,8,10,12,14,16,18,20]\n",
    "my_it = iter(my_list)"
   ]
  },
  {
   "cell_type": "code",
   "execution_count": 159,
   "id": "38788fb8",
   "metadata": {},
   "outputs": [
    {
     "name": "stdout",
     "output_type": "stream",
     "text": [
      "2\n",
      "4\n",
      "6\n",
      "8\n",
      "10\n"
     ]
    }
   ],
   "source": [
    "for i in range(5):\n",
    "    print(next(my_it))"
   ]
  },
  {
   "cell_type": "markdown",
   "id": "d132cf51",
   "metadata": {},
   "source": [
    "## OR"
   ]
  },
  {
   "cell_type": "code",
   "execution_count": 60,
   "id": "d3ae42bb",
   "metadata": {},
   "outputs": [
    {
     "name": "stdout",
     "output_type": "stream",
     "text": [
      "2\n",
      "4\n",
      "6\n",
      "8\n",
      "10\n"
     ]
    }
   ],
   "source": [
    "for i in my_list[:5]:\n",
    "    print(i)"
   ]
  },
  {
   "cell_type": "code",
   "execution_count": null,
   "id": "0d986238",
   "metadata": {},
   "outputs": [],
   "source": []
  },
  {
   "cell_type": "markdown",
   "id": "52e726f3",
   "metadata": {},
   "source": [
    "#### Q4. What is a generator function in python? Why yield keyword is used? Give an example of a generator function.\n",
    "#### Sol - A type of function that is memory efficient and can be used like an iterator object is called Generator object\n",
    "#### Yield keyword is used to create a generator function. The yield statement returns a generator object to the one who calls the function which contains yield, instead of simply returning a value. "
   ]
  },
  {
   "cell_type": "code",
   "execution_count": 124,
   "id": "505c7388",
   "metadata": {},
   "outputs": [],
   "source": [
    "# example\n",
    "def table_of_2():\n",
    "    num = 1\n",
    "    while True:\n",
    "        yield num*2\n",
    "        num = num+1"
   ]
  },
  {
   "cell_type": "code",
   "execution_count": 125,
   "id": "4835fecf",
   "metadata": {},
   "outputs": [],
   "source": [
    "table = table_of_2()"
   ]
  },
  {
   "cell_type": "code",
   "execution_count": 126,
   "id": "d82356e7",
   "metadata": {},
   "outputs": [
    {
     "name": "stdout",
     "output_type": "stream",
     "text": [
      "2\n",
      "4\n",
      "6\n",
      "8\n",
      "10\n",
      "12\n",
      "14\n",
      "16\n",
      "18\n",
      "20\n"
     ]
    }
   ],
   "source": [
    "for i in range(10):\n",
    "    print(next(table))"
   ]
  },
  {
   "cell_type": "markdown",
   "id": "72ebf318",
   "metadata": {},
   "source": [
    "## OR"
   ]
  },
  {
   "cell_type": "code",
   "execution_count": 128,
   "id": "5f0ef463",
   "metadata": {},
   "outputs": [],
   "source": [
    "def table_of_2(n):\n",
    "    num = 1\n",
    "    for i in range(n):\n",
    "        yield num*2\n",
    "        num = num+1"
   ]
  },
  {
   "cell_type": "code",
   "execution_count": 129,
   "id": "631cc2d1",
   "metadata": {},
   "outputs": [
    {
     "name": "stdout",
     "output_type": "stream",
     "text": [
      "2\n",
      "4\n",
      "6\n",
      "8\n",
      "10\n",
      "12\n",
      "14\n",
      "16\n",
      "18\n",
      "20\n"
     ]
    }
   ],
   "source": [
    "for i in table_of_2(10):\n",
    "    print(i)"
   ]
  },
  {
   "cell_type": "code",
   "execution_count": null,
   "id": "8083affb",
   "metadata": {},
   "outputs": [],
   "source": []
  },
  {
   "cell_type": "markdown",
   "id": "5be68783",
   "metadata": {},
   "source": [
    "#### Q5. Create a generator function for prime numbers less than 1000. Use the next() method to print the first 20 prime numbers."
   ]
  },
  {
   "cell_type": "code",
   "execution_count": 173,
   "id": "396b5238",
   "metadata": {},
   "outputs": [],
   "source": [
    "def is_prime(num):\n",
    "    if num <= 1:\n",
    "        return False\n",
    "    if num == 2:\n",
    "        return True\n",
    "    if num % 2 == 0:\n",
    "        return False\n",
    "\n",
    "    for i in range(3, int(num**0.5) + 1, 2):\n",
    "        if num % i == 0:\n",
    "            return False\n",
    "    return True\n",
    "\n",
    "def generate_prime_numbers():\n",
    "    num = 2\n",
    "    count = 0\n",
    "    while count < 20 and num < 1000:\n",
    "        if is_prime(num):\n",
    "            yield num\n",
    "            count += 1\n",
    "        num += 1"
   ]
  },
  {
   "cell_type": "code",
   "execution_count": 174,
   "id": "20af06cc",
   "metadata": {},
   "outputs": [],
   "source": [
    "prime_numbers_iterator = generate_prime_numbers()"
   ]
  },
  {
   "cell_type": "code",
   "execution_count": 175,
   "id": "911623ee",
   "metadata": {},
   "outputs": [
    {
     "name": "stdout",
     "output_type": "stream",
     "text": [
      "2\n",
      "3\n",
      "5\n",
      "7\n",
      "11\n",
      "13\n",
      "17\n",
      "19\n",
      "23\n",
      "29\n",
      "31\n",
      "37\n",
      "41\n",
      "43\n",
      "47\n",
      "53\n",
      "59\n",
      "61\n",
      "67\n",
      "71\n"
     ]
    }
   ],
   "source": [
    "for i in range(20):\n",
    "    print(next(prime_numbers_iterator))"
   ]
  },
  {
   "cell_type": "code",
   "execution_count": null,
   "id": "95a8852e",
   "metadata": {},
   "outputs": [],
   "source": []
  },
  {
   "cell_type": "markdown",
   "id": "6c81bf23",
   "metadata": {},
   "source": [
    "#### Q6. Write a python program to print the first 10 Fibonacci numbers using a while loop"
   ]
  },
  {
   "cell_type": "code",
   "execution_count": 32,
   "id": "33a52ba1",
   "metadata": {},
   "outputs": [],
   "source": [
    "def fib_10():\n",
    "    a,b = 0,1\n",
    "    while True:\n",
    "        yield a\n",
    "        a,b = b, a+b    "
   ]
  },
  {
   "cell_type": "code",
   "execution_count": 33,
   "id": "1f431b14",
   "metadata": {},
   "outputs": [],
   "source": [
    "fib = fib_10()"
   ]
  },
  {
   "cell_type": "code",
   "execution_count": 34,
   "id": "c6eb43c2",
   "metadata": {},
   "outputs": [
    {
     "name": "stdout",
     "output_type": "stream",
     "text": [
      "0\n",
      "1\n",
      "1\n",
      "2\n",
      "3\n",
      "5\n",
      "8\n",
      "13\n",
      "21\n",
      "34\n"
     ]
    }
   ],
   "source": [
    "for i in range(10):\n",
    "    print(next(fib))"
   ]
  },
  {
   "cell_type": "markdown",
   "id": "2541487a",
   "metadata": {},
   "source": [
    "#### Q7. Write a List Comprehension to iterate through the given string: ‘pwskills’.\n",
    "#### Expected output: ['p', 'w', 's', 'k', 'i', 'l', 'l', 's']"
   ]
  },
  {
   "cell_type": "code",
   "execution_count": 1,
   "id": "9240722a",
   "metadata": {},
   "outputs": [],
   "source": [
    "s = 'pwskills'"
   ]
  },
  {
   "cell_type": "code",
   "execution_count": 6,
   "id": "95c62b44",
   "metadata": {},
   "outputs": [
    {
     "data": {
      "text/plain": [
       "['p', 'w', 's', 'k', 'i', 'l', 'l', 's']"
      ]
     },
     "execution_count": 6,
     "metadata": {},
     "output_type": "execute_result"
    }
   ],
   "source": [
    "list(s)"
   ]
  },
  {
   "cell_type": "code",
   "execution_count": null,
   "id": "0d77b364",
   "metadata": {},
   "outputs": [],
   "source": []
  },
  {
   "cell_type": "markdown",
   "id": "b8aa9b52",
   "metadata": {},
   "source": [
    "#### Q8. Write a python program to check whether a given number is Palindrome or not using a while loop."
   ]
  },
  {
   "cell_type": "code",
   "execution_count": 15,
   "id": "bb30f42f",
   "metadata": {},
   "outputs": [
    {
     "name": "stdout",
     "output_type": "stream",
     "text": [
      "Palindrome\n"
     ]
    }
   ],
   "source": [
    "# Taking the number to check palindrome\n",
    "n = 121\n",
    "\n",
    "# Making a copy of the n\n",
    "temp = n\n",
    "\n",
    "# Declaring a variable to store the reverse of the input number.\n",
    "reverse = 0\n",
    "\n",
    "# Reversing the number using a while loop\n",
    "while(n>0):\n",
    "    digit = n % 10\n",
    "    reverse = reverse*10 + digit\n",
    "    n = n // 10\n",
    "\n",
    "# Checking whether the reversed number is equal to the original number.\n",
    "if(temp == reverse):\n",
    "    print(\"Palindrome\")\n",
    "else:\n",
    "    print(\"Not a Palindrome\")"
   ]
  },
  {
   "cell_type": "code",
   "execution_count": null,
   "id": "f5d35f0c",
   "metadata": {},
   "outputs": [],
   "source": []
  },
  {
   "cell_type": "markdown",
   "id": "6b0a1914",
   "metadata": {},
   "source": [
    "#### Q9. Write a code to print odd numbers from 1 to 100 using list comprehension.\n",
    "\n",
    "Note: Use a list comprehension to create a list from 1 to 100 and use another List comprehension to filter\n",
    "out odd numbers.\n",
    "Note: Create your assig"
   ]
  },
  {
   "cell_type": "code",
   "execution_count": 16,
   "id": "74c24177",
   "metadata": {},
   "outputs": [
    {
     "name": "stdout",
     "output_type": "stream",
     "text": [
      "[1, 3, 5, 7, 9, 11, 13, 15, 17, 19, 21, 23, 25, 27, 29, 31, 33, 35, 37, 39, 41, 43, 45, 47, 49, 51, 53, 55, 57, 59, 61, 63, 65, 67, 69, 71, 73, 75, 77, 79, 81, 83, 85, 87, 89, 91, 93, 95, 97, 99]\n"
     ]
    }
   ],
   "source": [
    "number = [i for i in range(1,101)]\n",
    "odd_number = [i for i in number if i%2 != 0]\n",
    "print(odd_number)"
   ]
  },
  {
   "cell_type": "code",
   "execution_count": null,
   "id": "d7a99cd6",
   "metadata": {},
   "outputs": [],
   "source": []
  },
  {
   "cell_type": "code",
   "execution_count": null,
   "id": "bc4cf6a8",
   "metadata": {},
   "outputs": [],
   "source": []
  }
 ],
 "metadata": {
  "kernelspec": {
   "display_name": "Python 3 (ipykernel)",
   "language": "python",
   "name": "python3"
  },
  "language_info": {
   "codemirror_mode": {
    "name": "ipython",
    "version": 3
   },
   "file_extension": ".py",
   "mimetype": "text/x-python",
   "name": "python",
   "nbconvert_exporter": "python",
   "pygments_lexer": "ipython3",
   "version": "3.10.9"
  }
 },
 "nbformat": 4,
 "nbformat_minor": 5
}
