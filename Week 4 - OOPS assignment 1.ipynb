{
 "cells": [
  {
   "cell_type": "markdown",
   "id": "6e567f04",
   "metadata": {},
   "source": [
    "#### Week 4 - OOPS assignment 1"
   ]
  },
  {
   "cell_type": "markdown",
   "id": "01c86509",
   "metadata": {},
   "source": [
    "#### Q1. Explain Class and Object with respect to Object-Oriented Programming. Give a suitable example.\n",
    "#### Sol:- Class :-\n",
    "A class is a blueprint or a template for creating objects. Class is a set of instructions or a design for creating objects of a certain type.\n",
    "A class can contain attributes (also known as properties) to represent data and methods (also known as functions) to define the operations that can be performed on that data.\n",
    "\n",
    "#### Object :-\n",
    "An object is an instance of a class. Objects are created based on the class definition and can have their own unique values for the attributes defined in the class.\n"
   ]
  },
  {
   "cell_type": "code",
   "execution_count": 1,
   "id": "6fdb2f1e",
   "metadata": {},
   "outputs": [],
   "source": [
    "# Example:-\n",
    "class car:     # 'car' is the class\n",
    "    \n",
    "    def __init__(self, make, model, year, speed):\n",
    "        self.make = make\n",
    "        self.model = model\n",
    "        self.year = year\n",
    "        self.speed = 0    "
   ]
  },
  {
   "cell_type": "code",
   "execution_count": 7,
   "id": "ff89c319",
   "metadata": {},
   "outputs": [],
   "source": [
    "car_obj = car('Porsche','Caymen','2022',100)    # 'car_obj' is a object for a class 'car'"
   ]
  },
  {
   "cell_type": "code",
   "execution_count": 3,
   "id": "9b458224",
   "metadata": {},
   "outputs": [
    {
     "data": {
      "text/plain": [
       "'Porsche'"
      ]
     },
     "execution_count": 3,
     "metadata": {},
     "output_type": "execute_result"
    }
   ],
   "source": [
    "car_obj.make"
   ]
  },
  {
   "cell_type": "code",
   "execution_count": 4,
   "id": "55860936",
   "metadata": {},
   "outputs": [
    {
     "data": {
      "text/plain": [
       "'Caymen'"
      ]
     },
     "execution_count": 4,
     "metadata": {},
     "output_type": "execute_result"
    }
   ],
   "source": [
    "car_obj.model"
   ]
  },
  {
   "cell_type": "code",
   "execution_count": 5,
   "id": "51697cce",
   "metadata": {},
   "outputs": [
    {
     "data": {
      "text/plain": [
       "100"
      ]
     },
     "execution_count": 5,
     "metadata": {},
     "output_type": "execute_result"
    }
   ],
   "source": [
    "car_obj.speed"
   ]
  },
  {
   "cell_type": "code",
   "execution_count": 6,
   "id": "02017893",
   "metadata": {},
   "outputs": [
    {
     "data": {
      "text/plain": [
       "'2022'"
      ]
     },
     "execution_count": 6,
     "metadata": {},
     "output_type": "execute_result"
    }
   ],
   "source": [
    "car_obj.year"
   ]
  },
  {
   "cell_type": "code",
   "execution_count": null,
   "id": "05c3b8b6",
   "metadata": {},
   "outputs": [],
   "source": []
  },
  {
   "cell_type": "markdown",
   "id": "fad0ca35",
   "metadata": {},
   "source": [
    "#### Q2. Name the four pillars of OOPs.\n",
    "#### Sol :- \n",
    "#### 1. Encapsulation\n",
    "#### 2. Abstraction\n",
    "#### 3. Inheritance\n",
    "#### 4. Polymorphism"
   ]
  },
  {
   "cell_type": "code",
   "execution_count": null,
   "id": "679518a9",
   "metadata": {},
   "outputs": [],
   "source": []
  },
  {
   "cell_type": "markdown",
   "id": "b3952e5d",
   "metadata": {},
   "source": [
    "#### Q3. Explain why the __init__() function is used. Give a suitable example.\n",
    "#### Sol :- The __init__() function, often referred to as the \"constructor\". It is used to initialize and set the initial state of an object when it is created from a class. The __init__() method is automatically called when you create an object of a class, and it accept arguments to customize the object's initial state."
   ]
  },
  {
   "cell_type": "code",
   "execution_count": 15,
   "id": "7ac3a785",
   "metadata": {},
   "outputs": [],
   "source": [
    "# Example\n",
    "class student_details:\n",
    "    \n",
    "    def __init__(self, Name, Email_Id, Mobile_num):   \n",
    "        self.__Name = Name\n",
    "        self.__Email_Id = Email_Id\n",
    "        self.__Mobile_num = Mobile_num"
   ]
  },
  {
   "cell_type": "code",
   "execution_count": 16,
   "id": "2b08ed66",
   "metadata": {},
   "outputs": [],
   "source": [
    "student1 = student_details('Ravi','ravi@gmail.com',9867452435)"
   ]
  },
  {
   "cell_type": "code",
   "execution_count": 18,
   "id": "dd9153cc",
   "metadata": {},
   "outputs": [
    {
     "data": {
      "text/plain": [
       "'Ravi'"
      ]
     },
     "execution_count": 18,
     "metadata": {},
     "output_type": "execute_result"
    }
   ],
   "source": [
    "student1._student_details__Name"
   ]
  },
  {
   "cell_type": "code",
   "execution_count": 19,
   "id": "dea86579",
   "metadata": {},
   "outputs": [
    {
     "data": {
      "text/plain": [
       "'ravi@gmail.com'"
      ]
     },
     "execution_count": 19,
     "metadata": {},
     "output_type": "execute_result"
    }
   ],
   "source": [
    "student1._student_details__Email_Id"
   ]
  },
  {
   "cell_type": "code",
   "execution_count": 20,
   "id": "d58b81ff",
   "metadata": {},
   "outputs": [
    {
     "data": {
      "text/plain": [
       "9867452435"
      ]
     },
     "execution_count": 20,
     "metadata": {},
     "output_type": "execute_result"
    }
   ],
   "source": [
    "student1._student_details__Mobile_num"
   ]
  },
  {
   "cell_type": "code",
   "execution_count": null,
   "id": "355186aa",
   "metadata": {},
   "outputs": [],
   "source": []
  },
  {
   "cell_type": "markdown",
   "id": "c112e0e0",
   "metadata": {},
   "source": [
    "#### Q4. Why self is used in OOPs?\n",
    "#### Sol :- Self represents the instance of the class. By using the “self” we can access the attributes and methods of the class in Python. It binds the attributes with the given arguments. "
   ]
  },
  {
   "cell_type": "code",
   "execution_count": null,
   "id": "39d34047",
   "metadata": {},
   "outputs": [],
   "source": []
  },
  {
   "cell_type": "markdown",
   "id": "7473c445",
   "metadata": {},
   "source": [
    "#### Q5. What is inheritance? Give an example for each type of inheritance.\n",
    "#### Sol :- A process to inherit property (attribute & methods) by child class from a parent class is known as \"Inheritance\""
   ]
  },
  {
   "cell_type": "markdown",
   "id": "01e2156f",
   "metadata": {},
   "source": [
    "#### 1.Single Inheritance :-"
   ]
  },
  {
   "cell_type": "code",
   "execution_count": 61,
   "id": "8c13938c",
   "metadata": {},
   "outputs": [],
   "source": [
    "class parent1:\n",
    "    \n",
    "    def method(self):\n",
    "        return 'This method belongs to parent1'"
   ]
  },
  {
   "cell_type": "code",
   "execution_count": 62,
   "id": "851f6676",
   "metadata": {},
   "outputs": [],
   "source": [
    "class child1(parent1):\n",
    "    \n",
    "    def method1(self):\n",
    "        return 'This method belongs to child1'"
   ]
  },
  {
   "cell_type": "code",
   "execution_count": 30,
   "id": "d400fa7d",
   "metadata": {},
   "outputs": [],
   "source": [
    "obj_child1 = child1()"
   ]
  },
  {
   "cell_type": "code",
   "execution_count": 31,
   "id": "f5661971",
   "metadata": {},
   "outputs": [
    {
     "data": {
      "text/plain": [
       "'This method belongs to parent1'"
      ]
     },
     "execution_count": 31,
     "metadata": {},
     "output_type": "execute_result"
    }
   ],
   "source": [
    "obj_child1.method()"
   ]
  },
  {
   "cell_type": "code",
   "execution_count": 32,
   "id": "cb030e24",
   "metadata": {},
   "outputs": [
    {
     "data": {
      "text/plain": [
       "'This method belongs to child1'"
      ]
     },
     "execution_count": 32,
     "metadata": {},
     "output_type": "execute_result"
    }
   ],
   "source": [
    "obj_child1.method1()"
   ]
  },
  {
   "cell_type": "code",
   "execution_count": null,
   "id": "a7d6af7b",
   "metadata": {},
   "outputs": [],
   "source": []
  },
  {
   "cell_type": "markdown",
   "id": "0d861cea",
   "metadata": {},
   "source": [
    "#### 2.Multiple Inheritance"
   ]
  },
  {
   "cell_type": "code",
   "execution_count": 38,
   "id": "e93d15f3",
   "metadata": {},
   "outputs": [],
   "source": [
    "class Parent1:\n",
    "    \n",
    "    def method1(self):\n",
    "        return 'This method is from Parent1'"
   ]
  },
  {
   "cell_type": "code",
   "execution_count": 39,
   "id": "40cdb229",
   "metadata": {},
   "outputs": [],
   "source": [
    "class Parent2:\n",
    "    \n",
    "    def method2(self):\n",
    "        return 'This method is from Parent2'"
   ]
  },
  {
   "cell_type": "code",
   "execution_count": 40,
   "id": "5e850b69",
   "metadata": {},
   "outputs": [],
   "source": [
    "class child(Parent1, Parent2):\n",
    "    \n",
    "    def method3(self):\n",
    "        return 'This method is from Child class'"
   ]
  },
  {
   "cell_type": "code",
   "execution_count": 41,
   "id": "d6de93c7",
   "metadata": {},
   "outputs": [],
   "source": [
    "obj_child = child()"
   ]
  },
  {
   "cell_type": "code",
   "execution_count": 43,
   "id": "27b2422b",
   "metadata": {},
   "outputs": [
    {
     "data": {
      "text/plain": [
       "'This method is from Parent1'"
      ]
     },
     "execution_count": 43,
     "metadata": {},
     "output_type": "execute_result"
    }
   ],
   "source": [
    "obj_child.method1()"
   ]
  },
  {
   "cell_type": "code",
   "execution_count": 44,
   "id": "f8492dd4",
   "metadata": {},
   "outputs": [
    {
     "data": {
      "text/plain": [
       "'This method is from Parent2'"
      ]
     },
     "execution_count": 44,
     "metadata": {},
     "output_type": "execute_result"
    }
   ],
   "source": [
    "obj_child.method2()"
   ]
  },
  {
   "cell_type": "code",
   "execution_count": 45,
   "id": "acaaf8a2",
   "metadata": {},
   "outputs": [
    {
     "data": {
      "text/plain": [
       "'This method is from Child class'"
      ]
     },
     "execution_count": 45,
     "metadata": {},
     "output_type": "execute_result"
    }
   ],
   "source": [
    "obj_child.method3()"
   ]
  },
  {
   "cell_type": "code",
   "execution_count": null,
   "id": "2b67b4fa",
   "metadata": {},
   "outputs": [],
   "source": []
  },
  {
   "cell_type": "markdown",
   "id": "d794f025",
   "metadata": {},
   "source": [
    "#### 3.Multilevel Inheritance:"
   ]
  },
  {
   "cell_type": "code",
   "execution_count": 48,
   "id": "6a4f0b0a",
   "metadata": {},
   "outputs": [],
   "source": [
    "class Grand_Parent:\n",
    "    \n",
    "    def method1(self):\n",
    "        return 'This method is from Grand_Parent'"
   ]
  },
  {
   "cell_type": "code",
   "execution_count": 49,
   "id": "017b2792",
   "metadata": {},
   "outputs": [],
   "source": [
    "class Parent(Grand_Parent):\n",
    "    \n",
    "    def method2(self):\n",
    "        return 'This method is from Parent'"
   ]
  },
  {
   "cell_type": "code",
   "execution_count": 50,
   "id": "3d9a93ab",
   "metadata": {},
   "outputs": [],
   "source": [
    "class child(Parent):\n",
    "    \n",
    "    def method3(self):\n",
    "        return 'This method is from Child class'"
   ]
  },
  {
   "cell_type": "code",
   "execution_count": 51,
   "id": "5e8ab56b",
   "metadata": {},
   "outputs": [],
   "source": [
    "obj_child = child()"
   ]
  },
  {
   "cell_type": "code",
   "execution_count": 53,
   "id": "ed18e6db",
   "metadata": {},
   "outputs": [
    {
     "data": {
      "text/plain": [
       "'This method is from Grand_Parent'"
      ]
     },
     "execution_count": 53,
     "metadata": {},
     "output_type": "execute_result"
    }
   ],
   "source": [
    "obj_child.method1()"
   ]
  },
  {
   "cell_type": "code",
   "execution_count": 55,
   "id": "68a13f37",
   "metadata": {},
   "outputs": [
    {
     "data": {
      "text/plain": [
       "'This method is from Parent'"
      ]
     },
     "execution_count": 55,
     "metadata": {},
     "output_type": "execute_result"
    }
   ],
   "source": [
    "obj_child.method2()"
   ]
  },
  {
   "cell_type": "code",
   "execution_count": 56,
   "id": "52895574",
   "metadata": {},
   "outputs": [
    {
     "data": {
      "text/plain": [
       "'This method is from Child class'"
      ]
     },
     "execution_count": 56,
     "metadata": {},
     "output_type": "execute_result"
    }
   ],
   "source": [
    "obj_child.method3()"
   ]
  },
  {
   "cell_type": "code",
   "execution_count": null,
   "id": "334c1ee5",
   "metadata": {},
   "outputs": [],
   "source": []
  },
  {
   "cell_type": "markdown",
   "id": "d72960f3",
   "metadata": {},
   "source": [
    "#### 4.Hierarchical Inheritance :- Hierarchical inheritance occurs when more than 1 child classes inherit from a single Parent class, forming a hierarchy of related classes"
   ]
  },
  {
   "cell_type": "code",
   "execution_count": 65,
   "id": "854254ea",
   "metadata": {},
   "outputs": [],
   "source": [
    "class parent:\n",
    "    \n",
    "    def method(self):\n",
    "        return 'This method belongs to parent1'"
   ]
  },
  {
   "cell_type": "code",
   "execution_count": 66,
   "id": "f3fb9b5f",
   "metadata": {},
   "outputs": [],
   "source": [
    "class child1(parent):\n",
    "    \n",
    "    def method1(self):\n",
    "        return 'This method belongs to child1'"
   ]
  },
  {
   "cell_type": "code",
   "execution_count": 68,
   "id": "8d1b0e82",
   "metadata": {},
   "outputs": [],
   "source": [
    "obj_child1 = child1()"
   ]
  },
  {
   "cell_type": "code",
   "execution_count": 69,
   "id": "e6b09892",
   "metadata": {},
   "outputs": [
    {
     "data": {
      "text/plain": [
       "'This method belongs to parent1'"
      ]
     },
     "execution_count": 69,
     "metadata": {},
     "output_type": "execute_result"
    }
   ],
   "source": [
    "obj_child1.method()"
   ]
  },
  {
   "cell_type": "code",
   "execution_count": 70,
   "id": "a5a5f310",
   "metadata": {},
   "outputs": [
    {
     "data": {
      "text/plain": [
       "'This method belongs to child1'"
      ]
     },
     "execution_count": 70,
     "metadata": {},
     "output_type": "execute_result"
    }
   ],
   "source": [
    "obj_child1.method1()"
   ]
  },
  {
   "cell_type": "code",
   "execution_count": 67,
   "id": "e1e717da",
   "metadata": {},
   "outputs": [],
   "source": [
    "class child2(parent):\n",
    "    \n",
    "    def method2(self):\n",
    "        return 'This method belongs to child2'"
   ]
  },
  {
   "cell_type": "code",
   "execution_count": 71,
   "id": "d5f4b936",
   "metadata": {},
   "outputs": [],
   "source": [
    "obj_child2 = child2()"
   ]
  },
  {
   "cell_type": "code",
   "execution_count": 72,
   "id": "ef0d864a",
   "metadata": {},
   "outputs": [
    {
     "data": {
      "text/plain": [
       "'This method belongs to parent1'"
      ]
     },
     "execution_count": 72,
     "metadata": {},
     "output_type": "execute_result"
    }
   ],
   "source": [
    "obj_child2.method()"
   ]
  },
  {
   "cell_type": "code",
   "execution_count": 73,
   "id": "37c91743",
   "metadata": {},
   "outputs": [
    {
     "data": {
      "text/plain": [
       "'This method belongs to child2'"
      ]
     },
     "execution_count": 73,
     "metadata": {},
     "output_type": "execute_result"
    }
   ],
   "source": [
    "obj_child2.method2()"
   ]
  },
  {
   "cell_type": "code",
   "execution_count": null,
   "id": "9ca3dd85",
   "metadata": {},
   "outputs": [],
   "source": []
  },
  {
   "cell_type": "markdown",
   "id": "799728a2",
   "metadata": {},
   "source": [
    "#### 5.Hybrid Inheritance:- Hybrid inheritance is a combination of two or more types of inheritance mentioned above. It can involve multiple, multilevel, and hierarchical inheritance in a single class hierarchy."
   ]
  },
  {
   "cell_type": "code",
   "execution_count": 84,
   "id": "44e3bd22",
   "metadata": {},
   "outputs": [],
   "source": [
    "class A:\n",
    "    \n",
    "    def method_A(self):\n",
    "        return 'method A from class A'\n",
    "    \n",
    "class B(A):\n",
    "    \n",
    "    def method_B(Self):\n",
    "        return 'method B from class B'\n",
    "    \n",
    "class C(A):\n",
    "    \n",
    "    def method_C(self):\n",
    "        return 'method C from class C'\n",
    "    \n",
    "class D(B,C):\n",
    "    \n",
    "    def method_D(self):\n",
    "        return 'method D from class D'\n",
    "    \n",
    "class E(D):\n",
    "    \n",
    "    def method_E(self):\n",
    "        return 'method E from class E'"
   ]
  },
  {
   "cell_type": "code",
   "execution_count": 85,
   "id": "061b3dfc",
   "metadata": {},
   "outputs": [],
   "source": [
    "Obj_E = E()"
   ]
  },
  {
   "cell_type": "code",
   "execution_count": 96,
   "id": "37c666aa",
   "metadata": {},
   "outputs": [
    {
     "name": "stdout",
     "output_type": "stream",
     "text": [
      "method A from class A\n",
      "method B from class B\n",
      "method C from class C\n",
      "method D from class D\n",
      "method E from class E\n"
     ]
    }
   ],
   "source": [
    "print(Obj_E.method_A())\n",
    "print(Obj_E.method_B())\n",
    "print(Obj_E.method_C())\n",
    "print(Obj_E.method_D())\n",
    "print(Obj_E.method_E())"
   ]
  },
  {
   "cell_type": "code",
   "execution_count": null,
   "id": "f9fcc2d4",
   "metadata": {},
   "outputs": [],
   "source": []
  }
 ],
 "metadata": {
  "kernelspec": {
   "display_name": "Python 3 (ipykernel)",
   "language": "python",
   "name": "python3"
  },
  "language_info": {
   "codemirror_mode": {
    "name": "ipython",
    "version": 3
   },
   "file_extension": ".py",
   "mimetype": "text/x-python",
   "name": "python",
   "nbconvert_exporter": "python",
   "pygments_lexer": "ipython3",
   "version": "3.10.9"
  }
 },
 "nbformat": 4,
 "nbformat_minor": 5
}
