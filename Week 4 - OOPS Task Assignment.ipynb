{
 "cells": [
  {
   "cell_type": "markdown",
   "id": "132e35fe",
   "metadata": {},
   "source": [
    "### Week 4 - OOPS TASK Assignment"
   ]
  },
  {
   "cell_type": "markdown",
   "id": "4e1494fc",
   "metadata": {},
   "source": [
    "#### Q1, Create a vehicle class with an init method having instance variables as name_of_vehicle, max_speed\n",
    "#### and average_of_vehicle. "
   ]
  },
  {
   "cell_type": "code",
   "execution_count": 1,
   "id": "aaf29330",
   "metadata": {},
   "outputs": [],
   "source": [
    "class vehicle:\n",
    "    \n",
    "    def __init__(self, name_of_vehicle, max_speed, average_of_vehicle):\n",
    "        self.__name_of_vehicle = name_of_vehicle\n",
    "        self.__max_speed = max_speed\n",
    "        self.__average_of_vehicle = average_of_vehicle"
   ]
  },
  {
   "cell_type": "code",
   "execution_count": 2,
   "id": "9d849d07",
   "metadata": {},
   "outputs": [],
   "source": [
    "c = vehicle('Magnite',150,20)"
   ]
  },
  {
   "cell_type": "code",
   "execution_count": 4,
   "id": "6a7e8804",
   "metadata": {},
   "outputs": [
    {
     "data": {
      "text/plain": [
       "'Magnite'"
      ]
     },
     "execution_count": 4,
     "metadata": {},
     "output_type": "execute_result"
    }
   ],
   "source": [
    "c._vehicle__name_of_vehicle"
   ]
  },
  {
   "cell_type": "code",
   "execution_count": 5,
   "id": "a580ac08",
   "metadata": {},
   "outputs": [
    {
     "data": {
      "text/plain": [
       "20"
      ]
     },
     "execution_count": 5,
     "metadata": {},
     "output_type": "execute_result"
    }
   ],
   "source": [
    "c._vehicle__average_of_vehicle"
   ]
  },
  {
   "cell_type": "code",
   "execution_count": 6,
   "id": "88d2f7b8",
   "metadata": {},
   "outputs": [
    {
     "data": {
      "text/plain": [
       "150"
      ]
     },
     "execution_count": 6,
     "metadata": {},
     "output_type": "execute_result"
    }
   ],
   "source": [
    "c._vehicle__max_speed"
   ]
  },
  {
   "cell_type": "markdown",
   "id": "9b68767c",
   "metadata": {},
   "source": [
    "#### Q2. Create a child class car from the vehicle class created in Que 1, which will inherit the vehicle class.\n",
    "#### Create a method named seating_capacity which takes capacity as an argument and returns the name of\n",
    "#### the vehicle and its seating capacity."
   ]
  },
  {
   "cell_type": "code",
   "execution_count": 54,
   "id": "4d449bdc",
   "metadata": {},
   "outputs": [],
   "source": [
    "class car(vehicle):\n",
    "    def seating_capacity(self,no_of_seats):\n",
    "        return f\"Vehicle_Name:- {self._vehicle__name_of_vehicle} & Seating capacity:- {no_of_seats}\"       "
   ]
  },
  {
   "cell_type": "code",
   "execution_count": 63,
   "id": "ee61d31d",
   "metadata": {},
   "outputs": [],
   "source": [
    "c = car('\"NISSAN MAGNITE\"',150,20)"
   ]
  },
  {
   "cell_type": "code",
   "execution_count": 65,
   "id": "a3e8aabb",
   "metadata": {},
   "outputs": [
    {
     "data": {
      "text/plain": [
       "'Vehicle_Name:- \"NISSAN MAGNITE\" & Seating capacity:- 5'"
      ]
     },
     "execution_count": 65,
     "metadata": {},
     "output_type": "execute_result"
    }
   ],
   "source": [
    "c.seating_capacity(5)"
   ]
  },
  {
   "cell_type": "markdown",
   "id": "7358bf59",
   "metadata": {},
   "source": [
    "#### Q3. What is multiple inheritance? Write a python code to demonstrate multiple inheritance.\n",
    "#### Sol:- Multiple inhertance allow a child class to inherit features from more than one parent class simultaneoulsy\n"
   ]
  },
  {
   "cell_type": "code",
   "execution_count": 1,
   "id": "4be621b1",
   "metadata": {},
   "outputs": [],
   "source": [
    "class Parent1:\n",
    "    def method1(self):\n",
    "        return 'This method is from Parent1'"
   ]
  },
  {
   "cell_type": "code",
   "execution_count": 2,
   "id": "2463b761",
   "metadata": {},
   "outputs": [],
   "source": [
    "class Parent2:\n",
    "    def method2(self):\n",
    "        return 'This method is from Parent2'"
   ]
  },
  {
   "cell_type": "code",
   "execution_count": 3,
   "id": "e0664ba9",
   "metadata": {},
   "outputs": [],
   "source": [
    "class child(Parent1, Parent2):\n",
    "    def method3(self):\n",
    "        return 'This method is from Child class'"
   ]
  },
  {
   "cell_type": "code",
   "execution_count": 4,
   "id": "6c04443c",
   "metadata": {},
   "outputs": [],
   "source": [
    "obj_child = child()"
   ]
  },
  {
   "cell_type": "code",
   "execution_count": 5,
   "id": "a062f628",
   "metadata": {},
   "outputs": [
    {
     "data": {
      "text/plain": [
       "'This method is from Parent1'"
      ]
     },
     "execution_count": 5,
     "metadata": {},
     "output_type": "execute_result"
    }
   ],
   "source": [
    "obj_child.method1()"
   ]
  },
  {
   "cell_type": "code",
   "execution_count": 6,
   "id": "f36300e6",
   "metadata": {},
   "outputs": [
    {
     "data": {
      "text/plain": [
       "'This method is from Parent2'"
      ]
     },
     "execution_count": 6,
     "metadata": {},
     "output_type": "execute_result"
    }
   ],
   "source": [
    "obj_child.method2()"
   ]
  },
  {
   "cell_type": "code",
   "execution_count": 7,
   "id": "c2f03565",
   "metadata": {},
   "outputs": [
    {
     "data": {
      "text/plain": [
       "'This method is from Child class'"
      ]
     },
     "execution_count": 7,
     "metadata": {},
     "output_type": "execute_result"
    }
   ],
   "source": [
    "obj_child.method3()"
   ]
  },
  {
   "cell_type": "markdown",
   "id": "46a9aa0c",
   "metadata": {},
   "source": [
    "#### Q4. What are getter and setter in python? Create a class and create a getter and a setter method in this class.\n",
    "#### Sol:- Getters and Setters in python are often used to avoid direct access of a class field i.e. private variables cannot be accessed directly or modified by external user."
   ]
  },
  {
   "cell_type": "code",
   "execution_count": 1,
   "id": "51e178e2",
   "metadata": {},
   "outputs": [],
   "source": [
    "# Example\n",
    "class employee:\n",
    "    \n",
    "    def __init__(self,salary):\n",
    "        self._salary = salary\n",
    "        \n",
    "    def set_salary(self, salary):\n",
    "        self._salary = salary\n",
    "        \n",
    "    def get_salary(self):\n",
    "        return self._salary"
   ]
  },
  {
   "cell_type": "code",
   "execution_count": 9,
   "id": "8053d55d",
   "metadata": {},
   "outputs": [],
   "source": [
    "john = employee(5000)"
   ]
  },
  {
   "cell_type": "code",
   "execution_count": 12,
   "id": "72d53954",
   "metadata": {},
   "outputs": [],
   "source": [
    "john.set_salary(60000)"
   ]
  },
  {
   "cell_type": "code",
   "execution_count": 13,
   "id": "7c5be92b",
   "metadata": {},
   "outputs": [
    {
     "data": {
      "text/plain": [
       "60000"
      ]
     },
     "execution_count": 13,
     "metadata": {},
     "output_type": "execute_result"
    }
   ],
   "source": [
    "john.get_salary()"
   ]
  },
  {
   "cell_type": "markdown",
   "id": "912a29bb",
   "metadata": {},
   "source": [
    "#### Q5.What is method overriding in python? Write a python code to demonstrate method overriding."
   ]
  },
  {
   "cell_type": "markdown",
   "id": "41e4ae45",
   "metadata": {},
   "source": [
    "#### Sol:- Method overriding allows a 'Child class' to provide a specific implementation of a method that is already provided by its 'Parent class'. When a method in a 'Child class' has the same name, same parameters and same return type as a method in its 'Parent class', then the method in the 'child class' is override the method in the 'Parent class'. "
   ]
  },
  {
   "cell_type": "code",
   "execution_count": 15,
   "id": "10bbb27b",
   "metadata": {},
   "outputs": [],
   "source": [
    "class Tata_Motors:\n",
    "    \n",
    "    def  SUV(self):\n",
    "        return \"Tata Motors is the manufacturer of SUV's\""
   ]
  },
  {
   "cell_type": "code",
   "execution_count": 16,
   "id": "6e695a3d",
   "metadata": {},
   "outputs": [],
   "source": [
    "class Punch(Tata_Motors):\n",
    "    \n",
    "    def SUV(self):\n",
    "        return 'Punch is the micro SUV'"
   ]
  },
  {
   "cell_type": "code",
   "execution_count": 17,
   "id": "ac467b40",
   "metadata": {},
   "outputs": [],
   "source": [
    "class Nexon(Tata_motors):\n",
    "    \n",
    "    def SUV(self):\n",
    "        return 'Nexon is the compact SUV'"
   ]
  },
  {
   "cell_type": "code",
   "execution_count": 18,
   "id": "26da9792",
   "metadata": {},
   "outputs": [],
   "source": [
    "# creating variable for the classes\n",
    "Tata_Motors = Tata_Motors()\n",
    "Punch = Punch()\n",
    "Nexon = Nexon()"
   ]
  },
  {
   "cell_type": "code",
   "execution_count": 19,
   "id": "acd6d8f3",
   "metadata": {},
   "outputs": [
    {
     "data": {
      "text/plain": [
       "\"Tata Motors is the manufacturer of SUV's\""
      ]
     },
     "execution_count": 19,
     "metadata": {},
     "output_type": "execute_result"
    }
   ],
   "source": [
    "Tata_Motors.SUV()"
   ]
  },
  {
   "cell_type": "code",
   "execution_count": 20,
   "id": "a33b52f1",
   "metadata": {},
   "outputs": [
    {
     "data": {
      "text/plain": [
       "'Punch is the micro SUV'"
      ]
     },
     "execution_count": 20,
     "metadata": {},
     "output_type": "execute_result"
    }
   ],
   "source": [
    "Punch.SUV()    # We got different outputs because each 'child class' provides its own implementation of the method,\n",
    "               # this demonstrate the 'method overriding'."
   ]
  },
  {
   "cell_type": "code",
   "execution_count": 21,
   "id": "6ff18bc7",
   "metadata": {},
   "outputs": [
    {
     "data": {
      "text/plain": [
       "'Nexon is the compact SUV'"
      ]
     },
     "execution_count": 21,
     "metadata": {},
     "output_type": "execute_result"
    }
   ],
   "source": [
    "Nexon.SUV()"
   ]
  },
  {
   "cell_type": "code",
   "execution_count": null,
   "id": "5cf747d1",
   "metadata": {},
   "outputs": [],
   "source": []
  }
 ],
 "metadata": {
  "kernelspec": {
   "display_name": "Python 3 (ipykernel)",
   "language": "python",
   "name": "python3"
  },
  "language_info": {
   "codemirror_mode": {
    "name": "ipython",
    "version": 3
   },
   "file_extension": ".py",
   "mimetype": "text/x-python",
   "name": "python",
   "nbconvert_exporter": "python",
   "pygments_lexer": "ipython3",
   "version": "3.10.9"
  }
 },
 "nbformat": 4,
 "nbformat_minor": 5
}
