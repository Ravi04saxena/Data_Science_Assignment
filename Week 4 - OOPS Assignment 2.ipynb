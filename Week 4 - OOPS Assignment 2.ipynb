{
 "cells": [
  {
   "cell_type": "markdown",
   "id": "7e220c96",
   "metadata": {},
   "source": [
    "#### Q1. What is Abstraction in OOps? Explain with an example.\n",
    "#### Sol:- Abstraction is the process of hiding the internal details of an application from the user. Abstraction is used to describe things in simple terms.\n",
    "#### Abstraction hide unnecessary details while exposing the essential features of an object."
   ]
  },
  {
   "cell_type": "code",
   "execution_count": 134,
   "id": "5ee4a80e",
   "metadata": {},
   "outputs": [],
   "source": [
    "import abc\n",
    "class shape():\n",
    "    \n",
    "    @abc.abstractmethod\n",
    "    def area(self):\n",
    "        pass\n",
    "    \n",
    "    @abc.abstractmethod\n",
    "    def perimeter(self):\n",
    "        pass\n",
    "    \n",
    "    @abc.abstractmethod\n",
    "    def volume(self):\n",
    "        pass\n",
    "    \n",
    "class rectangle(shape):\n",
    "    \n",
    "    def __init__(self, length, breadth):\n",
    "        self.length = length\n",
    "        self.breadth = breadth\n",
    "        \n",
    "    def area(self):\n",
    "        return self.length * self.breadth\n",
    "    \n",
    "    def perimeter(self):\n",
    "        return 2 * (self.length + self.breadth)\n",
    "    \n",
    "class circle(shape):\n",
    "    def __init__(self, radius):\n",
    "        self.radius =  radius\n",
    "    \n",
    "    def area(self):\n",
    "        return 3.14 * self.radius**2\n",
    "    \n",
    "    def perimeter(self):\n",
    "        return 2 * 3.14 * self.radius**2\n",
    "    \n",
    "class sphere(shape):\n",
    "    \n",
    "    def __init__(self, radius):\n",
    "        self.radius = radius\n",
    "        \n",
    "    def area(self):\n",
    "        return 4*3.14*self.radius**2\n",
    "    \n",
    "    def volume(self):\n",
    "        return 4/3*3.14*self.radius**3"
   ]
  },
  {
   "cell_type": "code",
   "execution_count": 138,
   "id": "a882f55f",
   "metadata": {},
   "outputs": [],
   "source": [
    "rectangle = rectangle(6,4)"
   ]
  },
  {
   "cell_type": "code",
   "execution_count": 139,
   "id": "bec5372f",
   "metadata": {},
   "outputs": [
    {
     "data": {
      "text/plain": [
       "24"
      ]
     },
     "execution_count": 139,
     "metadata": {},
     "output_type": "execute_result"
    }
   ],
   "source": [
    "rectangle.area()"
   ]
  },
  {
   "cell_type": "code",
   "execution_count": 140,
   "id": "589a3241",
   "metadata": {},
   "outputs": [
    {
     "data": {
      "text/plain": [
       "20"
      ]
     },
     "execution_count": 140,
     "metadata": {},
     "output_type": "execute_result"
    }
   ],
   "source": [
    "rectangle.perimeter()"
   ]
  },
  {
   "cell_type": "code",
   "execution_count": 141,
   "id": "37ece3a9",
   "metadata": {},
   "outputs": [],
   "source": [
    "circle1 = circle(4)"
   ]
  },
  {
   "cell_type": "code",
   "execution_count": 142,
   "id": "8257908b",
   "metadata": {},
   "outputs": [
    {
     "data": {
      "text/plain": [
       "50.24"
      ]
     },
     "execution_count": 142,
     "metadata": {},
     "output_type": "execute_result"
    }
   ],
   "source": [
    "circle1.area()"
   ]
  },
  {
   "cell_type": "code",
   "execution_count": 143,
   "id": "e3283b40",
   "metadata": {},
   "outputs": [
    {
     "data": {
      "text/plain": [
       "100.48"
      ]
     },
     "execution_count": 143,
     "metadata": {},
     "output_type": "execute_result"
    }
   ],
   "source": [
    "circle1.perimeter()"
   ]
  },
  {
   "cell_type": "code",
   "execution_count": 135,
   "id": "82d6beb6",
   "metadata": {},
   "outputs": [],
   "source": [
    "sphere = sphere(4)"
   ]
  },
  {
   "cell_type": "code",
   "execution_count": 136,
   "id": "fed97196",
   "metadata": {},
   "outputs": [
    {
     "data": {
      "text/plain": [
       "200.96"
      ]
     },
     "execution_count": 136,
     "metadata": {},
     "output_type": "execute_result"
    }
   ],
   "source": [
    "sphere.area()"
   ]
  },
  {
   "cell_type": "code",
   "execution_count": 137,
   "id": "d6b2adb5",
   "metadata": {},
   "outputs": [
    {
     "data": {
      "text/plain": [
       "267.94666666666666"
      ]
     },
     "execution_count": 137,
     "metadata": {},
     "output_type": "execute_result"
    }
   ],
   "source": [
    "sphere.volume()"
   ]
  },
  {
   "cell_type": "code",
   "execution_count": null,
   "id": "9596d6b2",
   "metadata": {},
   "outputs": [],
   "source": []
  },
  {
   "cell_type": "markdown",
   "id": "2c15c5c5",
   "metadata": {},
   "source": [
    "#### Q2. Differentiate between Abstraction and Encapsulation. Explain with an example.\n",
    "#### Sol :- Abstraction :- Abstraction hide the complex things and exposing only the necessary parts. It provides a high-level view of an object or system, emphasizing what an object does rather than how it does it.\n",
    "#### Encapsulation :- Encapsulation focuses on bundling the data (attributes or properties) and methods (functions) that operate on that data into a single unit, known as a class. It alloe to restricts access to some of an object's from user, providing data hiding and security."
   ]
  },
  {
   "cell_type": "markdown",
   "id": "01924718",
   "metadata": {},
   "source": [
    "##### Example :- Encapsulation"
   ]
  },
  {
   "cell_type": "code",
   "execution_count": 271,
   "id": "3f709f95",
   "metadata": {},
   "outputs": [],
   "source": [
    "class election:\n",
    "    def __init__(self, name, age):\n",
    "        self.__name = name\n",
    "        self.__age = age\n",
    "        \n",
    "    def set_name(self):\n",
    "        self.__name\n",
    "    \n",
    "    def get_name(self):\n",
    "        return self.__name\n",
    "    \n",
    "    def set_age(self, age):                 # here user access speed only with the help of 'set' function\n",
    "        if self.__age >= 0:\n",
    "            self.__age = age\n",
    "        else:\n",
    "            return \"Age can not be negative\"\n",
    "        \n",
    "    def get_age(self):                        # here user can get the speed only with help of 'get' function\n",
    "        return self.__age\n",
    "    \n",
    "    def is_voting_age(self):\n",
    "        return self.__age >=18"
   ]
  },
  {
   "cell_type": "code",
   "execution_count": 272,
   "id": "aab67887",
   "metadata": {},
   "outputs": [],
   "source": [
    "UP_election = election('Sohan',12)"
   ]
  },
  {
   "cell_type": "code",
   "execution_count": 273,
   "id": "c637db06",
   "metadata": {},
   "outputs": [
    {
     "name": "stdout",
     "output_type": "stream",
     "text": [
      "Name:-  Sohan\n",
      "Age:-  12\n",
      "Not eligible for voting\n"
     ]
    }
   ],
   "source": [
    "print('Name:- ',UP_election.get_name())\n",
    "print('Age:- ',UP_election.get_age())\n",
    "if UP_election.is_voting_age():\n",
    "    print('Eligible for voting')\n",
    "else:\n",
    "    print('Not eligible for voting')"
   ]
  },
  {
   "cell_type": "code",
   "execution_count": 275,
   "id": "e3334202",
   "metadata": {},
   "outputs": [
    {
     "data": {
      "text/plain": [
       "'Age can not be negative'"
      ]
     },
     "execution_count": 275,
     "metadata": {},
     "output_type": "execute_result"
    }
   ],
   "source": [
    "UP_election.set_age(-12)"
   ]
  },
  {
   "cell_type": "markdown",
   "id": "5eff3f66",
   "metadata": {},
   "source": [
    "#### Abstraction:-"
   ]
  },
  {
   "cell_type": "code",
   "execution_count": 291,
   "id": "b4e78a9b",
   "metadata": {},
   "outputs": [],
   "source": [
    "import abc\n",
    "class shape():\n",
    "    \n",
    "    @abc.abstractmethod\n",
    "    def area(self):\n",
    "        pass\n",
    "    \n",
    "    @abc.abstractmethod\n",
    "    def perimeter(self):\n",
    "        pass\n",
    "    \n",
    "class square(shape):\n",
    "    \n",
    "    def __init__(self, side):\n",
    "        self.side = side\n",
    "        \n",
    "    def area(self):\n",
    "        return self.side**2\n",
    "    \n",
    "    def perimeter(self):\n",
    "        return 4 * self.side\n",
    "    \n",
    "class cube(shape):\n",
    "    def __init__(self, side):\n",
    "        self.side =  side\n",
    "    \n",
    "    def area(self):\n",
    "        return 6*self.side**2\n",
    "    \n",
    "    def perimeter(self):\n",
    "        return 12 * self.side"
   ]
  },
  {
   "cell_type": "code",
   "execution_count": 286,
   "id": "f0880d0a",
   "metadata": {},
   "outputs": [],
   "source": [
    "obj_square = square(2)"
   ]
  },
  {
   "cell_type": "code",
   "execution_count": 287,
   "id": "ce9fdcfe",
   "metadata": {},
   "outputs": [
    {
     "data": {
      "text/plain": [
       "4"
      ]
     },
     "execution_count": 287,
     "metadata": {},
     "output_type": "execute_result"
    }
   ],
   "source": [
    "obj_square.area()"
   ]
  },
  {
   "cell_type": "code",
   "execution_count": 288,
   "id": "01b3c5a5",
   "metadata": {},
   "outputs": [
    {
     "data": {
      "text/plain": [
       "8"
      ]
     },
     "execution_count": 288,
     "metadata": {},
     "output_type": "execute_result"
    }
   ],
   "source": [
    "obj_square.perimeter()"
   ]
  },
  {
   "cell_type": "code",
   "execution_count": 296,
   "id": "6f707a1b",
   "metadata": {},
   "outputs": [],
   "source": [
    "obj_cube = cube(3)"
   ]
  },
  {
   "cell_type": "code",
   "execution_count": 297,
   "id": "107b655f",
   "metadata": {},
   "outputs": [
    {
     "data": {
      "text/plain": [
       "54"
      ]
     },
     "execution_count": 297,
     "metadata": {},
     "output_type": "execute_result"
    }
   ],
   "source": [
    "obj_cube.area()"
   ]
  },
  {
   "cell_type": "code",
   "execution_count": 298,
   "id": "851b93f6",
   "metadata": {},
   "outputs": [
    {
     "data": {
      "text/plain": [
       "36"
      ]
     },
     "execution_count": 298,
     "metadata": {},
     "output_type": "execute_result"
    }
   ],
   "source": [
    "obj_cube.perimeter()"
   ]
  },
  {
   "cell_type": "code",
   "execution_count": null,
   "id": "f6166c1d",
   "metadata": {},
   "outputs": [],
   "source": []
  },
  {
   "cell_type": "markdown",
   "id": "cde8d036",
   "metadata": {},
   "source": [
    "#### Q3. What is abc module in python? Why is it used?\n",
    "#### Sol:- The abc module in Python stands for \"Abstract Base Classes.\" It is used to define abstract base classes, which are classes that cannot be instantiated directly but serve as a template for other classes.\n",
    "#### The primary purpose of the abc module is to promote and enforce abstraction, ensuring that classes adhere to a certain structure or interface. It helps in achieving better code organization and design, and it provides clear guidelines for derived classes.\n",
    "#### Uses:-\n",
    "#### 1.Abstract base classes enable polymorphism, allowing you to work with objects of different classes through a common interface, making your code more flexible.\n",
    "#### 2.Abstract base classes help in organizing your code by grouping related classes under a common interface"
   ]
  },
  {
   "cell_type": "code",
   "execution_count": null,
   "id": "4980de01",
   "metadata": {},
   "outputs": [],
   "source": []
  },
  {
   "cell_type": "markdown",
   "id": "76a1bafd",
   "metadata": {},
   "source": [
    "#### Q4. How can we achieve data abstraction?\n",
    "#### Sol:- you can achieve data abstraction through the use of classes, access control modifiers (like public, private, protected), and providing well-defined interfaces.\n",
    "#### private: The member is only accessible within the class.\n",
    "#### protected: The member is accessible within the class and its subclasses.\n",
    "#### public: The member is accessible from anywhere.\n",
    "#### These modifiers help in controlling how data is accessed and modified, thus achieving data abstraction."
   ]
  },
  {
   "cell_type": "code",
   "execution_count": null,
   "id": "0a405125",
   "metadata": {},
   "outputs": [],
   "source": []
  },
  {
   "cell_type": "markdown",
   "id": "62aedc27",
   "metadata": {},
   "source": [
    "#### Q5. Can we create an instance of an abstract class? Explain your answer.\n",
    "#### Sol:- No, we cannot create instance of an abstract class. when you try to create an instance of AbstractClass, Python will raise a TypeError because you can't create objects of abstract classes.\n",
    "#### Abstract classes are designed to be incomplete and serve as templates for other classes to derive from"
   ]
  },
  {
   "cell_type": "code",
   "execution_count": 310,
   "id": "66591f65",
   "metadata": {},
   "outputs": [],
   "source": [
    "from abc import ABC, abstractmethod\n",
    "\n",
    "class AbstractClass(ABC):\n",
    "    @abstractmethod\n",
    "    def abstract_method(self):\n",
    "        pass"
   ]
  },
  {
   "cell_type": "code",
   "execution_count": 311,
   "id": "b2468a74",
   "metadata": {},
   "outputs": [
    {
     "ename": "TypeError",
     "evalue": "Can't instantiate abstract class AbstractClass with abstract method abstract_method",
     "output_type": "error",
     "traceback": [
      "\u001b[1;31m---------------------------------------------------------------------------\u001b[0m",
      "\u001b[1;31mTypeError\u001b[0m                                 Traceback (most recent call last)",
      "Cell \u001b[1;32mIn[311], line 1\u001b[0m\n\u001b[1;32m----> 1\u001b[0m obj \u001b[38;5;241m=\u001b[39m \u001b[43mAbstractClass\u001b[49m\u001b[43m(\u001b[49m\u001b[43m)\u001b[49m\n",
      "\u001b[1;31mTypeError\u001b[0m: Can't instantiate abstract class AbstractClass with abstract method abstract_method"
     ]
    }
   ],
   "source": [
    "obj = AbstractClass()"
   ]
  },
  {
   "cell_type": "code",
   "execution_count": null,
   "id": "957c44f6",
   "metadata": {},
   "outputs": [],
   "source": []
  },
  {
   "cell_type": "code",
   "execution_count": null,
   "id": "54d98110",
   "metadata": {},
   "outputs": [],
   "source": []
  },
  {
   "cell_type": "code",
   "execution_count": null,
   "id": "22ac722c",
   "metadata": {},
   "outputs": [],
   "source": []
  }
 ],
 "metadata": {
  "kernelspec": {
   "display_name": "Python 3 (ipykernel)",
   "language": "python",
   "name": "python3"
  },
  "language_info": {
   "codemirror_mode": {
    "name": "ipython",
    "version": 3
   },
   "file_extension": ".py",
   "mimetype": "text/x-python",
   "name": "python",
   "nbconvert_exporter": "python",
   "pygments_lexer": "ipython3",
   "version": "3.10.9"
  }
 },
 "nbformat": 4,
 "nbformat_minor": 5
}
