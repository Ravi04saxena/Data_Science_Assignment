{
 "cells": [
  {
   "cell_type": "markdown",
   "id": "049d008d",
   "metadata": {},
   "source": [
    "### Q1. How do you comment code in Python? What are the different types of comments?\n",
    "\n",
    "#### Sol:- Single line comment - It is used to add comment on a single line, we can use '#'(aestrick) symbol to create a comment."
   ]
  },
  {
   "cell_type": "markdown",
   "id": "b6a8c523",
   "metadata": {},
   "source": [
    "### Q2. What are variables in Python? How do you declare and assign values to variables?\n",
    "\n",
    "#### Sol:- Variables are used to store the data or values. "
   ]
  },
  {
   "cell_type": "code",
   "execution_count": 29,
   "id": "6015fd43",
   "metadata": {},
   "outputs": [],
   "source": [
    "variable_name = 'value'"
   ]
  },
  {
   "cell_type": "markdown",
   "id": "d69c34b4",
   "metadata": {},
   "source": [
    "### Q3. How do you convert one data type to another in Python?\n",
    "\n",
    "#### sol:- with the help of 'type casting' method, below is the example for the same -"
   ]
  },
  {
   "cell_type": "code",
   "execution_count": 1,
   "id": "dfac7d66",
   "metadata": {},
   "outputs": [],
   "source": [
    "x = 4"
   ]
  },
  {
   "cell_type": "code",
   "execution_count": 2,
   "id": "a142388b",
   "metadata": {},
   "outputs": [
    {
     "data": {
      "text/plain": [
       "int"
      ]
     },
     "execution_count": 2,
     "metadata": {},
     "output_type": "execute_result"
    }
   ],
   "source": [
    "type(x)"
   ]
  },
  {
   "cell_type": "code",
   "execution_count": 3,
   "id": "ec923bcb",
   "metadata": {},
   "outputs": [],
   "source": [
    "x = str(4)"
   ]
  },
  {
   "cell_type": "code",
   "execution_count": 4,
   "id": "35051056",
   "metadata": {},
   "outputs": [
    {
     "data": {
      "text/plain": [
       "str"
      ]
     },
     "execution_count": 4,
     "metadata": {},
     "output_type": "execute_result"
    }
   ],
   "source": [
    "type(x)"
   ]
  },
  {
   "cell_type": "markdown",
   "id": "b38549b7",
   "metadata": {},
   "source": [
    "### Q4. How do you write and execute a Python script from the command line?\n",
    "\n",
    "#### sol.:- First installed Python and configured correctly on your system\n",
    "####    (a). Open notepad\n",
    "####    (b). In notepad write your Python code. For example - 'Hello World' and save the file with '.py' extension.\n",
    "####    (c). Open command line, navigate to the directory where your Python file is located by using 'cd' command.\n",
    "####    (d). To execute your Python script, use the 'python' command followed by the script's filename \n",
    "####        for eg:- python filename.py"
   ]
  },
  {
   "cell_type": "markdown",
   "id": "bc9e6b60",
   "metadata": {},
   "source": [
    "### Q5. Given a list my_list = [1, 2, 3, 4, 5], write the code to slice the list and obtain the sub-list [2, 3].\n",
    "\n",
    "#### sol:- "
   ]
  },
  {
   "cell_type": "code",
   "execution_count": 5,
   "id": "60ba4992",
   "metadata": {},
   "outputs": [],
   "source": [
    "my_list = [1, 2, 3, 4, 5]"
   ]
  },
  {
   "cell_type": "code",
   "execution_count": 6,
   "id": "59903c7d",
   "metadata": {},
   "outputs": [
    {
     "data": {
      "text/plain": [
       "[2, 3]"
      ]
     },
     "execution_count": 6,
     "metadata": {},
     "output_type": "execute_result"
    }
   ],
   "source": [
    "# Solution:-\n",
    "my_list[1:3]"
   ]
  },
  {
   "cell_type": "markdown",
   "id": "66e2b407",
   "metadata": {},
   "source": [
    "### Q6. What is a complex number in mathematics, and how is it represented in Python?"
   ]
  },
  {
   "cell_type": "markdown",
   "id": "9f1d3884",
   "metadata": {},
   "source": [
    "#### Sol :- Complex number is a combination of real and imaginary number, for eg:- (a + bi), where 'a' and 'b' are real number & 'i' is imaginary unit. In Python, complex number are represented using 'complex' data type, below is the example -"
   ]
  },
  {
   "cell_type": "code",
   "execution_count": 11,
   "id": "abee0a7b",
   "metadata": {},
   "outputs": [],
   "source": [
    "c1 = 2+3j"
   ]
  },
  {
   "cell_type": "code",
   "execution_count": 12,
   "id": "64b2be14",
   "metadata": {},
   "outputs": [
    {
     "data": {
      "text/plain": [
       "(2+3j)"
      ]
     },
     "execution_count": 12,
     "metadata": {},
     "output_type": "execute_result"
    }
   ],
   "source": [
    "c1"
   ]
  },
  {
   "cell_type": "code",
   "execution_count": 9,
   "id": "4e03eb65",
   "metadata": {},
   "outputs": [],
   "source": [
    "c2 = complex(2,3)"
   ]
  },
  {
   "cell_type": "code",
   "execution_count": 10,
   "id": "25c41165",
   "metadata": {},
   "outputs": [
    {
     "data": {
      "text/plain": [
       "(2+3j)"
      ]
     },
     "execution_count": 10,
     "metadata": {},
     "output_type": "execute_result"
    }
   ],
   "source": [
    "c2"
   ]
  },
  {
   "cell_type": "code",
   "execution_count": 13,
   "id": "79b8fdcf",
   "metadata": {},
   "outputs": [
    {
     "data": {
      "text/plain": [
       "complex"
      ]
     },
     "execution_count": 13,
     "metadata": {},
     "output_type": "execute_result"
    }
   ],
   "source": [
    "type(c1)"
   ]
  },
  {
   "cell_type": "code",
   "execution_count": 14,
   "id": "7cb3ca8f",
   "metadata": {},
   "outputs": [
    {
     "data": {
      "text/plain": [
       "complex"
      ]
     },
     "execution_count": 14,
     "metadata": {},
     "output_type": "execute_result"
    }
   ],
   "source": [
    "type(c2)"
   ]
  },
  {
   "cell_type": "markdown",
   "id": "07f7e142",
   "metadata": {},
   "source": [
    "### 7. What is the correct way to declare a variable named age and assign the value 25 to it?\n"
   ]
  },
  {
   "cell_type": "code",
   "execution_count": 15,
   "id": "f25b1db0",
   "metadata": {},
   "outputs": [],
   "source": [
    "# Sol:-\n",
    "age = 25"
   ]
  },
  {
   "cell_type": "markdown",
   "id": "ecfff7eb",
   "metadata": {},
   "source": [
    "### Q8. Declare a variable named price and assign the value 9.99 to it. What data type does this variable belong to?\n"
   ]
  },
  {
   "cell_type": "code",
   "execution_count": 16,
   "id": "c9f95183",
   "metadata": {},
   "outputs": [],
   "source": [
    "# Sol:-\n",
    "price = 9.99"
   ]
  },
  {
   "cell_type": "code",
   "execution_count": 17,
   "id": "d91b5a30",
   "metadata": {},
   "outputs": [
    {
     "data": {
      "text/plain": [
       "float"
      ]
     },
     "execution_count": 17,
     "metadata": {},
     "output_type": "execute_result"
    }
   ],
   "source": [
    "type(price)"
   ]
  },
  {
   "cell_type": "markdown",
   "id": "14484fd3",
   "metadata": {},
   "source": [
    "### Q9. Create a variable named name and assign your full name to it as a string. How would you print the value of this variable?\n"
   ]
  },
  {
   "cell_type": "code",
   "execution_count": 20,
   "id": "ed9e273c",
   "metadata": {},
   "outputs": [
    {
     "name": "stdout",
     "output_type": "stream",
     "text": [
      "Ravi Saxena\n"
     ]
    }
   ],
   "source": [
    "# Sol:-\n",
    "name = str('Ravi Saxena')\n",
    "print(name)"
   ]
  },
  {
   "cell_type": "code",
   "execution_count": 21,
   "id": "b2a9dc18",
   "metadata": {},
   "outputs": [
    {
     "name": "stdout",
     "output_type": "stream",
     "text": [
      "Ravi Saxena\n"
     ]
    }
   ],
   "source": [
    "# OR\n",
    "name = 'Ravi Saxena'\n",
    "print(name)"
   ]
  },
  {
   "cell_type": "markdown",
   "id": "72cdd6a6",
   "metadata": {},
   "source": [
    "### Q10. Given the string \"Hello, World!\", extract the substring \"World\".\n"
   ]
  },
  {
   "cell_type": "code",
   "execution_count": 22,
   "id": "6be51bb1",
   "metadata": {},
   "outputs": [],
   "source": [
    "# Sol:-\n",
    "str = \"Hello, World\""
   ]
  },
  {
   "cell_type": "code",
   "execution_count": 23,
   "id": "91b98739",
   "metadata": {},
   "outputs": [
    {
     "data": {
      "text/plain": [
       "'World'"
      ]
     },
     "execution_count": 23,
     "metadata": {},
     "output_type": "execute_result"
    }
   ],
   "source": [
    "str[7:12]"
   ]
  },
  {
   "cell_type": "markdown",
   "id": "02c84997",
   "metadata": {},
   "source": [
    "### Q11. Create a variable named \"is_student\" and assign it a boolean value indicating whether you are currently a student or not."
   ]
  },
  {
   "cell_type": "code",
   "execution_count": 24,
   "id": "abf00d68",
   "metadata": {},
   "outputs": [],
   "source": [
    "# Sol:- \n",
    "is_student = False"
   ]
  },
  {
   "cell_type": "code",
   "execution_count": null,
   "id": "766ddc34",
   "metadata": {},
   "outputs": [],
   "source": []
  }
 ],
 "metadata": {
  "kernelspec": {
   "display_name": "Python 3 (ipykernel)",
   "language": "python",
   "name": "python3"
  },
  "language_info": {
   "codemirror_mode": {
    "name": "ipython",
    "version": 3
   },
   "file_extension": ".py",
   "mimetype": "text/x-python",
   "name": "python",
   "nbconvert_exporter": "python",
   "pygments_lexer": "ipython3",
   "version": "3.10.9"
  }
 },
 "nbformat": 4,
 "nbformat_minor": 5
}
