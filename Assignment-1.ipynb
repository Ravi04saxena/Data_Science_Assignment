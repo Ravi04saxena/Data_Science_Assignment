{
 "cells": [
  {
   "cell_type": "markdown",
   "id": "f98ce1e5",
   "metadata": {},
   "source": [
    "### Q1. Create one variable containing following type of data:"
   ]
  },
  {
   "cell_type": "markdown",
   "id": "fac4fd5b",
   "metadata": {},
   "source": [
    "#### (i) String"
   ]
  },
  {
   "cell_type": "code",
   "execution_count": 17,
   "id": "27d71a06",
   "metadata": {},
   "outputs": [
    {
     "data": {
      "text/plain": [
       "'Hello teacher, this is my first code in Python'"
      ]
     },
     "execution_count": 17,
     "metadata": {},
     "output_type": "execute_result"
    }
   ],
   "source": [
    "my_string = 'Hello teacher, this is my first code in Python'\n",
    "my_string"
   ]
  },
  {
   "cell_type": "markdown",
   "id": "06525413",
   "metadata": {},
   "source": [
    "#### (ii) list"
   ]
  },
  {
   "cell_type": "code",
   "execution_count": 41,
   "id": "4e656279",
   "metadata": {},
   "outputs": [
    {
     "data": {
      "text/plain": [
       "[1, 2, 3, True, 'Ravi', 69.7, (1+2j)]"
      ]
     },
     "execution_count": 41,
     "metadata": {},
     "output_type": "execute_result"
    }
   ],
   "source": [
    "my_list = [1,2,3,True,'Ravi',69.70,1+2j]\n",
    "my_list"
   ]
  },
  {
   "cell_type": "markdown",
   "id": "25582ed5",
   "metadata": {},
   "source": [
    "#### (iii) float"
   ]
  },
  {
   "cell_type": "code",
   "execution_count": 19,
   "id": "0bfb2189",
   "metadata": {},
   "outputs": [
    {
     "data": {
      "text/plain": [
       "95.4"
      ]
     },
     "execution_count": 19,
     "metadata": {},
     "output_type": "execute_result"
    }
   ],
   "source": [
    "my_float = 95.40\n",
    "my_float"
   ]
  },
  {
   "cell_type": "markdown",
   "id": "45309262",
   "metadata": {},
   "source": [
    "#### (iv) tuple"
   ]
  },
  {
   "cell_type": "code",
   "execution_count": 42,
   "id": "a9a28593",
   "metadata": {},
   "outputs": [
    {
     "data": {
      "text/plain": [
       "(1, 2.5, 'Python', False, (2+5j))"
      ]
     },
     "execution_count": 42,
     "metadata": {},
     "output_type": "execute_result"
    }
   ],
   "source": [
    "my_tuple = (1,2.5,'Python',False, 2+5j)\n",
    "my_tuple"
   ]
  },
  {
   "cell_type": "markdown",
   "id": "9456d3fd",
   "metadata": {},
   "source": [
    "### Q2. Given are some following variables containing data:\n",
    " (i) var1 = ‘ ‘ \n",
    " (ii) var2 = ‘[ DS , ML , Python]’ \n",
    " (iii) var3 = [ ‘DS’ , ’ML’ , ‘Python’ ] \n",
    " (iv) var4 = 1.\n",
    "\n",
    "#### What will be the data type of the above given variable."
   ]
  },
  {
   "cell_type": "markdown",
   "id": "eb7d757f",
   "metadata": {},
   "source": [
    "#### (i) var1 = ‘ ‘"
   ]
  },
  {
   "cell_type": "code",
   "execution_count": 23,
   "id": "3b831a30",
   "metadata": {},
   "outputs": [],
   "source": [
    "var1 = ''"
   ]
  },
  {
   "cell_type": "code",
   "execution_count": 24,
   "id": "06b6d403",
   "metadata": {},
   "outputs": [
    {
     "data": {
      "text/plain": [
       "str"
      ]
     },
     "execution_count": 24,
     "metadata": {},
     "output_type": "execute_result"
    }
   ],
   "source": [
    "type(var1)"
   ]
  },
  {
   "cell_type": "markdown",
   "id": "cd632301",
   "metadata": {},
   "source": [
    "#### (ii) var2 = ‘[ DS , ML , Python]’"
   ]
  },
  {
   "cell_type": "code",
   "execution_count": 26,
   "id": "f5ca6d57",
   "metadata": {},
   "outputs": [],
   "source": [
    "var2 = '[ DS , ML , Python]'"
   ]
  },
  {
   "cell_type": "code",
   "execution_count": 27,
   "id": "dc8f9360",
   "metadata": {},
   "outputs": [
    {
     "data": {
      "text/plain": [
       "str"
      ]
     },
     "execution_count": 27,
     "metadata": {},
     "output_type": "execute_result"
    }
   ],
   "source": [
    "type(var2)"
   ]
  },
  {
   "cell_type": "markdown",
   "id": "a09bd4be",
   "metadata": {},
   "source": [
    "#### (iii) var3 = [ ‘DS’ , ’ML’ , ‘Python’ ]"
   ]
  },
  {
   "cell_type": "code",
   "execution_count": 28,
   "id": "1250ef15",
   "metadata": {},
   "outputs": [],
   "source": [
    "var3 = [ 'DS' , 'ML' , 'Python' ]"
   ]
  },
  {
   "cell_type": "code",
   "execution_count": 29,
   "id": "9cfc4302",
   "metadata": {},
   "outputs": [
    {
     "data": {
      "text/plain": [
       "list"
      ]
     },
     "execution_count": 29,
     "metadata": {},
     "output_type": "execute_result"
    }
   ],
   "source": [
    "type(var3)"
   ]
  },
  {
   "cell_type": "markdown",
   "id": "a69a0a83",
   "metadata": {},
   "source": [
    "#### (iv) var4 = 1"
   ]
  },
  {
   "cell_type": "code",
   "execution_count": 30,
   "id": "d9b16ff8",
   "metadata": {},
   "outputs": [],
   "source": [
    "var4 = 1"
   ]
  },
  {
   "cell_type": "code",
   "execution_count": 31,
   "id": "62aca4e8",
   "metadata": {},
   "outputs": [
    {
     "data": {
      "text/plain": [
       "int"
      ]
     },
     "execution_count": 31,
     "metadata": {},
     "output_type": "execute_result"
    }
   ],
   "source": [
    "type(var4)"
   ]
  },
  {
   "cell_type": "markdown",
   "id": "9d2f2e2c",
   "metadata": {},
   "source": [
    "### Q3. Explain the use of the following operators using an example:\n",
    "#####  (i) /\n",
    "##### (ii) %\n",
    "##### (iii) //\n",
    "##### (iv) **"
   ]
  },
  {
   "cell_type": "markdown",
   "id": "7baac063",
   "metadata": {},
   "source": [
    "#### (i) /"
   ]
  },
  {
   "cell_type": "code",
   "execution_count": 34,
   "id": "a20b927d",
   "metadata": {},
   "outputs": [
    {
     "name": "stdout",
     "output_type": "stream",
     "text": [
      "5.0\n"
     ]
    }
   ],
   "source": [
    "# / is the symbol of Divison and used to divide the number. It is a Arithmetic operator. for example\n",
    "a = 10\n",
    "b = 2\n",
    "print(a/b)"
   ]
  },
  {
   "cell_type": "markdown",
   "id": "35f2c859",
   "metadata": {},
   "source": [
    "##### (ii) %"
   ]
  },
  {
   "cell_type": "code",
   "execution_count": 37,
   "id": "38e30538",
   "metadata": {},
   "outputs": [
    {
     "name": "stdout",
     "output_type": "stream",
     "text": [
      "1\n"
     ]
    }
   ],
   "source": [
    "# % is the symbol of Modulus, it returns remainder. It is a Arithmetic operator. for example - \n",
    "\n",
    "a = 7\n",
    "b = 2\n",
    "print(a%b)"
   ]
  },
  {
   "cell_type": "markdown",
   "id": "424edb4f",
   "metadata": {},
   "source": [
    "##### (iii) //"
   ]
  },
  {
   "cell_type": "code",
   "execution_count": 38,
   "id": "eb7272b1",
   "metadata": {},
   "outputs": [
    {
     "name": "stdout",
     "output_type": "stream",
     "text": [
      "3\n"
     ]
    }
   ],
   "source": [
    "# // is the symbol of floor division. It divides two numbers and rounds the result down to the nearest integer, \n",
    "# and it returns an integer result without any decimal places. for example -\n",
    "\n",
    "a = 7\n",
    "b = 2\n",
    "print(a//b)"
   ]
  },
  {
   "cell_type": "markdown",
   "id": "f8f7347f",
   "metadata": {},
   "source": [
    "##### (iv) **"
   ]
  },
  {
   "cell_type": "code",
   "execution_count": 40,
   "id": "83e751a3",
   "metadata": {},
   "outputs": [
    {
     "name": "stdout",
     "output_type": "stream",
     "text": [
      "25\n"
     ]
    }
   ],
   "source": [
    "# ** is symbol Exponentiation(Power). It allows you to raise a number to the power of another number. for example - \n",
    "\n",
    "a = 5\n",
    "b = 2\n",
    "print(a**b)"
   ]
  },
  {
   "cell_type": "markdown",
   "id": "0e84f54b",
   "metadata": {},
   "source": [
    "### Q4. Create a list of length 10 of your choice containing multiple types of data. Using for loop print the\n",
    "### element and its data type."
   ]
  },
  {
   "cell_type": "code",
   "execution_count": 52,
   "id": "f6b5a56a",
   "metadata": {},
   "outputs": [
    {
     "data": {
      "text/plain": [
       "10"
      ]
     },
     "execution_count": 52,
     "metadata": {},
     "output_type": "execute_result"
    }
   ],
   "source": [
    "list1 = [1,5,8,2.5,100,'Joy','Ravi',True,False,5+2j]\n",
    "len(list1)"
   ]
  },
  {
   "cell_type": "code",
   "execution_count": 53,
   "id": "fa5281ca",
   "metadata": {},
   "outputs": [
    {
     "name": "stdout",
     "output_type": "stream",
     "text": [
      "1\n",
      "5\n",
      "8\n",
      "2.5\n",
      "100\n",
      "Joy\n",
      "Ravi\n",
      "True\n",
      "False\n",
      "(5+2j)\n"
     ]
    }
   ],
   "source": [
    "for i in list1:\n",
    "    print(i)"
   ]
  },
  {
   "cell_type": "markdown",
   "id": "67b2d8f9",
   "metadata": {},
   "source": [
    "### Q5. Using a while loop, verify if the number A is purely divisible by number B and if so then how many\n",
    "### times it can be divisible."
   ]
  },
  {
   "cell_type": "code",
   "execution_count": 185,
   "id": "bf075481",
   "metadata": {},
   "outputs": [
    {
     "name": "stdout",
     "output_type": "stream",
     "text": [
      "4.0 times 'A' is purely divisible by 'B'\n"
     ]
    }
   ],
   "source": [
    "# A = int(input(\"Enter value of A : \"))\n",
    "# B = int(input(\"Enter value of B : \"))\n",
    "A = 20\n",
    "B = 5\n",
    "while A%B==0:\n",
    "    A=A/B\n",
    "    print(f\"{A} times 'A' is purely divisible by 'B'\")"
   ]
  },
  {
   "cell_type": "markdown",
   "id": "79c5bfb0",
   "metadata": {},
   "source": [
    "### Q6. Create a list containing 25 int type data. Using for loop and if-else condition print if the element is\n",
    "### divisible by 3 or not."
   ]
  },
  {
   "cell_type": "code",
   "execution_count": 196,
   "id": "1aee59c8",
   "metadata": {},
   "outputs": [
    {
     "name": "stdout",
     "output_type": "stream",
     "text": [
      "3 is divisible by 3\n",
      "21 is divisible by 3\n",
      "37 is not divisible by 3\n",
      "45 is divisible by 3\n",
      "51 is divisible by 3\n",
      "64 is not divisible by 3\n",
      "77 is not divisible by 3\n",
      "81 is divisible by 3\n",
      "96 is divisible by 3\n",
      "102 is divisible by 3\n",
      "111 is divisible by 3\n",
      "121 is not divisible by 3\n",
      "113 is not divisible by 3\n",
      "141 is divisible by 3\n",
      "156 is divisible by 3\n",
      "126 is divisible by 3\n",
      "157 is not divisible by 3\n",
      "168 is divisible by 3\n",
      "190 is not divisible by 3\n",
      "210 is divisible by 3\n",
      "215 is not divisible by 3\n",
      "220 is not divisible by 3\n",
      "235 is not divisible by 3\n",
      "244 is not divisible by 3\n",
      "205 is not divisible by 3\n"
     ]
    }
   ],
   "source": [
    "list1=[3,21,37,45,51,64,77,81,96,102,111,121,113,141,156,126,157,168,190,210,215,220,235,244,205]\n",
    "for i in list1:\n",
    "    if i%3==0:\n",
    "        print(f\"{i} is divisible by 3\")\n",
    "    else:\n",
    "        print(f\"{i} is not divisible by 3\")\n",
    "        "
   ]
  },
  {
   "cell_type": "code",
   "execution_count": 197,
   "id": "10467f6c",
   "metadata": {},
   "outputs": [
    {
     "data": {
      "text/plain": [
       "25"
      ]
     },
     "execution_count": 197,
     "metadata": {},
     "output_type": "execute_result"
    }
   ],
   "source": [
    "len(list1)"
   ]
  },
  {
   "cell_type": "markdown",
   "id": "e92be621",
   "metadata": {},
   "source": [
    "### Q7. What do you understand about mutable and immutable data types? Give examples for both showing\n",
    "### this property."
   ]
  },
  {
   "cell_type": "markdown",
   "id": "d3b7da52",
   "metadata": {},
   "source": [
    "#### Immutable"
   ]
  },
  {
   "cell_type": "code",
   "execution_count": 207,
   "id": "089583be",
   "metadata": {},
   "outputs": [],
   "source": [
    "# In Immutable object, we cannot change the value or data at particular place or index. for example - 'String'\n",
    "s1 = 'Ravi'"
   ]
  },
  {
   "cell_type": "code",
   "execution_count": 208,
   "id": "28b79ad4",
   "metadata": {},
   "outputs": [
    {
     "data": {
      "text/plain": [
       "'R'"
      ]
     },
     "execution_count": 208,
     "metadata": {},
     "output_type": "execute_result"
    }
   ],
   "source": [
    "s1[0]"
   ]
  },
  {
   "cell_type": "code",
   "execution_count": 206,
   "id": "29132f77",
   "metadata": {},
   "outputs": [
    {
     "ename": "TypeError",
     "evalue": "'str' object does not support item assignment",
     "output_type": "error",
     "traceback": [
      "\u001b[1;31m---------------------------------------------------------------------------\u001b[0m",
      "\u001b[1;31mTypeError\u001b[0m                                 Traceback (most recent call last)",
      "Cell \u001b[1;32mIn[206], line 2\u001b[0m\n\u001b[0;32m      1\u001b[0m \u001b[38;5;66;03m# replace 'R' with 'K'\u001b[39;00m\n\u001b[1;32m----> 2\u001b[0m s1[\u001b[38;5;241m0\u001b[39m] \u001b[38;5;241m=\u001b[39m \u001b[38;5;124m'\u001b[39m\u001b[38;5;124mS\u001b[39m\u001b[38;5;124m'\u001b[39m\n",
      "\u001b[1;31mTypeError\u001b[0m: 'str' object does not support item assignment"
     ]
    }
   ],
   "source": [
    "# replace 'R' with 'K'\n",
    "s1[0] = 'S'"
   ]
  },
  {
   "cell_type": "markdown",
   "id": "2d10e887",
   "metadata": {},
   "source": [
    "#### Mutable"
   ]
  },
  {
   "cell_type": "code",
   "execution_count": 213,
   "id": "724208d2",
   "metadata": {},
   "outputs": [
    {
     "name": "stdout",
     "output_type": "stream",
     "text": [
      "['a', 'e', 'i', 'o', 'u']\n"
     ]
    }
   ],
   "source": [
    "# In Mutable object, we can change the value or data at particular place or index. for example - \"List\"\n",
    "l1 = ['a','e','i','o','u']\n",
    "print(l1)"
   ]
  },
  {
   "cell_type": "code",
   "execution_count": 214,
   "id": "ebd83450",
   "metadata": {},
   "outputs": [
    {
     "data": {
      "text/plain": [
       "'a'"
      ]
     },
     "execution_count": 214,
     "metadata": {},
     "output_type": "execute_result"
    }
   ],
   "source": [
    "l1[0]"
   ]
  },
  {
   "cell_type": "code",
   "execution_count": 215,
   "id": "92d7888f",
   "metadata": {},
   "outputs": [
    {
     "name": "stdout",
     "output_type": "stream",
     "text": [
      "['b', 'e', 'i', 'o', 'u']\n"
     ]
    }
   ],
   "source": [
    "# Replace 'a' with 'b'\n",
    "l1[0] = 'b'\n",
    "print(l1)"
   ]
  },
  {
   "cell_type": "code",
   "execution_count": null,
   "id": "efdbf7d5",
   "metadata": {},
   "outputs": [],
   "source": []
  }
 ],
 "metadata": {
  "kernelspec": {
   "display_name": "Python 3 (ipykernel)",
   "language": "python",
   "name": "python3"
  },
  "language_info": {
   "codemirror_mode": {
    "name": "ipython",
    "version": 3
   },
   "file_extension": ".py",
   "mimetype": "text/x-python",
   "name": "python",
   "nbconvert_exporter": "python",
   "pygments_lexer": "ipython3",
   "version": "3.10.9"
  }
 },
 "nbformat": 4,
 "nbformat_minor": 5
}
