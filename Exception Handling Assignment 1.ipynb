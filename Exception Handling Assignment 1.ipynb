{
 "cells": [
  {
   "cell_type": "markdown",
   "id": "1807aa53",
   "metadata": {},
   "source": [
    "#### Q1. What is an Exception in python ? Write the difference between Exceptions and Syntax errors.\n",
    "#### Sol. -->Exceptions are an integral part of Python's error-handling mechanism. They provide a way to catch and handle errors, allowing you to write code that can recover from unexpected situations or display meaningful error messages to users.\n",
    "#### -->When an exception occurs, Python raises an exception object, which contains information about the error.\n",
    "#### -->Below is the some common exceptions in Python include :- \n",
    "a). NameError: Raised when you try to access a variable or function that doesn't exist.\n",
    "\n",
    "b). TypeError: Raised when you use a variable or operator with an inappropriate data type.\n",
    "\n",
    "c). ValueError: Raised when a function receives an argument of the correct data type but an inappropriate value.\n",
    "\n",
    "d). ZeroDivisionError: Raised when you attempt to divide by zero.\n",
    "\n",
    "e). FileNotFoundError: Raised when you try to open or access a file that doesn't exist.\n",
    "\n",
    "f). IndexError: Raised when you try to access an index that is out of range for a list or other iterable.\n",
    "\n",
    "g). KeyError: Raised when you try to access a dictionary key that doesn't exist.\n",
    "\n",
    "h). AttributeError: Raised when you try to access an attribute that doesn't exist for an object.\n",
    "\n",
    "#### --> Difference between Exceptions and syntax -\n",
    "a). Syntax Error: Syntax errors are related to the structure and grammar of your Python code. They occur when you write code that violates Python's syntax rules, making it impossible for the interpreter to understand and execute your program. Examples include missing colons, incorrect indentation, or using undefined variables.\n",
    "\n",
    "Exceptions : Exceptions, on the other hand, are runtime errors that occur during the execution of a program. They typically result from unexpected conditions or problems that arise while the program is running, such as dividing by zero, attempting to access a non-existent file, or encountering a data type mismatch.\n",
    "\n",
    "b). Syntax Error: Syntax errors are detected by the Python interpreter before your program starts executing. If your code contains a syntax error, Python will not run your program, and you will receive an error message immediately.\n",
    "\n",
    "Exception: Exceptions occur during the execution of the program. They are not necessarily known in advance and can be caused by various dynamic factors while the program is running.\n",
    "\n",
    "c). Syntax Error: You need to fix syntax errors in your code before you can run the program. These errors are usually caught by the interpreter and displayed as error messages, making it clear where the issue is located.\n",
    "\n",
    "Exception: Exceptions can be handled using try-except blocks. You can anticipate potential exceptions, catch them, and implement error-handling code to gracefully recover from the error, display meaningful messages, or take alternative actions.\n",
    "\n",
    "d). Syntax Error: Examples of syntax errors include forgetting to close a parenthesis, using an invalid variable name, or having improper indentation.\n",
    "\n",
    "Exception: Examples of exceptions include ZeroDivisionError (division by zero), FileNotFoundError (trying to access a non-existent file), and IndexError (attempting to access an out-of-range list index)."
   ]
  },
  {
   "cell_type": "code",
   "execution_count": 3,
   "id": "930fcd0d",
   "metadata": {},
   "outputs": [],
   "source": [
    "import logging"
   ]
  },
  {
   "cell_type": "code",
   "execution_count": 38,
   "id": "af17a461",
   "metadata": {},
   "outputs": [
    {
     "ename": "SyntaxError",
     "evalue": "unterminated string literal (detected at line 3) (2673787034.py, line 3)",
     "output_type": "error",
     "traceback": [
      "\u001b[1;36m  Cell \u001b[1;32mIn[38], line 3\u001b[1;36m\u001b[0m\n\u001b[1;33m    a = 'Hello, Good Morning all\u001b[0m\n\u001b[1;37m        ^\u001b[0m\n\u001b[1;31mSyntaxError\u001b[0m\u001b[1;31m:\u001b[0m unterminated string literal (detected at line 3)\n"
     ]
    }
   ],
   "source": [
    "# Example of Sytax Error :-\n",
    "logging.basicConfig(filename = 'syntaxError.log', level=logging.DEBUG, format=\"%(asctime)s %(name)s %(levelname)s %(message)s\")\n",
    "a = 'Hello, Good Morning all\n",
    "logging.info('This will print message stored in the variable')\n",
    "print(a)"
   ]
  },
  {
   "cell_type": "code",
   "execution_count": 37,
   "id": "10712a44",
   "metadata": {},
   "outputs": [],
   "source": [
    "logging.shutdown()"
   ]
  },
  {
   "cell_type": "code",
   "execution_count": null,
   "id": "5fe15179",
   "metadata": {},
   "outputs": [],
   "source": []
  },
  {
   "cell_type": "code",
   "execution_count": 6,
   "id": "a28daf70",
   "metadata": {},
   "outputs": [
    {
     "ename": "ZeroDivisionError",
     "evalue": "division by zero",
     "output_type": "error",
     "traceback": [
      "\u001b[1;31m---------------------------------------------------------------------------\u001b[0m",
      "\u001b[1;31mZeroDivisionError\u001b[0m                         Traceback (most recent call last)",
      "Cell \u001b[1;32mIn[6], line 4\u001b[0m\n\u001b[0;32m      2\u001b[0m a \u001b[38;5;241m=\u001b[39m \u001b[38;5;241m4\u001b[39m\n\u001b[0;32m      3\u001b[0m b \u001b[38;5;241m=\u001b[39m \u001b[38;5;241m0\u001b[39m\n\u001b[1;32m----> 4\u001b[0m c \u001b[38;5;241m=\u001b[39m \u001b[43ma\u001b[49m\u001b[38;5;241;43m/\u001b[39;49m\u001b[43mb\u001b[49m\n\u001b[0;32m      5\u001b[0m \u001b[38;5;28mprint\u001b[39m(c)\n",
      "\u001b[1;31mZeroDivisionError\u001b[0m: division by zero"
     ]
    }
   ],
   "source": [
    "# Example of Exceptions\n",
    "logging.basicConfig(filename = 'exception.log', level = logging.DEBUG, format=\"%(asctime)s %(name)s %(levelname)s %(message)s\")\n",
    "a = 4\n",
    "b = 0\n",
    "c = a/b\n",
    "logging.info('this will divide value of a by b and stored the result in c')\n",
    "print(c)"
   ]
  },
  {
   "cell_type": "code",
   "execution_count": null,
   "id": "932aa5fe",
   "metadata": {},
   "outputs": [],
   "source": [
    "logging.shutdown()"
   ]
  },
  {
   "cell_type": "code",
   "execution_count": null,
   "id": "35fe4e47",
   "metadata": {},
   "outputs": [],
   "source": []
  },
  {
   "cell_type": "markdown",
   "id": "fbb96277",
   "metadata": {},
   "source": [
    "#### Q2. What happened when an exception is not handled ? Explain with an example.\n",
    "#### Sol. When an exception is not handled in a program, it can lead to unexpected and often undesirable consequences. Here's what typically happens when an exception is not handled in a program:\n",
    "\n",
    "Termination of the Program: An unhandled exception will cause the program to terminate or crash. This abrupt termination can disrupt the normal flow of the program and potentially result in data loss or other issues.\n",
    "\n",
    "Error Messages: When an exception occurs and is not caught and handled by the program, an error message is often displayed. This error message can provide information about the type of exception, its location in the code, and sometimes a stack trace that shows the call stack leading up to the exception. These error messages can be helpful for debugging but may also expose sensitive information or provide potential entry points for attackers if not properly managed.\n",
    "\n",
    "Resource Leaks: Unhandled exceptions can lead to resource leaks, such as unclosed files, network connections, or memory leaks. This can degrade system performance and may result in unintended resource exhaustion.\n",
    "\n",
    "Incomplete or Inconsistent State: If an exception occurs but is not handled, it can leave the program in an incomplete or inconsistent state. This means that some operations may have partially executed, and data structures may be left in an undefined or invalid state.\n",
    "\n",
    "Data Loss: In some cases, unhandled exceptions can result in data loss. For example, if an exception occurs during a critical file write operation and is not handled, the data being written may be lost or corrupted.\n",
    "\n",
    "Security Vulnerabilities: Unhandled exceptions can pose a security risk, as they may reveal internal implementation details or error messages that could be exploited by attackers to gain unauthorized access or launch attacks on the system."
   ]
  },
  {
   "cell_type": "code",
   "execution_count": 8,
   "id": "40e6bf51",
   "metadata": {},
   "outputs": [
    {
     "ename": "FileNotFoundError",
     "evalue": "[Errno 2] No such file or directory: 'test.txt'",
     "output_type": "error",
     "traceback": [
      "\u001b[1;31m---------------------------------------------------------------------------\u001b[0m",
      "\u001b[1;31mFileNotFoundError\u001b[0m                         Traceback (most recent call last)",
      "Cell \u001b[1;32mIn[8], line 2\u001b[0m\n\u001b[0;32m      1\u001b[0m \u001b[38;5;66;03m# example to illustrate what happens when an exception is not handled\u001b[39;00m\n\u001b[1;32m----> 2\u001b[0m f \u001b[38;5;241m=\u001b[39m \u001b[38;5;28;43mopen\u001b[39;49m\u001b[43m(\u001b[49m\u001b[38;5;124;43m'\u001b[39;49m\u001b[38;5;124;43mtest.txt\u001b[39;49m\u001b[38;5;124;43m'\u001b[39;49m\u001b[43m,\u001b[49m\u001b[38;5;124;43m'\u001b[39;49m\u001b[38;5;124;43mr\u001b[39;49m\u001b[38;5;124;43m'\u001b[39;49m\u001b[43m)\u001b[49m\n",
      "File \u001b[1;32m~\\anaconda3\\lib\\site-packages\\IPython\\core\\interactiveshell.py:282\u001b[0m, in \u001b[0;36m_modified_open\u001b[1;34m(file, *args, **kwargs)\u001b[0m\n\u001b[0;32m    275\u001b[0m \u001b[38;5;28;01mif\u001b[39;00m file \u001b[38;5;129;01min\u001b[39;00m {\u001b[38;5;241m0\u001b[39m, \u001b[38;5;241m1\u001b[39m, \u001b[38;5;241m2\u001b[39m}:\n\u001b[0;32m    276\u001b[0m     \u001b[38;5;28;01mraise\u001b[39;00m \u001b[38;5;167;01mValueError\u001b[39;00m(\n\u001b[0;32m    277\u001b[0m         \u001b[38;5;124mf\u001b[39m\u001b[38;5;124m\"\u001b[39m\u001b[38;5;124mIPython won\u001b[39m\u001b[38;5;124m'\u001b[39m\u001b[38;5;124mt let you open fd=\u001b[39m\u001b[38;5;132;01m{\u001b[39;00mfile\u001b[38;5;132;01m}\u001b[39;00m\u001b[38;5;124m by default \u001b[39m\u001b[38;5;124m\"\u001b[39m\n\u001b[0;32m    278\u001b[0m         \u001b[38;5;124m\"\u001b[39m\u001b[38;5;124mas it is likely to crash IPython. If you know what you are doing, \u001b[39m\u001b[38;5;124m\"\u001b[39m\n\u001b[0;32m    279\u001b[0m         \u001b[38;5;124m\"\u001b[39m\u001b[38;5;124myou can use builtins\u001b[39m\u001b[38;5;124m'\u001b[39m\u001b[38;5;124m open.\u001b[39m\u001b[38;5;124m\"\u001b[39m\n\u001b[0;32m    280\u001b[0m     )\n\u001b[1;32m--> 282\u001b[0m \u001b[38;5;28;01mreturn\u001b[39;00m io_open(file, \u001b[38;5;241m*\u001b[39margs, \u001b[38;5;241m*\u001b[39m\u001b[38;5;241m*\u001b[39mkwargs)\n",
      "\u001b[1;31mFileNotFoundError\u001b[0m: [Errno 2] No such file or directory: 'test.txt'"
     ]
    }
   ],
   "source": [
    "# example to illustrate what happens when an exception is not handled\n",
    "logging.basicConfig(filename='exceptionerror.log', level=logging.DEBUG, format='%(asctime)s %(name)s %(levelname)s %(message)s')\n",
    "f = open('test.txt','r')\n",
    "logging.info('it will  open .txt file in read mode')\n",
    "# In above example, when we try to open a .txt file in read mode which is not exist, \n",
    "# then this will raise a 'FileNotFoundError' exceptions."
   ]
  },
  {
   "cell_type": "code",
   "execution_count": 24,
   "id": "c40652ee",
   "metadata": {},
   "outputs": [],
   "source": [
    "logging.shutdown()"
   ]
  },
  {
   "cell_type": "code",
   "execution_count": null,
   "id": "60815692",
   "metadata": {},
   "outputs": [],
   "source": []
  },
  {
   "cell_type": "markdown",
   "id": "e1267d1d",
   "metadata": {},
   "source": [
    "#### Q3. Which python statement  are used to catch and handle exceptions ? Explain with an example.\n",
    "#### Sol. We can catch and handle exceptions using the 'try' and 'except' statements within a 'try-except block'. \n",
    "\n",
    "The try block contains the code that you suspect might raise an exception. If an exception occurs within this block, the control flow immediately jumps to the corresponding except block.\n",
    "\n",
    "The except block specifies the type of exception you want to catch and handle. ExceptionType should be replaced with the specific exception class you want to catch. For example, you can catch a ValueError, TypeError, FileNotFoundError, or any other exception type."
   ]
  },
  {
   "cell_type": "code",
   "execution_count": 10,
   "id": "ab0ca75e",
   "metadata": {},
   "outputs": [],
   "source": [
    "# Example of try and exception \n",
    "import logging\n",
    "logging.basicConfig(filename='try_except.log', level=logging.DEBUG, format='%(asctime)s %(name)s %(levelname)s %(message)s')\n",
    "def divide(x, y):\n",
    "    logging.info('define a function \"divide\" with 2 input')\n",
    "    try:\n",
    "        logging.info('we are inside the \"try\" block')\n",
    "        z = x/y\n",
    "        return z\n",
    "        logging.info('\"return\" function will return result')\n",
    "    except ZeroDivisionError:\n",
    "        logging.info('now we are inside the \"except\" block')\n",
    "        print('division by zero is not allowed')\n",
    "        return None"
   ]
  },
  {
   "cell_type": "code",
   "execution_count": 11,
   "id": "f05e171a",
   "metadata": {},
   "outputs": [
    {
     "data": {
      "text/plain": [
       "1.0"
      ]
     },
     "execution_count": 11,
     "metadata": {},
     "output_type": "execute_result"
    }
   ],
   "source": [
    "divide(2,2)"
   ]
  },
  {
   "cell_type": "code",
   "execution_count": 12,
   "id": "e697a0dc",
   "metadata": {},
   "outputs": [],
   "source": [
    "logging.shutdown()"
   ]
  },
  {
   "cell_type": "code",
   "execution_count": null,
   "id": "dad0cb0b",
   "metadata": {},
   "outputs": [],
   "source": []
  },
  {
   "cell_type": "code",
   "execution_count": 20,
   "id": "85b66a7d",
   "metadata": {},
   "outputs": [],
   "source": [
    "import logging\n",
    "\n",
    "logging.basicConfig(filename='try_except.log', level=logging.DEBUG, format='%(asctime)s %(name)s %(levelname)s %(message)s')\n",
    "\n",
    "def divide(x, y):\n",
    "    logging.info('Define a function \"divide\" with 2 input')\n",
    "    try:\n",
    "        logging.info('We are inside the \"try\" block')\n",
    "        z = x / y\n",
    "        logging.info('\"return\" function will return result')\n",
    "        return z\n",
    "    except ZeroDivisionError:\n",
    "        logging.info('Now we are inside the \"except\" block')\n",
    "        print('Division by zero is not allowed')\n",
    "        return None"
   ]
  },
  {
   "cell_type": "code",
   "execution_count": 21,
   "id": "a23d3f47",
   "metadata": {},
   "outputs": [
    {
     "name": "stdout",
     "output_type": "stream",
     "text": [
      "Division by zero is not allowed\n"
     ]
    }
   ],
   "source": [
    "divide(2,0)"
   ]
  },
  {
   "cell_type": "code",
   "execution_count": 22,
   "id": "eb096b42",
   "metadata": {},
   "outputs": [],
   "source": [
    "logging.shutdown()"
   ]
  },
  {
   "cell_type": "code",
   "execution_count": null,
   "id": "4c54632f",
   "metadata": {},
   "outputs": [],
   "source": []
  },
  {
   "cell_type": "markdown",
   "id": "53531d09",
   "metadata": {},
   "source": [
    "#### Q4. Explain with an example\n",
    "a).try and else\n",
    "\n",
    "b).finally\n",
    "\n",
    "c).raise"
   ]
  },
  {
   "cell_type": "markdown",
   "id": "ce67eb1f",
   "metadata": {},
   "source": [
    "#### Sol.\n",
    "#### a). try and else :- The try and else blocks are used together to handle exceptions. \n",
    "\n",
    "The try block is used when the code is needed to check for some errors. The try block contains code that may raise an exception, and the else block is executed if no exception is raised in the try block.\n",
    "\n",
    "The else block is optional and can also be added on the try-except block and is executed when there are no exceptions. It should be present after all the except blocks. If the try block successfully does not raise an exception then the code enters into the else block."
   ]
  },
  {
   "cell_type": "code",
   "execution_count": 27,
   "id": "30c23c2e",
   "metadata": {},
   "outputs": [],
   "source": [
    "# example\n",
    "def  division(a, b):\n",
    "    try:\n",
    "        result = a/b\n",
    "    except ZeroDivisionError:\n",
    "        print('Division by zero is not allowed')\n",
    "        \n",
    "    else:\n",
    "        print(result)"
   ]
  },
  {
   "cell_type": "code",
   "execution_count": 29,
   "id": "60cdfcef",
   "metadata": {},
   "outputs": [
    {
     "name": "stdout",
     "output_type": "stream",
     "text": [
      "3.3333333333333335\n"
     ]
    }
   ],
   "source": [
    "division(10,3)"
   ]
  },
  {
   "cell_type": "markdown",
   "id": "7cd6dc3f",
   "metadata": {},
   "source": [
    "#### b). finally :-\n",
    "The finally keyword is used in try and except blocks. It defines a block of code to run when the try...except...else block is final.\n",
    "\n",
    "The finally keyword is used in conjunction with a try block to define a section of code that will always be executed, regardless of whether an exception occurs or not. The finally block is typically used for cleanup operations, such as closing files, releasing resources, or performing any necessary actions that need to occur before exiting a program."
   ]
  },
  {
   "cell_type": "code",
   "execution_count": 36,
   "id": "6b8fcc0c",
   "metadata": {},
   "outputs": [],
   "source": [
    "# Example\n",
    "def test(a):\n",
    "    try:\n",
    "        int(a)\n",
    "        return a\n",
    "    except ValueError:\n",
    "        print('\"int\" can not contain string value')\n",
    "    finally:\n",
    "        print('this program executed  succesfully')"
   ]
  },
  {
   "cell_type": "code",
   "execution_count": 38,
   "id": "d2563e57",
   "metadata": {},
   "outputs": [
    {
     "name": "stdout",
     "output_type": "stream",
     "text": [
      "this program executed  succesfully\n"
     ]
    },
    {
     "data": {
      "text/plain": [
       "4"
      ]
     },
     "execution_count": 38,
     "metadata": {},
     "output_type": "execute_result"
    }
   ],
   "source": [
    "test(4)"
   ]
  },
  {
   "cell_type": "markdown",
   "id": "7b655d22",
   "metadata": {},
   "source": [
    "#### c) Raise : -  \n",
    "The raise keyword is used to deliberately raise an exception in your code. You can use it to create and raise built-in exceptions or custom exceptions when a specific condition is met or when an error condition is detected in your program.\n",
    "\n",
    "This can be useful for custom error handling.\n",
    "\n",
    "OR\n",
    "\n",
    "Raise Keyword is used to raise exceptions or errors. The raise keyword raises an error and stops the control flow of the program. It is used to bring up the current exception in an exception handler so that it can be handled further up the call stack"
   ]
  },
  {
   "cell_type": "code",
   "execution_count": 39,
   "id": "b594c7d1",
   "metadata": {},
   "outputs": [],
   "source": [
    "# Example\n",
    "def divide(x,y):\n",
    "    if y ==0:\n",
    "        raise ZeroDivisionError('Division by zero is not allowed')\n",
    "    else:\n",
    "        return x/y"
   ]
  },
  {
   "cell_type": "code",
   "execution_count": 41,
   "id": "2c704ddd",
   "metadata": {},
   "outputs": [
    {
     "ename": "ZeroDivisionError",
     "evalue": "Division by zero is not allowed",
     "output_type": "error",
     "traceback": [
      "\u001b[1;31m---------------------------------------------------------------------------\u001b[0m",
      "\u001b[1;31mZeroDivisionError\u001b[0m                         Traceback (most recent call last)",
      "Cell \u001b[1;32mIn[41], line 1\u001b[0m\n\u001b[1;32m----> 1\u001b[0m \u001b[43mdivide\u001b[49m\u001b[43m(\u001b[49m\u001b[38;5;241;43m2\u001b[39;49m\u001b[43m,\u001b[49m\u001b[38;5;241;43m0\u001b[39;49m\u001b[43m)\u001b[49m\n",
      "Cell \u001b[1;32mIn[39], line 4\u001b[0m, in \u001b[0;36mdivide\u001b[1;34m(x, y)\u001b[0m\n\u001b[0;32m      2\u001b[0m \u001b[38;5;28;01mdef\u001b[39;00m \u001b[38;5;21mdivide\u001b[39m(x,y):\n\u001b[0;32m      3\u001b[0m     \u001b[38;5;28;01mif\u001b[39;00m y \u001b[38;5;241m==\u001b[39m\u001b[38;5;241m0\u001b[39m:\n\u001b[1;32m----> 4\u001b[0m         \u001b[38;5;28;01mraise\u001b[39;00m \u001b[38;5;167;01mZeroDivisionError\u001b[39;00m(\u001b[38;5;124m'\u001b[39m\u001b[38;5;124mDivision by zero is not allowed\u001b[39m\u001b[38;5;124m'\u001b[39m)\n\u001b[0;32m      5\u001b[0m     \u001b[38;5;28;01melse\u001b[39;00m:\n\u001b[0;32m      6\u001b[0m         \u001b[38;5;28;01mreturn\u001b[39;00m x\u001b[38;5;241m/\u001b[39my\n",
      "\u001b[1;31mZeroDivisionError\u001b[0m: Division by zero is not allowed"
     ]
    }
   ],
   "source": [
    "divide(2,0)"
   ]
  },
  {
   "cell_type": "code",
   "execution_count": null,
   "id": "c8dd860f",
   "metadata": {},
   "outputs": [],
   "source": []
  },
  {
   "cell_type": "markdown",
   "id": "bb50b98e",
   "metadata": {},
   "source": [
    "#### Q5. What are the Custom Exceptions in python ? Why do we need Custom Exceptions ? Explain with an example\n",
    "#### Sol.\n",
    "Custom exceptions, also known as user-defined exceptions, are exceptions that you create by defining your own exception classes in Python. These custom exceptions allow you to handle specific error conditions or exceptional cases in your code, providing a more structured and meaningful way to deal with errors unique to your application. To create a custom exception, you typically define a new class that inherits from Python's built-in Exception class or one of its subclasses\n",
    "\n",
    "#### Need of Custom Exceptions :-\n",
    "Custom exceptions allow you to define exception types that are specific to your application or module\n",
    "\n",
    "Custom exceptions enable you to provide meaningful error messages that describe the problem in a way that is more helpful to developers and maintainers of your code\n",
    "\n",
    "By creating custom exceptions, you can organize and structure your error handling more effectively. It's particularly useful when you have a large codebase or complex software projects with multiple modules or packages."
   ]
  },
  {
   "cell_type": "code",
   "execution_count": 1,
   "id": "7484616e",
   "metadata": {},
   "outputs": [],
   "source": [
    "# Example\n",
    "import logging\n",
    "logging.basicConfig(filename = 'custom_error.log', level=logging.DEBUG, format='%(asctime)s %(levelname)s %(message)s')\n",
    "class CustomError(Exception):\n",
    "    logging.info('Creating class custom error')\n",
    "    def __init__(self, msg):\n",
    "        self.msg = msg"
   ]
  },
  {
   "cell_type": "code",
   "execution_count": 2,
   "id": "e50fb4ab",
   "metadata": {},
   "outputs": [
    {
     "name": "stdout",
     "output_type": "stream",
     "text": [
      "Enter value of x :- 4\n",
      "Enter value of y :- 2\n",
      "The desired output is  2.0\n"
     ]
    }
   ],
   "source": [
    "def divide(x, y):\n",
    "    logging.info('Create a function divide')\n",
    "    if y == 0:\n",
    "        logging.info('we are get into \"if\" condition')\n",
    "        raise CustomError(\"Division by zero is not allowed\")\n",
    "    else:\n",
    "        logging.info('we are get into \"else\" condition')\n",
    "        return x / y\n",
    "try:\n",
    "    logging.info('We are inside \"try\" block')\n",
    "    x = int(input('Enter value of x :- '))\n",
    "    logging.info('Taking value of \"x\" from user')\n",
    "    y = int(input('Enter value of y :- '))\n",
    "    logging.info('Taking value of \"y\" from user')\n",
    "    result = divide(x,y)\n",
    "    logging.info('Divide \"x\" by \"y\" ')\n",
    "    print('The desired output is ',result)\n",
    "    logging.info('Print the result')\n",
    "    \n",
    "except CustomError as e:\n",
    "    logging.info('We are inside the \"except block\"')\n",
    "    print(\"Custom Error:\", e)\n",
    "    logging.info('Print final output')"
   ]
  },
  {
   "cell_type": "code",
   "execution_count": 4,
   "id": "22972f75",
   "metadata": {},
   "outputs": [],
   "source": [
    "logging.shutdown()"
   ]
  },
  {
   "cell_type": "code",
   "execution_count": null,
   "id": "2869e984",
   "metadata": {},
   "outputs": [],
   "source": []
  },
  {
   "cell_type": "markdown",
   "id": "2fd0cfdb",
   "metadata": {},
   "source": [
    "#### Q6.Create a Custom Exception Class. Use this class to handle an exception."
   ]
  },
  {
   "cell_type": "code",
   "execution_count": 1,
   "id": "d0d80af2",
   "metadata": {},
   "outputs": [],
   "source": [
    "# Sol. Example 1\n",
    "import logging\n",
    "logging.basicConfig(filename = 'custom_exception.log', level=logging.DEBUG, format='%(asctime)s %(levelname)s %(message)s')\n",
    "class CustomException(Exception):\n",
    "    logging.info('Creating class \"custom exception\"')\n",
    "    def __init__(self, msg):\n",
    "        self.msg = msg"
   ]
  },
  {
   "cell_type": "code",
   "execution_count": 4,
   "id": "6d825f09",
   "metadata": {},
   "outputs": [
    {
     "name": "stdout",
     "output_type": "stream",
     "text": [
      "Entered age :- 45\n",
      "Please cast your vote\n"
     ]
    }
   ],
   "source": [
    "def test(age):\n",
    "    logging.info('Create function \"test\"')\n",
    "    if age < 0:\n",
    "        logging.info('We are inside \"if condition\"')\n",
    "        raise CustomException(\"Age cannot be negative\")\n",
    "    elif age > 0 and age < 18:\n",
    "        logging.info('We are inside \"elif condition\"')\n",
    "        raise CustomException('You are not eligible for vote')\n",
    "    else:\n",
    "        logging.info('We are inside \"else condition\"')\n",
    "        print('Please cast your vote')\n",
    "try:\n",
    "    logging.info('We are inside \"try block\"')\n",
    "    age = int(input('Entered age :- '))\n",
    "    logging.info('Take input from user')\n",
    "    test(age)\n",
    "    logging.info('Print user input')\n",
    "    \n",
    "except CustomException as e:\n",
    "    logging.info('We are inside \"except block\"')\n",
    "    print(\"Custom Error:\", e)\n",
    "    logging.info('Print final output')"
   ]
  },
  {
   "cell_type": "code",
   "execution_count": 5,
   "id": "04a48316",
   "metadata": {},
   "outputs": [],
   "source": [
    "logging.shutdown()"
   ]
  },
  {
   "cell_type": "code",
   "execution_count": null,
   "id": "cebf52eb",
   "metadata": {},
   "outputs": [],
   "source": []
  },
  {
   "cell_type": "code",
   "execution_count": 4,
   "id": "33f8e304",
   "metadata": {},
   "outputs": [
    {
     "name": "stdout",
     "output_type": "stream",
     "text": [
      "Enter value :- 101\n",
      "Value 101 is out of the valid range i.e. 0 & 100\n"
     ]
    }
   ],
   "source": [
    "#Example 2 :-\n",
    "import logging\n",
    "logging.basicConfig(filename = 'range_error.log', level=logging.DEBUG, format='%(asctime)s %(levelname) %(message)s')\n",
    "class ValueOutOfRangeError(Exception):\n",
    "    logging.info('Create function \"test\"')\n",
    "    def __init__(self, value, min_value, max_value):\n",
    "        logging.info('\"__int__\" method called')\n",
    "        self.value = value\n",
    "        self.min_value = min_value\n",
    "        self.max_value = max_value\n",
    "try:\n",
    "    logging.info('We are inside \"try block\"')\n",
    "    value = int(input('Enter value :- '))\n",
    "    logging.info('Take input from user')\n",
    "    min_value = 0\n",
    "    max_value = 100\n",
    "    if value < min_value or value > max_value:\n",
    "        logging.info('We are inside \"if condition\"')\n",
    "        raise ValueOutOfRangeError(value, min_value, max_value)\n",
    "    else:\n",
    "        logging.info('We are inside \"else condition\"')\n",
    "        print(f'Value {value} is in the range i.e.',min_value, \"&\", max_value)\n",
    "except ValueOutOfRangeError:\n",
    "    logging.info('We are inside \"except block\"')\n",
    "    print(f\"Value {value} is out of the valid range i.e.\",min_value, \"&\", max_value)\n",
    "    logging.info('Print final output')"
   ]
  },
  {
   "cell_type": "code",
   "execution_count": 3,
   "id": "8d152348",
   "metadata": {},
   "outputs": [],
   "source": [
    "logging.shutdown()"
   ]
  },
  {
   "cell_type": "code",
   "execution_count": null,
   "id": "ff37dfdb",
   "metadata": {},
   "outputs": [],
   "source": []
  }
 ],
 "metadata": {
  "kernelspec": {
   "display_name": "Python 3 (ipykernel)",
   "language": "python",
   "name": "python3"
  },
  "language_info": {
   "codemirror_mode": {
    "name": "ipython",
    "version": 3
   },
   "file_extension": ".py",
   "mimetype": "text/x-python",
   "name": "python",
   "nbconvert_exporter": "python",
   "pygments_lexer": "ipython3",
   "version": "3.10.9"
  }
 },
 "nbformat": 4,
 "nbformat_minor": 5
}
