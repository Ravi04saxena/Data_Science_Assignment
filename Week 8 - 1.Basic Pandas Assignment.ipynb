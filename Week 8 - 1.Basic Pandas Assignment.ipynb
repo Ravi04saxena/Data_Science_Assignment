{
 "cells": [
  {
   "cell_type": "markdown",
   "id": "9b8d1584",
   "metadata": {},
   "source": [
    "# Basic Pandas Assignment "
   ]
  },
  {
   "cell_type": "markdown",
   "id": "74aff06c",
   "metadata": {},
   "source": [
    "### Q1. Create a Pandas Series that contains the following data: 4, 8, 15, 16, 23, and 42. Then, print the series."
   ]
  },
  {
   "cell_type": "code",
   "execution_count": 2,
   "id": "4de6651d",
   "metadata": {},
   "outputs": [
    {
     "name": "stdout",
     "output_type": "stream",
     "text": [
      "0     4\n",
      "1     8\n",
      "2    15\n",
      "3    16\n",
      "4    23\n",
      "5    42\n",
      "dtype: int64\n"
     ]
    }
   ],
   "source": [
    "import pandas as pd\n",
    "\n",
    "# Creating the Pandas Series\n",
    "data = [4, 8, 15, 16, 23, 42]\n",
    "series = pd.Series(data)\n",
    "\n",
    "# Printing the series\n",
    "print(series)\n"
   ]
  },
  {
   "cell_type": "code",
   "execution_count": null,
   "id": "eb213dcd",
   "metadata": {},
   "outputs": [],
   "source": []
  },
  {
   "cell_type": "markdown",
   "id": "268dae3c",
   "metadata": {},
   "source": [
    "### Q2. Create a variable of list type containing 10 elements in it, and apply pandas.Series function on the variable print it."
   ]
  },
  {
   "cell_type": "code",
   "execution_count": 1,
   "id": "2f925496",
   "metadata": {},
   "outputs": [
    {
     "name": "stdout",
     "output_type": "stream",
     "text": [
      "0     1\n",
      "1     2\n",
      "2     3\n",
      "3     4\n",
      "4     5\n",
      "5     6\n",
      "6     7\n",
      "7     8\n",
      "8     9\n",
      "9    10\n",
      "dtype: int64\n"
     ]
    }
   ],
   "source": [
    "import pandas as pd\n",
    "\n",
    "# creating list with 10 elements\n",
    "my_list = [1,2,3,4,5,6,7,8,9,10]\n",
    "\n",
    "# conveting list into pandas series\n",
    "my_series = pd.Series(my_list)\n",
    "\n",
    "print(my_series)"
   ]
  },
  {
   "cell_type": "code",
   "execution_count": null,
   "id": "2bf4db87",
   "metadata": {},
   "outputs": [],
   "source": []
  },
  {
   "cell_type": "markdown",
   "id": "d0f691c6",
   "metadata": {},
   "source": [
    "### Q3. Create a Pandas DataFrame that contains the following data:\n",
    "         Name       Age   Gender\n",
    "         Alice      25    Female\n",
    "         Bob        30    Male\n",
    "         Claire     27    Female"
   ]
  },
  {
   "cell_type": "code",
   "execution_count": 3,
   "id": "d648fda2",
   "metadata": {},
   "outputs": [
    {
     "name": "stdout",
     "output_type": "stream",
     "text": [
      "     Name  Age  Gender\n",
      "0   Alice   25  Female\n",
      "1     Bob   30    Male\n",
      "2  Claire   27  Female\n"
     ]
    }
   ],
   "source": [
    "import pandas as pd\n",
    "\n",
    "# creating dictionary \n",
    "my_dict = {\n",
    "    'Name':['Alice', 'Bob', 'Claire'],\n",
    "    'Age' :[25,30,27],\n",
    "    'Gender':['Female', 'Male', 'Female']\n",
    "}\n",
    "\n",
    "# converting dictionary into dataframe\n",
    "\n",
    "df = pd.DataFrame(my_dict)\n",
    "\n",
    "print(df)\n"
   ]
  },
  {
   "cell_type": "code",
   "execution_count": null,
   "id": "a51b9089",
   "metadata": {},
   "outputs": [],
   "source": []
  },
  {
   "cell_type": "markdown",
   "id": "5b3a3521",
   "metadata": {},
   "source": [
    "### Q4. What is ‘DataFrame’ in pandas and how is it different from pandas.series? Explain with an example."
   ]
  },
  {
   "cell_type": "markdown",
   "id": "092c0cdb",
   "metadata": {},
   "source": [
    "#### Sol :-\n",
    "A DataFrame in pandas is a two-dimensional, size-mutable, and heterogeneous tabular data structure with labeled axes (rows and columns). It is similar to a spreadsheet or SQL table, or a dictionary of Series objects. Each column in a DataFrame can be of different data types.\n",
    "\n",
    "On the other hand, a Series is a one-dimensional labeled array capable of holding any data type (integers, strings, floating-point numbers, Python objects, etc.). It is similar to a single column in a DataFrame.\n",
    "\n",
    "##### Key Differences:\n",
    "1. Dimensionality: Series is 1-dimensional and DataFrame is 2-dimensional.\n",
    "\n",
    "2. Structure: Series consists of a single column of data and DataFrame consists of multiple columns, each of which is a Series.\n",
    "\n",
    "3. Usage: Series is used for handling and manipulating a single column of data and DataFrame is used for handling and           manipulating multiple columns of data."
   ]
  },
  {
   "cell_type": "code",
   "execution_count": 7,
   "id": "572a7bc8",
   "metadata": {},
   "outputs": [
    {
     "name": "stdout",
     "output_type": "stream",
     "text": [
      "Pandas Series:\n",
      "0    1\n",
      "1    2\n",
      "2    3\n",
      "3    4\n",
      "4    5\n",
      "Name: numbers, dtype: int64\n",
      "\n",
      "Pandas Data Frame:\n",
      "    Name  Age  Gender\n",
      "0   Jack   23    Male\n",
      "1   Adam   29    Male\n",
      "2  Maria   18  Female\n"
     ]
    }
   ],
   "source": [
    "#Example:-\n",
    "import pandas as pd\n",
    "\n",
    "# creating series\n",
    "my_series_1 = pd.Series([1,2,3,4,5], name='numbers')\n",
    "\n",
    "print(\"Pandas Series:\")\n",
    "print(my_series_1)\n",
    "\n",
    "# creating dataframe\n",
    "data_frame = pd.DataFrame({\n",
    "    'Name':[\"Jack\", \"Adam\", \"Maria\"],\n",
    "    'Age':[23, 29, 18],\n",
    "    'Gender':[\"Male\", \"Male\", \"Female\"]\n",
    "})\n",
    "\n",
    "print(\"\\nPandas Data Frame:\")\n",
    "print(data_frame)"
   ]
  },
  {
   "cell_type": "code",
   "execution_count": null,
   "id": "99595519",
   "metadata": {},
   "outputs": [],
   "source": []
  },
  {
   "cell_type": "markdown",
   "id": "f212ca1d",
   "metadata": {},
   "source": [
    "### Q5. What are some common functions you can use to manipulate data in a Pandas DataFrame? Can you give an example of when you might use one of these functions?\n"
   ]
  },
  {
   "cell_type": "markdown",
   "id": "94deb9b2",
   "metadata": {},
   "source": [
    "#### Sol:\n",
    "Pandas provides a wide range of functions to manipulate data in a DataFrame. Some of the most common functions include:\n",
    "1. head() and tail(): View the first or last few rows of the DataFrame.\n",
    "2. describe(): Generate descriptive statistics.\n",
    "3. info(): Get a concise summary of the DataFrame.\n",
    "4. shape: Get the dimensions of the DataFrame.\n",
    "5. columns: Get or set the column labels.\n",
    "6. index: Get or set the row labels.\n",
    "7. drop(): Remove rows or columns.\n",
    "8. sort_values(): Sort by the values along either axis.\n",
    "9. groupby(): Group data by a column or columns and apply aggregation functions.\n",
    "10. apply(): Apply a function along any axis.\n",
    "11. merge(): Merge DataFrames similar to SQL joins.\n",
    "12. pivot_table(): Create a spreadsheet-style pivot table as a DataFrame.\n",
    "13. loc and iloc: Access a group of rows and columns by labels or positions.\n",
    "14. isnull() and notnull(): Detect missing values.\n",
    "15. fillna(): Fill missing values."
   ]
  },
  {
   "cell_type": "code",
   "execution_count": 8,
   "id": "bbb056f4",
   "metadata": {},
   "outputs": [],
   "source": [
    "#Example :- we have sales data, and we want to calculate the total sales for each product.\n",
    "#           We can use the groupby() function to group the data by \"product\" and then sum the sales for each group."
   ]
  },
  {
   "cell_type": "code",
   "execution_count": 10,
   "id": "ca981e5c",
   "metadata": {},
   "outputs": [
    {
     "name": "stdout",
     "output_type": "stream",
     "text": [
      "         Sales  Quantity\n",
      "Product                 \n",
      "A          700         7\n",
      "B          400         5\n",
      "C          800         8\n"
     ]
    }
   ],
   "source": [
    "import pandas as pd\n",
    "\n",
    "# creating sales data\n",
    "data = {\n",
    "    'Product':['A', 'B', 'A', 'B', 'C', 'A', 'C'],\n",
    "    'Sales': [100, 150, 200, 250, 300, 400, 500],\n",
    "    'Quantity':[1, 2, 2, 3, 3, 4, 5]\n",
    "}\n",
    "\n",
    "df = pd.DataFrame(data)\n",
    "\n",
    "# Grouping by 'Product' and calculating the sum of 'Sales' and 'Quantity'\n",
    "\n",
    "grouped_df = df.groupby('Product').sum()\n",
    "\n",
    "print(grouped_df)"
   ]
  },
  {
   "cell_type": "code",
   "execution_count": null,
   "id": "5e3702bd",
   "metadata": {},
   "outputs": [],
   "source": []
  },
  {
   "cell_type": "markdown",
   "id": "a871a23d",
   "metadata": {},
   "source": [
    "### Q6. Which of the following is mutable in nature Series, DataFrame, Panel?"
   ]
  },
  {
   "cell_type": "markdown",
   "id": "9626c573",
   "metadata": {},
   "source": [
    "#### Sol:\n",
    "In pandas, both Series and DataFrame are mutable, meaning that their contents can be changed after they are created. You can modify the data, add or remove rows and columns, and change the structure of these objects.\n",
    "\n",
    "However, Panel is a 3-dimensional data structure that was used in earlier versions of pandas (prior to version 1.0). It has been deprecated and removed from pandas because it was less commonly used and more cumbersome compared to other data structures. Instead, for multi-dimensional data, pandas recommends using the MultiIndex for DataFrame or using other libraries such as xarray."
   ]
  },
  {
   "cell_type": "code",
   "execution_count": null,
   "id": "af7aa1e2",
   "metadata": {},
   "outputs": [],
   "source": []
  },
  {
   "cell_type": "markdown",
   "id": "b3d71aae",
   "metadata": {},
   "source": [
    "### Q7. Create a DataFrame using multiple Series. Explain with an example."
   ]
  },
  {
   "cell_type": "code",
   "execution_count": 13,
   "id": "26fbcb7f",
   "metadata": {},
   "outputs": [
    {
     "name": "stdout",
     "output_type": "stream",
     "text": [
      "         Name  Age  Gender\n",
      "0       Rohit   37    Male\n",
      "1       Virat   35    Male\n",
      "2  Mitali Raj   41  Female\n"
     ]
    }
   ],
   "source": [
    "# creating 3 indiviaual series\n",
    "import pandas as pd\n",
    "name_series = pd.Series(['Rohit','Virat', 'Mitali Raj'])\n",
    "age_series = pd.Series([37, 35, 41])\n",
    "gender_series = pd.Series(['Male','Male', 'Female'])\n",
    "\n",
    "# creating the dataframe using the series\n",
    "\n",
    "df = pd.DataFrame({\n",
    "    'Name': name_series,\n",
    "    'Age' : age_series,\n",
    "    'Gender': gender_series\n",
    "})\n",
    "\n",
    "print(df)"
   ]
  },
  {
   "cell_type": "code",
   "execution_count": null,
   "id": "e3e6e9a7",
   "metadata": {},
   "outputs": [],
   "source": []
  }
 ],
 "metadata": {
  "kernelspec": {
   "display_name": "Python 3 (ipykernel)",
   "language": "python",
   "name": "python3"
  },
  "language_info": {
   "codemirror_mode": {
    "name": "ipython",
    "version": 3
   },
   "file_extension": ".py",
   "mimetype": "text/x-python",
   "name": "python",
   "nbconvert_exporter": "python",
   "pygments_lexer": "ipython3",
   "version": "3.10.9"
  }
 },
 "nbformat": 4,
 "nbformat_minor": 5
}
