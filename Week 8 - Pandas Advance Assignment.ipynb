{
 "cells": [
  {
   "cell_type": "markdown",
   "id": "08102d68",
   "metadata": {},
   "source": [
    "### Q1. List any five functions of the pandas library with execution."
   ]
  },
  {
   "cell_type": "markdown",
   "id": "04a9c1fd",
   "metadata": {},
   "source": [
    "##### Sol: \n",
    "1. read_csv: This function reads a comma-separated values (CSV) file into a DataFrame.\n",
    "\n",
    "2. head: This function returns the first n rows of the DataFrame.\n",
    "\n",
    "3. describe: This function generates descriptive statistics that summarize the central tendency, dispersion, and shape of a        dataset’s distribution.\n",
    "\n",
    "4. groupby: This function is used to group data based on one or more columns and perform aggregate functions on them.\n",
    "\n",
    "5. merge: This function is used to combine two DataFrames based on a key or keys."
   ]
  },
  {
   "cell_type": "code",
   "execution_count": 4,
   "id": "0bde1f5a",
   "metadata": {},
   "outputs": [
    {
     "name": "stdout",
     "output_type": "stream",
     "text": [
      "    name         email_id  phone_number\n",
      "0   Ravi   ravi@gmail.com        567563\n",
      "1   sudh   sudh@gmail.com      92342424\n",
      "2  kiran  kiran@gmail.com       5567897\n",
      "3  krish  krish@gmail.com       9324242\n",
      "4  rohit  rohit@yahoo.com          3445\n"
     ]
    }
   ],
   "source": [
    "# 1.read_csv\n",
    "import pandas as pd\n",
    "\n",
    "# Reading a CSV file into a DataFrame\n",
    "df = pd.read_csv(r\"C:\\Users\\asus\\Documents\\Week 8 - ML Toolbox - Pandas\\2. Pandas Advance\\data.csv\")\n",
    "print(df.head())  # Displaying the first 5 rows of the DataFrame"
   ]
  },
  {
   "cell_type": "code",
   "execution_count": 5,
   "id": "f51e3866",
   "metadata": {},
   "outputs": [
    {
     "name": "stdout",
     "output_type": "stream",
     "text": [
      "      Name  Age\n",
      "0    Alice   24\n",
      "1      Bob   27\n",
      "2  Charlie   22\n"
     ]
    }
   ],
   "source": [
    "# 2.head\n",
    "import pandas as pd\n",
    "\n",
    "# Creating a sample DataFrame\n",
    "data = {'Name': ['Alice', 'Bob', 'Charlie', 'David', 'Eva'],\n",
    "        'Age': [24, 27, 22, 32, 29]}\n",
    "df = pd.DataFrame(data)\n",
    "\n",
    "# Displaying the first 3 rows of the DataFrame\n",
    "print(df.head(3))\n",
    "\n"
   ]
  },
  {
   "cell_type": "code",
   "execution_count": 6,
   "id": "7c042002",
   "metadata": {},
   "outputs": [
    {
     "name": "stdout",
     "output_type": "stream",
     "text": [
      "             Age      Salary\n",
      "count   5.000000      5.0000\n",
      "mean   26.800000  54400.0000\n",
      "std     3.962323   4560.7017\n",
      "min    22.000000  50000.0000\n",
      "25%    24.000000  50000.0000\n",
      "50%    27.000000  54000.0000\n",
      "75%    29.000000  58000.0000\n",
      "max    32.000000  60000.0000\n"
     ]
    }
   ],
   "source": [
    "# 3. describe :\n",
    "import pandas as pd\n",
    "\n",
    "# Creating a sample DataFrame\n",
    "data = {'Name': ['Alice', 'Bob', 'Charlie', 'David', 'Eva'],\n",
    "        'Age': [24, 27, 22, 32, 29],\n",
    "        'Salary': [50000, 54000, 50000, 58000, 60000]}\n",
    "df = pd.DataFrame(data)\n",
    "\n",
    "# Generating descriptive statistics\n",
    "print(df.describe())"
   ]
  },
  {
   "cell_type": "code",
   "execution_count": 14,
   "id": "51c8ede3",
   "metadata": {},
   "outputs": [
    {
     "name": "stdout",
     "output_type": "stream",
     "text": [
      "          Sales  Quantity\n",
      "Product                  \n",
      "A        108000        68\n",
      "B         54000        10\n",
      "C        110000        69\n"
     ]
    }
   ],
   "source": [
    "# 4. groupby\n",
    "import pandas as pd\n",
    "\n",
    "# Creating a sample DataFrame\n",
    "data = {'Product': ['A', 'B', 'C', 'A', 'C'],\n",
    "        'Sales': [50000, 54000, 50000, 58000, 60000],\n",
    "        'Quantity': [40 ,10 ,30 ,28 ,39]}\n",
    "df = pd.DataFrame(data)\n",
    "\n",
    "# Grouping by Product \n",
    "grouped = df.groupby('Product').sum()\n",
    "print(grouped)\n"
   ]
  },
  {
   "cell_type": "code",
   "execution_count": 16,
   "id": "ba02db30",
   "metadata": {},
   "outputs": [
    {
     "name": "stdout",
     "output_type": "stream",
     "text": [
      "      Name   Age   Salary\n",
      "0    Alice  24.0  50000.0\n",
      "1      Bob  27.0  54000.0\n",
      "2  Charlie  22.0      NaN\n",
      "3    David   NaN  58000.0\n"
     ]
    }
   ],
   "source": [
    "# 5. merge\n",
    "import pandas as pd\n",
    "\n",
    "# Creating two sample DataFrames\n",
    "data1 = {'Name': ['Alice', 'Bob', 'Charlie'],\n",
    "         'Age': [24, 27, 22]}\n",
    "df1 = pd.DataFrame(data1)\n",
    "\n",
    "data2 = {'Name': ['Alice', 'Bob', 'David'],\n",
    "         'Salary': [50000, 54000, 58000]}\n",
    "df2 = pd.DataFrame(data2)\n",
    "\n",
    "# Merging the DataFrames on the 'Name' column\n",
    "merged_df = pd.merge(df1, df2, on='Name', how='outer')\n",
    "print(merged_df)\n"
   ]
  },
  {
   "cell_type": "code",
   "execution_count": null,
   "id": "3ca1d567",
   "metadata": {},
   "outputs": [],
   "source": []
  },
  {
   "cell_type": "markdown",
   "id": "a61fd6bb",
   "metadata": {},
   "source": [
    "### Q2. Given a Pandas DataFrame df with columns 'A', 'B', and 'C', write a Python function to re-index the DataFrame with a new index that starts from 1 and increments by 2 for each row"
   ]
  },
  {
   "cell_type": "code",
   "execution_count": 17,
   "id": "938230e0",
   "metadata": {},
   "outputs": [
    {
     "name": "stdout",
     "output_type": "stream",
     "text": [
      "    A   B   C\n",
      "1  10  40  70\n",
      "3  20  50  80\n",
      "5  30  60  90\n"
     ]
    }
   ],
   "source": [
    "# Sol:\n",
    "import pandas as pd\n",
    "\n",
    "def reindex_dataframe(df):\n",
    "    # Calculate the new index\n",
    "    new_index = range(1, 2 * len(df) + 1, 2)\n",
    "    # Assign the new index to the DataFrame\n",
    "    df.index = new_index\n",
    "    return df\n",
    "\n",
    "# Example usage:\n",
    "# Creating a sample DataFrame\n",
    "data = {'A': [10, 20, 30], 'B': [40, 50, 60], 'C': [70, 80, 90]}\n",
    "df = pd.DataFrame(data)\n",
    "\n",
    "# Reindexing the DataFrame\n",
    "reindexed_df = reindex_dataframe(df)\n",
    "print(reindexed_df)\n"
   ]
  },
  {
   "cell_type": "code",
   "execution_count": null,
   "id": "e8f25eef",
   "metadata": {},
   "outputs": [],
   "source": []
  },
  {
   "cell_type": "markdown",
   "id": "998ab471",
   "metadata": {},
   "source": [
    "### Q3. You have a Pandas DataFrame df with a column named 'Values'. Write a Python function that iterates over the DataFrame and calculates the sum of the first three values in the 'Values' column. The function should print the sum to the console.\n",
    "\n",
    "### For example, if the 'Values' column of df contains the values [10, 20, 30, 40, 50], your function should calculate and print the sum of the first three values, which is 60.\n",
    "\n"
   ]
  },
  {
   "cell_type": "code",
   "execution_count": 24,
   "id": "9aadb554",
   "metadata": {},
   "outputs": [
    {
     "name": "stdout",
     "output_type": "stream",
     "text": [
      "Sum of first three values is - 60\n"
     ]
    }
   ],
   "source": [
    "# Sol:\n",
    "import pandas as pd\n",
    "\n",
    "# Creating a sample DataFrame\n",
    "data = {'Values': [10, 20, 30, 40, 50]}\n",
    "df = pd.DataFrame(data)\n",
    "\n",
    "# Calculate the sum of the first three values in the 'Values' column\n",
    "sum_of_first_three = df['Values'].iloc[0:3].sum()\n",
    "\n",
    "# Print the sum to the console\n",
    "print(\"Sum of first three values is -\",sum_of_first_three)\n"
   ]
  },
  {
   "cell_type": "code",
   "execution_count": null,
   "id": "710b2271",
   "metadata": {},
   "outputs": [],
   "source": []
  },
  {
   "cell_type": "markdown",
   "id": "c2e354d5",
   "metadata": {},
   "source": [
    "### Q4. Given a Pandas DataFrame df with a column 'Text', write a Python function to create a new column 'Word_Count' that contains the number of words in each row of the 'Text' column."
   ]
  },
  {
   "cell_type": "code",
   "execution_count": 25,
   "id": "b6fd539b",
   "metadata": {},
   "outputs": [
    {
     "name": "stdout",
     "output_type": "stream",
     "text": [
      "                 Text  Word_Count\n",
      "0         Hello world           2\n",
      "1     Pandas is great           3\n",
      "2  Python programming           2\n"
     ]
    }
   ],
   "source": [
    "# Sol:\n",
    "import pandas as pd\n",
    "\n",
    "# Creating a sample DataFrame\n",
    "data = {'Text': ['Hello world', 'Pandas is great', 'Python programming']}\n",
    "df = pd.DataFrame(data)\n",
    "\n",
    "# Create a new column 'Word_Count' with the number of words in each row of the 'Text' column\n",
    "df['Word_Count'] = df['Text'].apply(lambda x: len(x.split()))\n",
    "\n",
    "# Print the DataFrame\n",
    "print(df)\n"
   ]
  },
  {
   "cell_type": "code",
   "execution_count": null,
   "id": "311b49c7",
   "metadata": {},
   "outputs": [],
   "source": []
  },
  {
   "cell_type": "markdown",
   "id": "c56ba370",
   "metadata": {},
   "source": [
    "### Q5. How are DataFrame.size() and DataFrame.shape() different?"
   ]
  },
  {
   "cell_type": "markdown",
   "id": "2d36d75c",
   "metadata": {},
   "source": [
    "##### Sol:\n",
    "The DataFrame.size and DataFrame.shape attributes in pandas provide different types of information about a DataFrame:\n",
    "\n",
    "##### DataFrame.size: \n",
    "\n",
    "Definition: Returns an integer representing the total number of elements in the DataFrame. \n",
    "\n",
    "Calculation: It is calculated as the product of the number of rows and the number of columns.\n",
    "                \n",
    "##### DataFrame.shape:\n",
    "\n",
    "Definition: Returns a tuple representing the dimensionality of the DataFrame.\n",
    "\n",
    "Calculation: The tuple contains two values: the number of rows and the number of columns."
   ]
  },
  {
   "cell_type": "markdown",
   "id": "dd250b88",
   "metadata": {},
   "source": [
    "##### Example"
   ]
  },
  {
   "cell_type": "code",
   "execution_count": 27,
   "id": "bfb88947",
   "metadata": {},
   "outputs": [
    {
     "name": "stdout",
     "output_type": "stream",
     "text": [
      "6\n"
     ]
    }
   ],
   "source": [
    "# DataFRame.size\n",
    "import pandas as pd\n",
    "\n",
    "data = {'A': [1, 2, 3], 'B': [4, 5, 6]}\n",
    "df = pd.DataFrame(data)\n",
    "\n",
    "print(df.size)  # Output: 6\n"
   ]
  },
  {
   "cell_type": "code",
   "execution_count": 28,
   "id": "4577d586",
   "metadata": {},
   "outputs": [
    {
     "name": "stdout",
     "output_type": "stream",
     "text": [
      "(3, 2)\n"
     ]
    }
   ],
   "source": [
    "# DataFrame.shape\n",
    "import pandas as pd\n",
    "\n",
    "data = {'A': [1, 2, 3], 'B': [4, 5, 6]}\n",
    "df = pd.DataFrame(data)\n",
    "\n",
    "print(df.shape)  # Output: (3, 2)\n"
   ]
  },
  {
   "cell_type": "code",
   "execution_count": null,
   "id": "28949162",
   "metadata": {},
   "outputs": [],
   "source": []
  },
  {
   "cell_type": "markdown",
   "id": "e3f5be25",
   "metadata": {},
   "source": [
    "### Q6. Which function of pandas do we use to read an excel file?\n",
    "### Sol.\n",
    "To read an Excel file into a Pandas DataFrame, you can use the \"pd.read_excel()\" function. This function allows you to read data from an Excel file, either .xls or .xlsx formats."
   ]
  },
  {
   "cell_type": "code",
   "execution_count": null,
   "id": "eb3b03b1",
   "metadata": {},
   "outputs": [],
   "source": []
  },
  {
   "cell_type": "markdown",
   "id": "85964585",
   "metadata": {},
   "source": [
    "### Q7. You have a Pandas DataFrame df that contains a column named 'Email' that contains email addresses in the format 'username@domain.com'. Write a Python function that creates a new column 'Username' in df that contains only the username part of each email address. \n",
    "\n",
    "### The username is the part of the email address that appears before the '@' symbol. For example, if the email address is 'john.doe@example.com', the 'Username' column should contain 'john.doe'. Your function should extract the username from each email address and store it in the new 'Username' column.\n",
    " "
   ]
  },
  {
   "cell_type": "code",
   "execution_count": 1,
   "id": "8ae39609",
   "metadata": {},
   "outputs": [
    {
     "name": "stdout",
     "output_type": "stream",
     "text": [
      "                    Email    Username\n",
      "0    john.doe@example.com    john.doe\n",
      "1  jane.smith@company.org  jane.smith\n",
      "2      user123@domain.net     user123\n"
     ]
    }
   ],
   "source": [
    "# Sol.\n",
    "import pandas as pd\n",
    "\n",
    "def add_username_column(df):\n",
    "    df['Username'] = df['Email'].apply(lambda x: x.split('@')[0])\n",
    "    return df\n",
    "\n",
    "# Example usage:\n",
    "data = {'Email': ['john.doe@example.com', 'jane.smith@company.org', 'user123@domain.net']}\n",
    "df = pd.DataFrame(data)\n",
    "\n",
    "# Adding the 'Username' column\n",
    "df = add_username_column(df)\n",
    "print(df)\n"
   ]
  },
  {
   "cell_type": "code",
   "execution_count": null,
   "id": "58546902",
   "metadata": {},
   "outputs": [],
   "source": []
  },
  {
   "cell_type": "markdown",
   "id": "6cabfa09",
   "metadata": {},
   "source": [
    "### Q8. You have a Pandas DataFrame df with columns 'A', 'B', and 'C'. Write a Python function that selects all rows where the value in column 'A' is greater than 5 and the value in column 'B' is less than 10. The function should return a new DataFrame that contains only the selected rows.\n",
    "\n",
    "### For example, if df contains the following values:\n",
    "\n",
    "A B C\n",
    "\n",
    "0 3 5 1\n",
    "\n",
    "1 8 2 7\n",
    "\n",
    "2 6 9 4\n",
    "\n",
    "3 2 3 5\n",
    "\n",
    "4 9 1 2\n",
    "\n",
    "### Your function should select the following rows: A B C\n",
    "\n",
    "1 8 2 7\n",
    "\n",
    "4 9 1 2\n",
    "\n",
    "### The function should return a new DataFrame that contains only the selected rows."
   ]
  },
  {
   "cell_type": "code",
   "execution_count": 2,
   "id": "fae47c5c",
   "metadata": {},
   "outputs": [
    {
     "name": "stdout",
     "output_type": "stream",
     "text": [
      "   A  B  C\n",
      "1  8  2  7\n",
      "2  6  9  4\n",
      "4  9  1  2\n"
     ]
    }
   ],
   "source": [
    "# Sol.\n",
    "import pandas as pd\n",
    "\n",
    "def select_rows(df):\n",
    "    # Selecting rows based on the condition\n",
    "    selected_df = df[(df['A'] > 5) & (df['B'] < 10)]\n",
    "    return selected_df\n",
    "\n",
    "# Example usage:\n",
    "data = {\n",
    "    'A': [3, 8, 6, 2, 9],\n",
    "    'B': [5, 2, 9, 3, 1],\n",
    "    'C': [1, 7, 4, 5, 2]\n",
    "}\n",
    "df = pd.DataFrame(data)\n",
    "\n",
    "# Selecting rows based on the condition\n",
    "selected_df = select_rows(df)\n",
    "print(selected_df)\n"
   ]
  },
  {
   "cell_type": "code",
   "execution_count": null,
   "id": "b572c76f",
   "metadata": {},
   "outputs": [],
   "source": []
  },
  {
   "cell_type": "markdown",
   "id": "faee808f",
   "metadata": {},
   "source": [
    "### Q9. Given a Pandas DataFrame df with a column 'Values', write a Python function to calculate the mean, median, and standard deviation of the values in the 'Values' column."
   ]
  },
  {
   "cell_type": "code",
   "execution_count": 9,
   "id": "7f75ed96",
   "metadata": {},
   "outputs": [
    {
     "name": "stdout",
     "output_type": "stream",
     "text": [
      "Mean: 30.0\n",
      "Median: 30.0\n",
      "Standard Deviation: 15.811388300841896\n"
     ]
    }
   ],
   "source": [
    "import pandas as pd\n",
    "\n",
    "# Example DataFrame\n",
    "data = {'Values': [10, 20, 30, 40, 50]}\n",
    "df = pd.DataFrame(data)\n",
    "\n",
    "# Calculating mean, median, and standard deviation\n",
    "mean_value = df['Values'].mean()\n",
    "median_value = df['Values'].median()\n",
    "std_deviation = df['Values'].std()\n",
    "\n",
    "print(f\"Mean: {mean_value}\")\n",
    "print(f\"Median: {median_value}\")\n",
    "print(f\"Standard Deviation: {std_deviation}\")\n"
   ]
  },
  {
   "cell_type": "code",
   "execution_count": null,
   "id": "f4b39ae2",
   "metadata": {},
   "outputs": [],
   "source": []
  },
  {
   "cell_type": "markdown",
   "id": "f7071231",
   "metadata": {},
   "source": [
    "### Q10. Given a Pandas DataFrame df with a column 'Sales' and a column 'Date', write a Python function to create a new column 'MovingAverage' that contains the moving average of the sales for the past 7 days for each row in the DataFrame. The moving average should be calculated using a window of size 7 and should include the current day."
   ]
  },
  {
   "cell_type": "code",
   "execution_count": 10,
   "id": "8f860fde",
   "metadata": {},
   "outputs": [
    {
     "name": "stdout",
     "output_type": "stream",
     "text": [
      "        Date  Sales  MovingAverage\n",
      "0 2023-01-01     10           10.0\n",
      "1 2023-01-02     20           15.0\n",
      "2 2023-01-03     30           20.0\n",
      "3 2023-01-04     40           25.0\n",
      "4 2023-01-05     50           30.0\n",
      "5 2023-01-06     60           35.0\n",
      "6 2023-01-07     70           40.0\n",
      "7 2023-01-08     80           50.0\n",
      "8 2023-01-09     90           60.0\n",
      "9 2023-01-10    100           70.0\n"
     ]
    }
   ],
   "source": [
    "import pandas as pd\n",
    "\n",
    "# Example DataFrame\n",
    "data = {\n",
    "    'Date': pd.date_range(start='2023-01-01', periods=10, freq='D'),\n",
    "    'Sales': [10, 20, 30, 40, 50, 60, 70, 80, 90, 100]\n",
    "}\n",
    "df = pd.DataFrame(data)\n",
    "\n",
    "# Ensure the DataFrame is sorted by 'Date'\n",
    "df = df.sort_values('Date')\n",
    "\n",
    "# Calculate the moving average with a window size of 7\n",
    "df['MovingAverage'] = df['Sales'].rolling(window=7, min_periods=1).mean()\n",
    "\n",
    "print(df)\n"
   ]
  },
  {
   "cell_type": "code",
   "execution_count": null,
   "id": "bbb82565",
   "metadata": {},
   "outputs": [],
   "source": []
  },
  {
   "cell_type": "markdown",
   "id": "bd50aa5e",
   "metadata": {},
   "source": [
    "### Q11. You have a Pandas DataFrame df with a column 'Date'. Write a Python function that creates a new column 'Weekday' in the DataFrame. The 'Weekday' column should contain the weekday name (e.g. Monday, Tuesday) corresponding to each date in the 'Date' column.\n",
    "\n",
    "### For example, if df contains the following values:\n",
    "\n",
    "Date\n",
    "\n",
    "0 2023-01-01\n",
    "\n",
    "1 2023-01-02\n",
    "\n",
    "2 2023-01-03\n",
    "\n",
    "3 2023-01-04\n",
    "\n",
    "4 2023-01-05\n",
    "\n",
    "### Your function should create the following DataFrame:\n",
    "\n",
    "Date Weekday\n",
    "\n",
    "0 2023-01-01 Sunday\n",
    "\n",
    "1 2023-01-02 Monday\n",
    "\n",
    "2 2023-01-03 Tuesday\n",
    "\n",
    "3 2023-01-04 Wednesday\n",
    "\n",
    "4 2023-01-05 Thursday\n",
    "\n",
    "### The function should return the modified DataFrame."
   ]
  },
  {
   "cell_type": "code",
   "execution_count": 11,
   "id": "eeedc272",
   "metadata": {},
   "outputs": [
    {
     "name": "stdout",
     "output_type": "stream",
     "text": [
      "        Date    Weekday\n",
      "0 2023-01-01     Sunday\n",
      "1 2023-01-02     Monday\n",
      "2 2023-01-03    Tuesday\n",
      "3 2023-01-04  Wednesday\n",
      "4 2023-01-05   Thursday\n"
     ]
    }
   ],
   "source": [
    "import pandas as pd\n",
    "\n",
    "# Example DataFrame\n",
    "data = {\n",
    "    'Date': pd.date_range(start='2023-01-01', periods=5, freq='D')\n",
    "}\n",
    "df = pd.DataFrame(data)\n",
    "\n",
    "# Adding the 'Weekday' column\n",
    "df['Weekday'] = df['Date'].dt.day_name()\n",
    "\n",
    "print(df)"
   ]
  },
  {
   "cell_type": "code",
   "execution_count": null,
   "id": "ee086ffa",
   "metadata": {},
   "outputs": [],
   "source": []
  },
  {
   "cell_type": "markdown",
   "id": "cc3bfea5",
   "metadata": {},
   "source": [
    "### Q12. Given a Pandas DataFrame df with a column 'Date' that contains timestamps, write a Python function to select all rows where the date is between '2023-01-01' and '2023-01-31'."
   ]
  },
  {
   "cell_type": "code",
   "execution_count": 12,
   "id": "d7583f24",
   "metadata": {},
   "outputs": [
    {
     "name": "stdout",
     "output_type": "stream",
     "text": [
      "         Date  Value\n",
      "7  2023-01-01      7\n",
      "8  2023-01-02      8\n",
      "9  2023-01-03      9\n",
      "10 2023-01-04     10\n",
      "11 2023-01-05     11\n",
      "12 2023-01-06     12\n",
      "13 2023-01-07     13\n",
      "14 2023-01-08     14\n",
      "15 2023-01-09     15\n",
      "16 2023-01-10     16\n",
      "17 2023-01-11     17\n",
      "18 2023-01-12     18\n",
      "19 2023-01-13     19\n"
     ]
    }
   ],
   "source": [
    "import pandas as pd\n",
    "\n",
    "# Example DataFrame\n",
    "data = {\n",
    "    'Date': pd.date_range(start='2022-12-25', periods=20, freq='D'),\n",
    "    'Value': range(20)\n",
    "}\n",
    "df = pd.DataFrame(data)\n",
    "\n",
    "# Converting 'Date' column to datetime format if not already\n",
    "df['Date'] = pd.to_datetime(df['Date'])\n",
    "\n",
    "# Selecting rows where 'Date' is between '2023-01-01' and '2023-01-31'\n",
    "start_date = '2023-01-01'\n",
    "end_date = '2023-01-31'\n",
    "\n",
    "selected_df = df[(df['Date'] >= start_date) & (df['Date'] <= end_date)]\n",
    "\n",
    "print(selected_df)\n"
   ]
  },
  {
   "cell_type": "code",
   "execution_count": null,
   "id": "5424b3b2",
   "metadata": {},
   "outputs": [],
   "source": []
  },
  {
   "cell_type": "markdown",
   "id": "4e74f4b0",
   "metadata": {},
   "source": [
    "### Q13. To use the basic functions of pandas, what is the first and foremost necessary library that needs to be imported?"
   ]
  },
  {
   "cell_type": "markdown",
   "id": "1268e94d",
   "metadata": {},
   "source": [
    "##### The first and foremost necessary library that needs to be imported to use the basic functions of pandas is pandas. Here is the standard import statement:"
   ]
  },
  {
   "cell_type": "code",
   "execution_count": 13,
   "id": "801686e3",
   "metadata": {},
   "outputs": [],
   "source": [
    "import pandas as pd"
   ]
  },
  {
   "cell_type": "code",
   "execution_count": null,
   "id": "8b60d101",
   "metadata": {},
   "outputs": [],
   "source": []
  }
 ],
 "metadata": {
  "kernelspec": {
   "display_name": "Python 3 (ipykernel)",
   "language": "python",
   "name": "python3"
  },
  "language_info": {
   "codemirror_mode": {
    "name": "ipython",
    "version": 3
   },
   "file_extension": ".py",
   "mimetype": "text/x-python",
   "name": "python",
   "nbconvert_exporter": "python",
   "pygments_lexer": "ipython3",
   "version": "3.10.9"
  }
 },
 "nbformat": 4,
 "nbformat_minor": 5
}
