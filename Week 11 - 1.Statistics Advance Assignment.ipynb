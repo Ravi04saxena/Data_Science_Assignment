{
 "cells": [
  {
   "cell_type": "markdown",
   "id": "8713558d",
   "metadata": {},
   "source": [
    "### Q1. What is the Probability density function?\n",
    "#### Sol:- The Probability Density Function (PDF) is a function that describes the likelihood of a continuous random variable taking on a particular value. Unlike discrete random variables, which have a probability mass function (PMF) that gives the probability of specific outcomes, a PDF indicates the probability density at different points in the variable's range.\n",
    "\n",
    "#### Key characteristics of a PDF include:\n",
    "* Non-negativity: The value of the PDF is always non-negative.\n",
    "* Integration: The area under the curve of the PDF over the entire range of the variable equals 1, representing the total probability.\n",
    "* Probability Calculation: The probability of the variable falling within a certain interval can be calculated by integrating the PDF over that interval."
   ]
  },
  {
   "cell_type": "code",
   "execution_count": null,
   "id": "6710a938",
   "metadata": {},
   "outputs": [],
   "source": []
  },
  {
   "cell_type": "markdown",
   "id": "2b88953d",
   "metadata": {},
   "source": [
    "### Q2. What are the types of Probability distribution?\n",
    "#### Sol:- Probability distributions can be broadly categorized into two main types: discrete probability distributions and continuous probability distributions. Here’s a brief overview of each:\n",
    "\n",
    "##### 1. Discrete Probability Distributions :-\n",
    "These distributions deal with discrete random variables, which can take on a finite or countably infinite number of values. Common discrete probability distributions include:\n",
    "* Bernoulli Distribution: Models a single trial with two outcomes (success/failure).\n",
    "* Binomial Distribution: Models the number of successes in a fixed number of independent Bernoulli trials.\n",
    "* Poisson Distribution: Models the number of events occurring in a fixed interval of time or space, given a known average rate.\n",
    "* Geometric Distribution: Models the number of trials until the first success in a series of Bernoulli trials.\n",
    "* Negative Binomial Distribution: Generalizes the geometric distribution to model the number of trials until a fixed number of successes.\n",
    "\n",
    "##### 2. Continuous Probability Distributions :-\n",
    "These distributions deal with continuous random variables, which can take on any value within a range. Common continuous probability distributions include:\n",
    "\n",
    "* Normal Distribution: A symmetric bell-shaped distribution characterized by its mean and standard deviation.\n",
    "* Uniform Distribution: All outcomes are equally likely within a specified range.\n",
    "* Exponential Distribution: Models the time between events in a Poisson process, characterized by a constant rate.\n",
    "* Log-Normal Distribution: Models variables whose logarithm is normally distributed, often used for non-negative data that can vary widely.\n",
    "* Gamma Distribution: A two-parameter family of continuous probability distributions used in various fields, including queuing models and reliability analysis.\n",
    "\n",
    "##### Summary\n",
    "These distributions are essential in statistics and probability theory as they help in modeling and analyzing random phenomena in various fields, including science, engineering, finance, and social sciences."
   ]
  },
  {
   "cell_type": "code",
   "execution_count": null,
   "id": "ca5510b7",
   "metadata": {},
   "outputs": [],
   "source": []
  },
  {
   "cell_type": "markdown",
   "id": "09ced8a6",
   "metadata": {},
   "source": [
    "### Q3. Write a Python function to calculate the probability density function of a normal distribution with given mean and standard deviation at a given point.\n",
    "#### Sol:-"
   ]
  },
  {
   "cell_type": "code",
   "execution_count": 1,
   "id": "a5bcc0ec",
   "metadata": {},
   "outputs": [
    {
     "name": "stdout",
     "output_type": "stream",
     "text": [
      "The probability density function at x = 1 is: 0.24197072451914337\n"
     ]
    }
   ],
   "source": [
    "import numpy as np\n",
    "\n",
    "# Given parameters\n",
    "mu = 0         # Mean\n",
    "sigma = 1      # Standard deviation\n",
    "x = 1          # Point at which to calculate the PDF\n",
    "\n",
    "# Calculate the PDF of the normal distribution\n",
    "pdf = (1 / (sigma * np.sqrt(2 * np.pi))) * np.exp(-((x - mu) ** 2) / (2 * sigma ** 2))\n",
    "\n",
    "print(f\"The probability density function at x = {x} is: {pdf}\")\n"
   ]
  },
  {
   "cell_type": "code",
   "execution_count": null,
   "id": "3aed23da",
   "metadata": {},
   "outputs": [],
   "source": []
  },
  {
   "cell_type": "markdown",
   "id": "4a32f20f",
   "metadata": {},
   "source": [
    "### Q4. What are the properties of Binomial distribution? Give two examples of events where binomial distribution can be applied.\n",
    "#### Sol:- Properties of Binomial Distribution\n",
    "* Fixed Number of Trials: The number of trials, n, is fixed in advance.\n",
    "* Two Possible Outcomes: Each trial results in one of two outcomes: \"success\" or \"failure\".\n",
    "* Constant Probability: The probability of success, p, remains constant for each trial.\n",
    "* Independent Trials: The trials are independent; the outcome of one trial does not affect the outcome of another.\n",
    "* Probability Mass Function (PMF): The probability of obtaining exactly k successes in n trials is given by the formula:\n",
    "\n",
    "P(X=k)=(nCk)*p^k*(1−p)^n−k\n",
    " \n",
    "where (nCk) is the binomial coefficient.\n",
    "\n",
    "#### Examples of Events Where Binomial Distribution Can Be Applied\n",
    "##### 1. Coin Tossing:\n",
    "* Scenario: Tossing a fair coin 10 times and counting the number of heads (successes).\n",
    "* Application: Here, n=10 (number of tosses), p=0.5 (probability of getting heads), and the outcome is either heads (success) or tails (failure).\n",
    "\n",
    "##### 2. Quality Control in Manufacturing:\n",
    "* Scenario: A factory produces light bulbs, and the probability that a bulb is defective is 0.02. If a quality inspector tests 100 bulbs, how many defective bulbs can be expected?\n",
    "* Application: Here, n=100 (number of bulbs tested), p=0.02 (probability of a bulb being defective), and the outcome is either defective (success) or non-defective (failure).\n",
    "    \n",
    "These properties and examples illustrate the scenarios where binomial distribution is applicable and how it can be utilized in practical situations."
   ]
  },
  {
   "cell_type": "code",
   "execution_count": null,
   "id": "0ba21d2f",
   "metadata": {},
   "outputs": [],
   "source": []
  },
  {
   "cell_type": "markdown",
   "id": "a096db9a",
   "metadata": {},
   "source": [
    "### Q5. Generate a random sample of size 1000 from a binomial distribution with probability of success 0.4 and plot a histogram of the results using matplotlib.\n",
    "#### Sol:- "
   ]
  },
  {
   "cell_type": "code",
   "execution_count": 7,
   "id": "7a7affc5",
   "metadata": {},
   "outputs": [
    {
     "data": {
      "image/png": "[encoded data removed]",
      "text/plain": [
       "<Figure size 1000x600 with 1 Axes>"
      ]
     },
     "metadata": {},
     "output_type": "display_data"
    }
   ],
   "source": [
    "import numpy as np\n",
    "import matplotlib.pyplot as plt\n",
    "\n",
    "# Parameters for the binomial distribution\n",
    "n = 1         # Number of trials (1 for Bernoulli trials)\n",
    "p = 0.4      # Probability of success\n",
    "size = 1000   # Sample size\n",
    "\n",
    "# Generate a random sample from a binomial distribution\n",
    "random_sample = np.random.binomial(n, p, size)\n",
    "\n",
    "# Plotting the histogram\n",
    "plt.figure(figsize=(10, 6))\n",
    "plt.hist(random_sample)\n",
    "plt.title('Histogram of Random Sample from Binomial Distribution')\n",
    "plt.xlabel('Number of Successes')\n",
    "plt.ylabel('Frequency')\n",
    "plt.show()\n"
   ]
  },
  {
   "cell_type": "code",
   "execution_count": null,
   "id": "6895515a",
   "metadata": {},
   "outputs": [],
   "source": []
  },
  {
   "cell_type": "markdown",
   "id": "52fe5ca5",
   "metadata": {},
   "source": [
    "### Q6. Write a Python function to calculate the cumulative distribution function of a Poisson distribution with given mean at a given point.\n",
    "### Sol:- "
   ]
  },
  {
   "cell_type": "code",
   "execution_count": 18,
   "id": "4fe0e437",
   "metadata": {},
   "outputs": [
    {
     "name": "stdout",
     "output_type": "stream",
     "text": [
      "The cumulative distribution function at k = 5 is: 0.9160820579686966\n"
     ]
    }
   ],
   "source": [
    "import numpy as np\n",
    "import math\n",
    "\n",
    "# Given parameters\n",
    "lambda_ = 3.0  # Mean of the Poisson distribution\n",
    "k = 5           # Point at which to calculate the CDF\n",
    "\n",
    "# Calculate the CDF of the Poisson distribution\n",
    "cdf = np.sum([np.exp(-lambda_) * (lambda_ ** x)/math.factorial(x) for x in range(k + 1)])\n",
    "\n",
    "print(f\"The cumulative distribution function at k = {k} is: {cdf}\")\n"
   ]
  },
  {
   "cell_type": "code",
   "execution_count": null,
   "id": "adeccd7c",
   "metadata": {},
   "outputs": [],
   "source": []
  },
  {
   "cell_type": "markdown",
   "id": "1973722b",
   "metadata": {},
   "source": [
    "### Q7. How Binomial distribution different from Poisson distribution?\n",
    "#### Sol:- The Binomial distribution and the Poisson distribution are both discrete probability distributions, but they differ in several important aspects related to the nature of the experiment, assumptions, and parameters involved. Here’s a comparison of the two:\n",
    "#### 1. Nature of the Experiment :-\n",
    "##### a) Binomial Distribution:\n",
    "* Models the number of successes in a fixed number of independent and identical trials.\n",
    "* Each trial results in a binary outcome: success or failure (e.g., flipping a coin).\n",
    "* The trials are independent of each other.\n",
    "\n",
    "##### b) Poisson Distribution:\n",
    "* Models the number of events occurring in a fixed interval of time or space.\n",
    "* The events are independent of each other.\n",
    "* The probability of a single event happening in a very short interval is proportional to the length of the interval.\n",
    "\n",
    "#### 2. Parameters :-\n",
    "##### a) Binomial Distribution:\n",
    "* Requires two parameters:\n",
    "  * n (the number of trials)\n",
    "  * p (the probability of success in each trial)\n",
    "\n",
    "* The mean of the binomial distribution is \n",
    "  * μ=n⋅p, and the variance is σ^2 =n⋅p⋅(1−p).\n",
    "\n",
    "#### b) Poisson Distribution:\n",
    "  * Requires one parameter:\n",
    "    * λ (the average number of events occurring in a fixed time or space).\n",
    "  * The mean and the variance of the Poisson distribution are both λ.\n",
    "\n",
    "#### 3. Conditions :-\n",
    "##### a) Binomial Distribution:\n",
    "* The number of trials n is fixed.\n",
    "* The probability of success p is constant for all trials.\n",
    "* Suitable for experiments where there is a finite number of trials and each trial is independent.\n",
    "\n",
    "#### b) Poisson Distribution:\n",
    "* Models situations where events occur randomly over a continuous interval (time, space, etc.).\n",
    "* There is no fixed number of trials or outcomes, and it assumes events are rare and independent.\n",
    "* Suitable for scenarios where events happen over time or space (e.g., customer arrivals at a store, phone calls at a call center).\n",
    "\n",
    "#### 4. When to Use :- \n",
    "##### a) Binomial Distribution:\n",
    "* Used when the experiment involves a fixed number of trials with a known probability of success, such as:\n",
    "  * Tossing a coin 10 times and counting how many heads occur.\n",
    "  * Checking 20 products for defects in a quality control setting.\n",
    "\n",
    "##### b) Poisson Distribution:\n",
    "* Used when the experiment involves counting the number of events in a fixed period of time or space, especially when the events are rare. Examples include:\n",
    "  * Counting the number of emails you receive in an hour.\n",
    "  * Counting the number of accidents at a busy intersection in a day.\n",
    "\n",
    "#### 5. Approximation :-\n",
    "* The Poisson distribution can be used as an approximation to the Binomial distribution when:\n",
    "  * The number of trials n is large.\n",
    "  * The probability of success p is small.\n",
    "  * The product n⋅p=λ (mean of the distribution) is moderate."
   ]
  },
  {
   "cell_type": "code",
   "execution_count": null,
   "id": "064ba36b",
   "metadata": {},
   "outputs": [],
   "source": []
  },
  {
   "cell_type": "markdown",
   "id": "ea7d8ec7",
   "metadata": {},
   "source": [
    "### Q8. Generate a random sample of size 1000 from a Poisson distribution with mean 5 and calculate the sample mean and variance.\n",
    "### Sol:- "
   ]
  },
  {
   "cell_type": "code",
   "execution_count": 19,
   "id": "310ccbd5",
   "metadata": {},
   "outputs": [
    {
     "name": "stdout",
     "output_type": "stream",
     "text": [
      "Sample Mean: 5.082\n",
      "Sample Variance: 5.205276\n"
     ]
    }
   ],
   "source": [
    "import numpy as np\n",
    "\n",
    "# Given parameters\n",
    "lambda_ = 5   # Mean of the Poisson distribution\n",
    "size = 1000   # Sample size\n",
    "\n",
    "# Generate a random sample from a Poisson distribution\n",
    "random_sample = np.random.poisson(lambda_, size)\n",
    "\n",
    "# Calculate the sample mean and variance\n",
    "sample_mean = np.mean(random_sample)\n",
    "sample_variance = np.var(random_sample)\n",
    "\n",
    "# Output the results\n",
    "print(f\"Sample Mean: {sample_mean}\")\n",
    "print(f\"Sample Variance: {sample_variance}\")\n"
   ]
  },
  {
   "cell_type": "code",
   "execution_count": null,
   "id": "f8d2b55f",
   "metadata": {},
   "outputs": [],
   "source": []
  },
  {
   "cell_type": "markdown",
   "id": "26522fa8",
   "metadata": {},
   "source": [
    "### Q9. How mean and variance are related in Binomial distribution and Poisson distribution?\n",
    "### Sol:- In both the Binomial distribution and the Poisson distribution, the mean and variance are related in specific ways, but the nature of that relationship differs between the two distributions.\n",
    "\n",
    "#### 1. Binomial Distribution:\n",
    "* The mean and variance of a Binomial distribution are given by the following formulas:\n",
    "   * Mean(μ):  μ=n⋅p\n",
    "      * Where:\n",
    "        * n is the number of trials.\n",
    "        * p is the probability of success on each trial.\n",
    "\n",
    "\n",
    "   * Variance(𝜎^2):   σ^2 =n⋅p⋅(1−p)\n",
    "      * Where:\n",
    "        * (1−p) is the probability of failure.\n",
    "#### Relationship:\n",
    "* In the Binomial distribution, the variance depends on both the number of trials n and the probability of success p.\n",
    "* As p increases, the variance decreases if n is kept constant.\n",
    "* The variance is always less than the mean unless p=0.5, in which case they can be equal.\n",
    "\n",
    "#### 2. Poisson Distribution:\n",
    "The mean and variance of a Poisson distribution are both equal to the parameter λ:\n",
    "* Mean(μ):    μ=λ\n",
    "  * Where:\n",
    "     * λ is the average number of events occurring in a fixed time or space interval.\n",
    "\n",
    "* Variance(σ^2) : 𝜎^2=λ\n",
    "\n",
    "#### Relationship:\n",
    "* In the Poisson distribution, the mean and variance are equal to each other. This is a unique property of the Poisson distribution.\n",
    "* If λ increases, both the mean and variance increase proportionally."
   ]
  },
  {
   "cell_type": "code",
   "execution_count": null,
   "id": "ce9aaa3f",
   "metadata": {},
   "outputs": [],
   "source": []
  },
  {
   "cell_type": "markdown",
   "id": "30776d60",
   "metadata": {},
   "source": [
    "### Q10. In normal distribution with respect to mean position, where does the least frequent data appear?\n",
    "### Sol:- In a normal distribution, which is symmetric and bell-shaped, the least frequent data appears in the tails of the distribution. These tails are farthest from the mean.\n",
    "\n",
    "#### Explanation:\n",
    "* In a normal distribution, most of the data is concentrated around the mean. As you move away from the mean, the frequency (or probability) of data points decreases.\n",
    "* The mean is the central point of the distribution, and the curve drops off symmetrically on both sides.\n",
    "* Data points that are farther from the mean (in the tails) are less frequent or less probable.\n",
    "\n",
    "#### Position of Least Frequent Data:\n",
    "* The least frequent data appears in the extreme ends or tails of the distribution, which correspond to values that are several standard deviations away from the mean.\n",
    "* In terms of standard deviations:\n",
    "  * Data points beyond ±3 standard deviations from the mean are considered rare, and the probability of observing such points is very low (approximately 0.3% of the data lies beyond this range in a normal distribution).\n",
    "\n",
    "Thus, the least frequent data appears far from the mean, in the tails of the normal distribution."
   ]
  },
  {
   "cell_type": "code",
   "execution_count": null,
   "id": "eb306ac4",
   "metadata": {},
   "outputs": [],
   "source": []
  }
 ],
 "metadata": {
  "kernelspec": {
   "display_name": "Python 3 (ipykernel)",
   "language": "python",
   "name": "python3"
  },
  "language_info": {
   "codemirror_mode": {
    "name": "ipython",
    "version": 3
   },
   "file_extension": ".py",
   "mimetype": "text/x-python",
   "name": "python",
   "nbconvert_exporter": "python",
   "pygments_lexer": "ipython3",
   "version": "3.10.9"
  }
 },
 "nbformat": 4,
 "nbformat_minor": 5
}
