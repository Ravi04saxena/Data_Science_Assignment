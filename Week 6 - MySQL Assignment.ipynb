{
 "cells": [
  {
   "cell_type": "markdown",
   "id": "2c374d42",
   "metadata": {},
   "source": [
    "#### MySQL Assignment"
   ]
  },
  {
   "cell_type": "markdown",
   "id": "fe5cc862",
   "metadata": {},
   "source": [
    "##### Q1. What is a database? Differentiate between SQL and NoSQL databases.\n",
    "##### Sol:- \n",
    "A database is a structured collection of data that is organized and stored in a way that allows for efficient retrieval, updating, and management. It serves as a repository for various types of information, and databases are commonly used in applications ranging from simple data storage to complex systems that require high-performance data processing.\n",
    "\n",
    "There are two main types of databases: SQL (Structured Query Language) databases and NoSQL databases. Here's a brief differentiation between the two:\n",
    "\n",
    "##### SQL Databases:\n",
    "a). SQL databases are typically used for applications with complex queries and transactions, where data integrity is crucial.\n",
    "\n",
    "b). Structure: SQL databases are relational databases, meaning they use a structured schema with tables to organize and represent data. Each table consists of rows and columns, and the relationships between tables are defined.\n",
    "\n",
    "c). Data Model: SQL databases follow the ACID (Atomicity, Consistency, Isolation, Durability) properties, ensuring data integrity and reliability.\n",
    "\n",
    "d). Scalability: Vertical scaling (adding more power to an existing server) is the common way to scale SQL databases. It may involve upgrading the hardware to handle increased loads.\n",
    "\n",
    "Examples of SQL databases: MySQL, PostgreSQL, Oracle, SQL Server.\n",
    "\n",
    "##### NoSQL Databases:\n",
    "a). NoSQL databases are often chosen for their scalability and flexibility, making them suitable for applications with large amounts of unstructured or semi-structured data and where high performance is essential.\n",
    "\n",
    "b). Structure: NoSQL databases are non-relational and often use a variety of data models, including document-oriented, key-value pairs, wide-column stores, or graph databases. The structure can be more flexible, allowing for dynamic schema.\n",
    "\n",
    "c). Data Model: NoSQL databases may not strictly adhere to the ACID properties. Instead, they often prioritize scalability and performance, allowing for eventual consistency rather than immediate consistency.\n",
    "\n",
    "d). Scalability: NoSQL databases are generally more horizontally scalable, which means that to handle increased loads, you can add more servers to the database.\n",
    "\n",
    "Examples of NoSQL databases: MongoDB (document-oriented), Cassandra (wide-column store), Redis (key-value store), Neo4j (graph database)."
   ]
  },
  {
   "cell_type": "code",
   "execution_count": null,
   "id": "81332349",
   "metadata": {},
   "outputs": [],
   "source": []
  },
  {
   "cell_type": "markdown",
   "id": "e36f8be3",
   "metadata": {},
   "source": [
    "##### Q2. What is DDL? Explain why CREATE, DROP, ALTER, and TRUNCATE are used with an example.\n",
    "##### Sol:- DDL stands for Data Definition Language, and it is a subset of SQL (Structured Query Language) used to define and manage the structure of a database. DDL statements are responsible for defining, altering, and deleting database structures such as tables, indexes, and schemas. The main DDL commands include CREATE, DROP, ALTER, and TRUNCATE.\n",
    "\n",
    "##### a). CREATE :-  It is used to create new database objects like tables, indexes, or views.\n",
    "Example: Creating a new table named Employees:"
   ]
  },
  {
   "cell_type": "code",
   "execution_count": null,
   "id": "bba83ae7",
   "metadata": {},
   "outputs": [],
   "source": [
    "CREATE TABLE Employees (\n",
    "    EmployeeID INT PRIMARY KEY,\n",
    "    FirstName VARCHAR(50),\n",
    "    LastName VARCHAR(50),\n",
    "    DepartmentID INT\n",
    ");"
   ]
  },
  {
   "cell_type": "markdown",
   "id": "68cb0d68",
   "metadata": {},
   "source": [
    "##### b). DROP :- It is used to delete existing database objects like tables, indexes, or views.\n",
    "Example: Dropping the previously created Employees table:"
   ]
  },
  {
   "cell_type": "code",
   "execution_count": null,
   "id": "3103f5f4",
   "metadata": {},
   "outputs": [],
   "source": [
    "DROP TABLE Employees;"
   ]
  },
  {
   "cell_type": "markdown",
   "id": "5988a3b4",
   "metadata": {},
   "source": [
    "##### c).ALTER :- It is used to modify the structure of an existing database object, such as adding or dropping columns in a table.\n",
    "Example: Adding a new column named Salary to the Employees table:"
   ]
  },
  {
   "cell_type": "code",
   "execution_count": null,
   "id": "e9d01189",
   "metadata": {},
   "outputs": [],
   "source": [
    "ALTER TABLE Employees\n",
    "ADD Salary DECIMAL(10, 2);"
   ]
  },
  {
   "cell_type": "markdown",
   "id": "9046761c",
   "metadata": {},
   "source": [
    "##### TRUNCATE :- It is used to delete all rows from a table but retains the structure for future use.\n",
    "Example: Truncating the Employees table:"
   ]
  },
  {
   "cell_type": "code",
   "execution_count": null,
   "id": "d801010a",
   "metadata": {},
   "outputs": [],
   "source": [
    "TRUNCATE TABLE Employees;"
   ]
  },
  {
   "cell_type": "code",
   "execution_count": null,
   "id": "c39be663",
   "metadata": {},
   "outputs": [],
   "source": []
  },
  {
   "cell_type": "markdown",
   "id": "0b26fa0c",
   "metadata": {},
   "source": [
    "##### Q3. What is DML? Explain INSERT, UPDATE, and DELETE with an example.\n",
    "##### Sol:- DML stands for Data Manipulation Language, and it is a subset of SQL (Structured Query Language) used to interact with and manipulate data stored in a database. DML consists of three main commands: INSERT, UPDATE, and DELETE."
   ]
  },
  {
   "cell_type": "markdown",
   "id": "acb2f57a",
   "metadata": {},
   "source": [
    "##### a). INSERT :- It is used to insert new records (rows) into a table.\n",
    "Example: Inserting a new employee into the Employees table:"
   ]
  },
  {
   "cell_type": "code",
   "execution_count": null,
   "id": "004cfef3",
   "metadata": {},
   "outputs": [],
   "source": [
    "INSERT INTO Employees (EmployeeID, FirstName, LastName, DepartmentID)\n",
    "VALUES (1, 'John', 'Doe', 101);"
   ]
  },
  {
   "cell_type": "markdown",
   "id": "79df2b68",
   "metadata": {},
   "source": [
    "##### b). UPDATE :- It is used to modify existing records in a table.\n",
    "Example: Updating the salary for employee John Doe in the Employees table:"
   ]
  },
  {
   "cell_type": "code",
   "execution_count": null,
   "id": "c692be8e",
   "metadata": {},
   "outputs": [],
   "source": [
    "UPDATE Employees\n",
    "SET Salary = 60000\n",
    "WHERE FirstName = 'John' AND LastName = 'Doe';"
   ]
  },
  {
   "cell_type": "markdown",
   "id": "2d52414d",
   "metadata": {},
   "source": [
    "##### DELETE :- It is used to delete records from a table.\n",
    "Example: Deleting an employee with EmployeeID 1 from the Employees table:"
   ]
  },
  {
   "cell_type": "code",
   "execution_count": null,
   "id": "d4fe4168",
   "metadata": {},
   "outputs": [],
   "source": [
    "DELETE FROM Employees\n",
    "WHERE EmployeeID = 1;"
   ]
  },
  {
   "cell_type": "code",
   "execution_count": null,
   "id": "54652e1a",
   "metadata": {},
   "outputs": [],
   "source": []
  },
  {
   "cell_type": "markdown",
   "id": "92da46fb",
   "metadata": {},
   "source": [
    "##### Q4. What is DQL? Explain SELECT with an example.\n",
    "##### Sol:- DQL stands for Data Query Language, and it is a subset of SQL (Structured Query Language) that is used to query and retrieve data from a database. The primary DQL command is SELECT, which allows you to specify the columns you want to retrieve and define conditions for filtering data.\n",
    "\n",
    "SELECT :- It is used to retrieve data from one or more tables in a database.\n",
    "\n",
    "Syntax:"
   ]
  },
  {
   "cell_type": "code",
   "execution_count": null,
   "id": "bece2a07",
   "metadata": {},
   "outputs": [],
   "source": [
    "SELECT column1, column2, ...\n",
    "FROM table_name\n",
    "WHERE condition;"
   ]
  },
  {
   "cell_type": "markdown",
   "id": "1550b2a8",
   "metadata": {},
   "source": [
    "##### Example:\n",
    "Suppose you have a table named Employees with columns EmployeeID, FirstName, LastName, Salary, and DepartmentID.\n",
    "\n",
    "We can use the SELECT statement to retrieve data from this table:"
   ]
  },
  {
   "cell_type": "code",
   "execution_count": 2,
   "id": "e526629a",
   "metadata": {},
   "outputs": [],
   "source": [
    "#Select all columns for all employees\n",
    "SELECT * FROM Employees;"
   ]
  },
  {
   "cell_type": "code",
   "execution_count": null,
   "id": "4256f6ed",
   "metadata": {},
   "outputs": [],
   "source": [
    "# Select specific columns for employees with a salary greater than 50000\n",
    "SELECT EmployeeID, FirstName, LastName, Salary\n",
    "FROM Employees\n",
    "WHERE Salary > 50000;"
   ]
  },
  {
   "cell_type": "code",
   "execution_count": null,
   "id": "a5960735",
   "metadata": {},
   "outputs": [],
   "source": [
    "# Select distinct department IDs from the Employees table\n",
    "SELECT DISTINCT DepartmentID\n",
    "FROM Employees;"
   ]
  },
  {
   "cell_type": "code",
   "execution_count": null,
   "id": "7f70423e",
   "metadata": {},
   "outputs": [],
   "source": []
  },
  {
   "cell_type": "markdown",
   "id": "ca152fbc",
   "metadata": {},
   "source": [
    "##### Q5. Explain Primary Key and Foreign Key.\n",
    "##### Sol:- In MySQL and other relational database management systems (RDBMS), Primary Key (PK) and Foreign Key (FK) are two important concepts that define relationships between tables.\n",
    "\n",
    "##### Primary Key :- \n",
    "A primary key is a column or a set of columns in a table that uniquely identifies each record in that table. It must have a unique value for each row and cannot contain NULL values.\n",
    "\n",
    "Purpose :- It provides a way to uniquely identify each record in the table. Ensures data integrity and prevents duplicate or null values in the primary key column(s)."
   ]
  },
  {
   "cell_type": "code",
   "execution_count": null,
   "id": "6b0cdd83",
   "metadata": {},
   "outputs": [],
   "source": [
    "# Example\n",
    "CREATE TABLE Employees (\n",
    "    EmployeeID INT PRIMARY KEY,\n",
    "    FirstName VARCHAR(50),\n",
    "    LastName VARCHAR(50),\n",
    "    DepartmentID INT\n",
    ");"
   ]
  },
  {
   "cell_type": "markdown",
   "id": "4c16bf24",
   "metadata": {},
   "source": [
    "##### Foreign Key :-\n",
    "A foreign key is a column or a set of columns in a table that refers to the primary key of another table. It establishes a link between the two tables, creating a relationship.\n",
    "\n",
    "Purpose:\n",
    "Enforces referential integrity by ensuring that values in the foreign key column(s) match values in the referenced primary key column(s) of another table. Supports relationships between tables, enabling the creation of complex database structures."
   ]
  },
  {
   "cell_type": "code",
   "execution_count": 4,
   "id": "b74c1443",
   "metadata": {},
   "outputs": [],
   "source": [
    "# Example\n",
    "CREATE TABLE Departments (\n",
    "    DepartmentID INT PRIMARY KEY,\n",
    "    DepartmentName VARCHAR(50)\n",
    ");\n",
    "\n",
    "CREATE TABLE Employees (\n",
    "    EmployeeID INT PRIMARY KEY,\n",
    "    FirstName VARCHAR(50),\n",
    "    LastName VARCHAR(50),\n",
    "    DepartmentID INT,\n",
    "    FOREIGN KEY (DepartmentID) REFERENCES Departments(DepartmentID)\n",
    ");"
   ]
  },
  {
   "cell_type": "code",
   "execution_count": null,
   "id": "3cd10e98",
   "metadata": {},
   "outputs": [],
   "source": []
  },
  {
   "cell_type": "markdown",
   "id": "e0705ba0",
   "metadata": {},
   "source": [
    "##### Q6. Write a python code to connect MySQL to python. Explain the cursor() and execute() method.\n",
    "##### Sol :- To connect MySQL to Python, you can use a MySQL connector library. One popular library is mysql-connector-python. Before using the library, make sure to install it using:\n",
    "pip install mysql-connector-python\n",
    "\n",
    "##### cursor() :- The cursor() method creates a cursor object. A cursor is an object that allows you to interact with the MySQL database by executing SQL queries.\n",
    "\n",
    "##### execute() :- The execute() method of the cursor is used to execute SQL queries. You pass the SQL query as a string to this method. In Example 1, a SELECT query retrieves all rows from a table, and in Examples 2 and 3, INSERT and UPDATE queries are executed.\n"
   ]
  },
  {
   "cell_type": "code",
   "execution_count": null,
   "id": "e5ee6d7d",
   "metadata": {},
   "outputs": [],
   "source": [
    "import mysql.connector\n",
    "\n",
    "# Establishing a connection to the MySQL database\n",
    "connection = mysql.connector.connect(\n",
    "    host=\"your_host\",\n",
    "    user=\"your_username\",\n",
    "    password=\"your_password\",\n",
    "    database=\"your_database\"\n",
    ")\n",
    "\n",
    "# Creating a cursor object\n",
    "cursor = connection.cursor()\n",
    "\n",
    "# Example 1: Using execute() to execute a simple SQL query\n",
    "cursor.execute(\"SELECT * FROM your_table_name\")\n",
    "result = cursor.fetchall()\n",
    "\n",
    "# Example 2: Using execute() to insert data into a table\n",
    "insert_query = \"INSERT INTO your_table_name (column1, column2) VALUES (%s, %s)\"\n",
    "data_to_insert = (\"value1\", \"value2\")\n",
    "cursor.execute(insert_query, data_to_insert)\n",
    "\n",
    "# Example 3: Using execute() to update data in a table\n",
    "update_query = \"UPDATE your_table_name SET column1 = %s WHERE column2 = %s\"\n",
    "data_to_update = (\"new_value\", \"condition_value\")\n",
    "cursor.execute(update_query, data_to_update)\n",
    "\n",
    "# Committing the changes\n",
    "connection.commit()\n",
    "\n",
    "# Closing the cursor and connection\n",
    "cursor.close()\n",
    "connection.close()\n"
   ]
  },
  {
   "cell_type": "code",
   "execution_count": null,
   "id": "2e803f4a",
   "metadata": {},
   "outputs": [],
   "source": []
  },
  {
   "cell_type": "markdown",
   "id": "dfe742f5",
   "metadata": {},
   "source": [
    "##### Q7. Give the order of execution of SQL clauses in an SQL query.\n",
    "##### Sol :- \n",
    "##### FROM:\n",
    "The FROM clause specifies the table or tables from which the data will be retrieved.\n",
    "\n",
    "##### JOIN:\n",
    "If there are JOIN clauses, the data from multiple tables is combined based on specified conditions.\n",
    "\n",
    "##### WHERE:\n",
    "The WHERE clause is used to filter rows based on specified conditions. It operates on the result set after the FROM and JOIN clauses.\n",
    "\n",
    "##### GROUP BY:\n",
    "If a GROUP BY clause is present, rows are grouped based on the specified columns. This clause is often used in conjunction with aggregate functions like SUM, AVG, COUNT, etc.\n",
    "\n",
    "##### HAVING:\n",
    "The HAVING clause is used to filter the grouped rows based on specified conditions. It operates similarly to the WHERE clause but is applied after the GROUP BY clause.\n",
    "\n",
    "##### SELECT:\n",
    "The SELECT clause determines which columns from the result set will be included in the final output.\n",
    "\n",
    "##### DISTINCT:\n",
    "If the DISTINCT keyword is used, duplicate rows are eliminated from the result set.\n",
    "\n",
    "##### ORDER BY:\n",
    "The ORDER BY clause is used to sort the result set based on one or more columns. This is the last operation before presenting the final result.\n",
    "\n",
    "##### LIMIT and OFFSET:\n",
    "If the LIMIT and OFFSET clauses are present, they are applied to restrict the number of rows in the result set and specify the starting point for the selection, respectively."
   ]
  },
  {
   "cell_type": "code",
   "execution_count": null,
   "id": "32a828ce",
   "metadata": {},
   "outputs": [],
   "source": []
  },
  {
   "cell_type": "code",
   "execution_count": null,
   "id": "ec17c290",
   "metadata": {},
   "outputs": [],
   "source": []
  },
  {
   "cell_type": "code",
   "execution_count": null,
   "id": "0b677b8c",
   "metadata": {},
   "outputs": [],
   "source": []
  },
  {
   "cell_type": "code",
   "execution_count": null,
   "id": "50aabc44",
   "metadata": {},
   "outputs": [],
   "source": []
  },
  {
   "cell_type": "code",
   "execution_count": null,
   "id": "fa9ff3d4",
   "metadata": {},
   "outputs": [],
   "source": []
  }
 ],
 "metadata": {
  "kernelspec": {
   "display_name": "Python 3 (ipykernel)",
   "language": "python",
   "name": "python3"
  },
  "language_info": {
   "codemirror_mode": {
    "name": "ipython",
    "version": 3
   },
   "file_extension": ".py",
   "mimetype": "text/x-python",
   "name": "python",
   "nbconvert_exporter": "python",
   "pygments_lexer": "ipython3",
   "version": "3.10.9"
  }
 },
 "nbformat": 4,
 "nbformat_minor": 5
}
