{
 "cells": [
  {
   "cell_type": "markdown",
   "id": "02e7ef74",
   "metadata": {},
   "source": [
    "#### Multithreading Assignment"
   ]
  },
  {
   "cell_type": "markdown",
   "id": "4ada6f90",
   "metadata": {},
   "source": [
    "##### Q1. What is Multithreading in Python ? Why is it used ? Name a module used to handle thread in python.\n",
    "##### Sol. \n",
    "1).Multithreading is a programming concept where multiple threads (smaller units of a process) run concurrently within the context of a single process. Each thread represents a separate flow of control, allowing for parallel execution of tasks. In Python, the threading module is commonly used to implement multithreading.\n",
    "\n",
    "2).It's important to note that Python's Global Interpreter Lock (GIL) can impact the effectiveness of multithreading in certain scenarios. The GIL is a mutex that protects access to Python objects, preventing multiple threads from executing Python bytecodes at once. This means that, in CPython (the default and most widely used Python interpreter), even though you might be using multiple threads, only one thread can execute Python bytecode at a time. This limitation can make multithreading less effective for CPU-bound tasks in Python.\n",
    "\n",
    "##### Why is it used - \n",
    "Multithreading in Python is primarily used for two main purposes: handling concurrent I/O operations and improving the responsiveness of graphical user interfaces (GUIs) - \n",
    "\n",
    "###### 1).Concurrent I/O Operations :- \n",
    "When a program spends a significant amount of time waiting for input/output operations (such as reading/writing to files, network communication, or interacting with databases), multithreading can be beneficial.\n",
    "\n",
    "In multithreading, while one thread is waiting for an I/O operation to complete, other threads can continue their execution. This allows for better utilization of resources and can lead to improved overall performance in scenarios where I/O operations are a bottleneck.\n",
    "\n",
    "###### 2).Improved Responsiveness in GUIs :- \n",
    "Graphical user interfaces often require responsiveness to user input while performing background tasks. If time-consuming operations are performed in the main (UI) thread, it can lead to a sluggish user interface and make the application less user-friendly.\n",
    "\n",
    "Multithreading can be used to move time-consuming tasks to separate threads, allowing the main thread to remain responsive to user input. This is crucial for providing a smooth user experience in applications with graphical interfaces.\n",
    "\n",
    "##### Name a module used to handle thread in python - \n",
    "The threading module is commonly used to handle threads in Python. This module provides a way to create and manage threads, allowing for concurrent execution of tasks within a Python program. It includes classes and functions for working with threads, such as creating threads, synchronizing threads, and managing thread execution.\n",
    "\n",
    "##### Below is the example of multithreading - "
   ]
  },
  {
   "cell_type": "code",
   "execution_count": 23,
   "id": "7785481f",
   "metadata": {},
   "outputs": [
    {
     "name": "stdout",
     "output_type": "stream",
     "text": [
      "Thread 1 printing 0Thread 2 printing A\n",
      "\n",
      "Thread 1 printing 1Thread 2 printing B\n",
      "\n",
      "Thread 1 printing 2\n",
      "Thread 2 printing C\n",
      "Thread 2 printing DThread 1 printing 3\n",
      "\n",
      "Thread 1 printing 4Thread 2 printing E\n",
      "\n"
     ]
    }
   ],
   "source": [
    "import threading\n",
    "import time\n",
    "\n",
    "def print_numbers():\n",
    "    for i in range(5):\n",
    "        time.sleep(1)\n",
    "        print(f\"Thread 1 printing {i}\")\n",
    "\n",
    "def print_letters():\n",
    "    for letter in 'ABCDE':\n",
    "        time.sleep(1)\n",
    "        print(f\"Thread 2 printing {letter}\")\n",
    "\n",
    "# Create two threads\n",
    "thread1 = threading.Thread(target=print_numbers)\n",
    "thread2 = threading.Thread(target=print_letters)\n",
    "\n",
    "# Start the threads\n",
    "thread1.start()\n",
    "thread2.start()\n",
    "\n",
    "# Wait for both threads to finish\n",
    "# thread1.join()\n",
    "# thread2.join()\n",
    "\n",
    "#print(\"Main thread exiting.\")"
   ]
  },
  {
   "cell_type": "code",
   "execution_count": null,
   "id": "2bbf5fa4",
   "metadata": {},
   "outputs": [],
   "source": []
  },
  {
   "cell_type": "markdown",
   "id": "9f862db3",
   "metadata": {},
   "source": [
    "##### Q2. Why threading module used ? Write the use of following functions :\n",
    "##### 1. activeCount()\n",
    "##### 2. currentThread()\n",
    "##### 3. enumerate()\n",
    "\n",
    "##### Sol. \n",
    "The threading module in Python is used to implement multithreading. Multithreading is a programming concept where multiple threads (smaller units of a process) run concurrently within the context of a single process. The threading module provides a way to create and manage threads, allowing for parallel execution of tasks. Here are some common reasons for using the threading module in Python:\n",
    "\n",
    "###### Concurrent Execution:\n",
    "Multithreading allows different parts of a program to run concurrently. This is particularly useful in scenarios where tasks can be executed independently, and parallelism can lead to better overall performance.\n",
    "\n",
    "###### Handling Concurrent I/O Operations:\n",
    "For I/O-bound tasks, where a program spends a significant amount of time waiting for input/output operations (such as reading/writing to files, network communication, or interacting with databases), multithreading can be beneficial. While one thread is waiting for an I/O operation to complete, other threads can continue their execution.\n",
    "\n",
    "###### Improved Responsiveness in GUIs:\n",
    "Graphical user interfaces (GUIs) often require responsiveness to user input while performing background tasks. If time-consuming operations are performed in the main (UI) thread, it can lead to a sluggish user interface. Multithreading can be used to move time-consuming tasks to separate threads, allowing the main thread to remain responsive to user input.\n",
    "\n",
    "###### Parallelism for Certain Tasks:\n",
    "In some scenarios, even though Python's Global Interpreter Lock (GIL) limits the parallel execution of Python bytecodes in multiple threads in CPython (the default Python interpreter), multithreading can still be effective for parallelism in certain situations. This is particularly true for tasks that are not heavily CPU-bound, such as tasks that involve waiting for external resources.\n",
    "\n",
    "###### Asynchronous Programming:\n",
    "The asyncio module in Python leverages the threading module to implement asynchronous programming. Asynchronous programming allows for non-blocking I/O operations and can be useful for handling a large number of concurrent connections, such as in networking applications.\n",
    "It's important to note that while the threading module is suitable for certain scenarios, it may not be the best choice for CPU-bound tasks that require parallelism across multiple cores due to the limitations imposed by the Global Interpreter Lock (GIL). For CPU-bound tasks, the multiprocessing module or other concurrency approaches may be more appropriate."
   ]
  },
  {
   "cell_type": "markdown",
   "id": "241807bd",
   "metadata": {},
   "source": [
    "###### Use of following functions :\n",
    "###### 1. activeCount() :\n",
    "The activeCount() method is a part of the threading module in Python, and it is used to get the current number of Thread objects that are alive. It returns the number of Thread objects that have been created and have not yet been terminated.\n",
    "\n",
    "Here's an example of how you can use activeCount():"
   ]
  },
  {
   "cell_type": "code",
   "execution_count": 40,
   "id": "b75afb77",
   "metadata": {},
   "outputs": [
    {
     "name": "stdout",
     "output_type": "stream",
     "text": [
      "Number of active threads: 8\n",
      "Working...Working...\n",
      "\n",
      "Working...\n",
      "Working...\n",
      "Working...Working...\n",
      "\n",
      "Working...\n",
      "Working...\n",
      "Working...\n",
      "Working...\n",
      "Number of active threads after threads have finished: 6\n"
     ]
    }
   ],
   "source": [
    "import threading\n",
    "import time\n",
    "\n",
    "def my_function():\n",
    "    for _ in range(5):\n",
    "        time.sleep(1)\n",
    "        print(\"Working...\")\n",
    "\n",
    "# Create two threads\n",
    "thread3 = threading.Thread(target=my_function)\n",
    "thread4 = threading.Thread(target=my_function)\n",
    "\n",
    "# Start the threads\n",
    "thread3.start()\n",
    "thread4.start()\n",
    "\n",
    "# Check the number of active threads\n",
    "print(\"Number of active threads:\", threading.active_count())\n",
    "\n",
    "# Wait for both threads to finish\n",
    "thread3.join()\n",
    "thread4.join()\n",
    "\n",
    "# Check the number of active threads again\n",
    "print(\"Number of active threads after threads have finished:\", threading.active_count())\n"
   ]
  },
  {
   "cell_type": "markdown",
   "id": "b278e2dc",
   "metadata": {},
   "source": [
    "###### 2. currentThread() :-\n",
    "the currentThread() function is used to obtain a reference to the current Thread object, representing the thread from which the function is called. This can be useful in various scenarios for understanding and managing the current thread. Here are some use cases for currentThread():\n",
    "\n",
    "###### 1).Identifying the Current Thread:\n",
    "You can use currentThread() to identify the current thread within a multithreaded program. This is helpful for logging, debugging, or any situation where you need to know which thread is currently executing a particular piece of code.\n",
    "\n",
    "Below is the example of currentThread() - "
   ]
  },
  {
   "cell_type": "code",
   "execution_count": 29,
   "id": "f23f4fdc",
   "metadata": {},
   "outputs": [
    {
     "name": "stdout",
     "output_type": "stream",
     "text": [
      "Executing in thread: Thread-58 (my_function)\n"
     ]
    }
   ],
   "source": [
    "import threading\n",
    "\n",
    "def my_function():\n",
    "    current_thread = threading.current_thread()\n",
    "    print(f\"Executing in thread: {current_thread.name}\")\n",
    "\n",
    "# Create and start a thread\n",
    "my_thread = threading.Thread(target=my_function)\n",
    "my_thread.start()\n",
    "my_thread.join()\n",
    "\n",
    "# Output (the thread name may vary):"
   ]
  },
  {
   "cell_type": "markdown",
   "id": "4958e00b",
   "metadata": {},
   "source": [
    "###### 2).Setting Thread Names:\n",
    "You can use currentThread() to set a name for the current thread. This can make it easier to identify threads when examining logs or debugging output.\n",
    "\n",
    "Example - "
   ]
  },
  {
   "cell_type": "code",
   "execution_count": 30,
   "id": "bec216fb",
   "metadata": {},
   "outputs": [
    {
     "name": "stdout",
     "output_type": "stream",
     "text": [
      "Executing in thread: MyCustomThread\n"
     ]
    }
   ],
   "source": [
    "import threading\n",
    "\n",
    "def my_function():\n",
    "    current_thread = threading.current_thread()\n",
    "    current_thread.name = \"MyCustomThread\"\n",
    "    print(f\"Executing in thread: {current_thread.name}\")\n",
    "\n",
    "# Create and start a thread\n",
    "my_thread = threading.Thread(target=my_function)\n",
    "my_thread.start()\n",
    "my_thread.join()"
   ]
  },
  {
   "cell_type": "markdown",
   "id": "68091c4e",
   "metadata": {},
   "source": [
    "###### 3).Thread-Specific Data:\n",
    "You can use currentThread() to access or modify thread-specific data associated with the current thread. This can be achieved using the threading.local() class.\n",
    "\n",
    "Exampple - "
   ]
  },
  {
   "cell_type": "code",
   "execution_count": 31,
   "id": "58c463be",
   "metadata": {},
   "outputs": [
    {
     "name": "stdout",
     "output_type": "stream",
     "text": [
      "Thread data: Data for Thread-60 (my_function)\n"
     ]
    }
   ],
   "source": [
    "import threading\n",
    "\n",
    "# Create thread-local data\n",
    "thread_local_data = threading.local()\n",
    "\n",
    "def set_thread_data(value):\n",
    "    thread_local_data.value = value\n",
    "\n",
    "def get_thread_data():\n",
    "    return thread_local_data.value\n",
    "\n",
    "def my_function():\n",
    "    current_thread = threading.current_thread()\n",
    "    set_thread_data(f\"Data for {current_thread.name}\")\n",
    "    print(f\"Thread data: {get_thread_data()}\")\n",
    "\n",
    "# Create and start a thread\n",
    "my_thread = threading.Thread(target=my_function)\n",
    "my_thread.start()\n",
    "my_thread.join()"
   ]
  },
  {
   "cell_type": "code",
   "execution_count": null,
   "id": "212b59f8",
   "metadata": {},
   "outputs": [],
   "source": []
  },
  {
   "cell_type": "markdown",
   "id": "6521f704",
   "metadata": {},
   "source": [
    "###### Q3. Explain the following functions:\n",
    "###### 1. run()\n",
    "###### 2. start()\n",
    "###### 3. join()\n",
    "###### 4. isAlive()\n",
    "\n",
    "###### Sol.\n",
    "###### 1. run() :- \n",
    "The run() method is a method that you can override in your custom thread class to define the behavior of the thread when it is started. The run() method contains the code that will be executed when the thread is running. When you create a new thread by subclassing the Thread class and override the run() method, the code within the run() method will be executed in a separate thread when you start that thread.\n",
    "\n",
    "Example :-"
   ]
  },
  {
   "cell_type": "code",
   "execution_count": 32,
   "id": "687e316f",
   "metadata": {},
   "outputs": [
    {
     "name": "stdout",
     "output_type": "stream",
     "text": [
      "Thread Thread-61: 0\n",
      "Thread Thread-61: 1\n",
      "Thread Thread-61: 2\n",
      "Thread Thread-61: 3\n",
      "Thread Thread-61: 4\n",
      "Main thread exiting.\n"
     ]
    }
   ],
   "source": [
    "import threading\n",
    "\n",
    "class MyThread(threading.Thread):\n",
    "    def run(self):\n",
    "        # Code to be executed in the thread\n",
    "        for i in range(5):\n",
    "            print(f\"Thread {self.name}: {i}\")\n",
    "\n",
    "# Create and start a thread\n",
    "my_thread = MyThread()\n",
    "my_thread.start()\n",
    "my_thread.join()\n",
    "\n",
    "print(\"Main thread exiting.\")"
   ]
  },
  {
   "cell_type": "markdown",
   "id": "a54cdfa8",
   "metadata": {},
   "source": [
    "In this example, MyThread is a subclass of Thread, and it overrides the run() method. The run() method contains a simple loop that prints some messages. When the thread is started with my_thread.start(), it internally calls the run() method in the new thread.\n",
    "\n",
    "It's important to note that when you create a custom thread class and override the run() method, you should not call the run() method directly. Instead, you should use the start() method, which takes care of the necessary thread setup and then calls the run() method in the new thread.\n",
    "\n",
    "If you were to call run() directly, the code would be executed in the current thread, not in a separate thread. The purpose of the start() method is to initiate the new thread, and the run() method is automatically called in the context of that new thread.\n"
   ]
  },
  {
   "cell_type": "markdown",
   "id": "db65c344",
   "metadata": {},
   "source": [
    "###### 2. start() :-\n",
    "The start() method is used to initiate the execution of a thread. This method must be called on a Thread object to begin the execution of the target function or method in a separate thread. When start() is invoked, a new thread of control is spawned, and the code specified in the target argument of the Thread constructor begins to run concurrently with the main thread.\n",
    "\n",
    "Here's a simple example to illustrate the usage of start():"
   ]
  },
  {
   "cell_type": "code",
   "execution_count": 33,
   "id": "b19da8a0",
   "metadata": {},
   "outputs": [
    {
     "name": "stdout",
     "output_type": "stream",
     "text": [
      "Executing in the main threadExecuting in the thread\n",
      "\n",
      "Executing in the threadExecuting in the main thread\n",
      "\n",
      "Executing in the thread\n",
      "Executing in the main thread\n",
      "Executing in the thread\n",
      "Executing in the thread\n",
      "Main thread exiting.\n"
     ]
    }
   ],
   "source": [
    "import threading\n",
    "import time\n",
    "\n",
    "def my_function():\n",
    "    for _ in range(5):\n",
    "        time.sleep(1)\n",
    "        print(\"Executing in the thread\")\n",
    "\n",
    "# Create a Thread object with my_function as the target\n",
    "my_thread = threading.Thread(target=my_function)\n",
    "\n",
    "# Start the thread\n",
    "my_thread.start()\n",
    "\n",
    "# The main thread continues its execution independently of the new thread\n",
    "for _ in range(3):\n",
    "    time.sleep(1)\n",
    "    print(\"Executing in the main thread\")\n",
    "\n",
    "# Wait for the thread to finish (optional)\n",
    "my_thread.join()\n",
    "\n",
    "print(\"Main thread exiting.\")"
   ]
  },
  {
   "cell_type": "markdown",
   "id": "0825c9d1",
   "metadata": {},
   "source": [
    "In this example, my_function is the target function that will be executed in the new thread. The my_thread.start() call initiates the execution of the new thread. While the new thread runs my_function, the main thread continues its execution independently.\n",
    "\n",
    "It's important to note a couple of key points:\n",
    "\n",
    "1).Once a thread has been started, you cannot restart it or call start() again on the same Thread object.\n",
    "\n",
    "2).The start() method is what actually causes the thread to be created and begins the execution of the target function.\n",
    "\n",
    "If you want to wait for the thread to finish before continuing with the main thread, you can use the join() method, as shown in the example. The join() method blocks the calling thread until the thread whose join() method is called completes its execution."
   ]
  },
  {
   "cell_type": "markdown",
   "id": "e89428b3",
   "metadata": {},
   "source": [
    "###### 3. join() :-\n",
    "The join() method is used to ensure that a thread completes its execution before moving on to the next part of the program. The join() method is typically called on a Thread object and is used to wait for that thread to finish.\n",
    "\n",
    "Here's how join() works:\n",
    "\n",
    "Basic Usage:\n",
    "\n",
    "When you create and start a thread, the main program or another thread can call join() on that thread. This causes the calling thread to wait for the target thread to complete its execution."
   ]
  },
  {
   "cell_type": "code",
   "execution_count": 35,
   "id": "db47d308",
   "metadata": {},
   "outputs": [
    {
     "name": "stdout",
     "output_type": "stream",
     "text": [
      "Thread is executing.\n",
      "Main thread exiting.\n"
     ]
    }
   ],
   "source": [
    "import threading\n",
    "\n",
    "def my_function():\n",
    "    print(\"Thread is executing.\")\n",
    "\n",
    "# Create and start a thread\n",
    "my_thread = threading.Thread(target=my_function)\n",
    "my_thread.start()\n",
    "\n",
    "# Wait for the thread to finish, but not more than 2 seconds\n",
    "my_thread.join(2)\n",
    "\n",
    "print(\"Main thread exiting.\")\n",
    "\n",
    "#In this example, the main thread will wait for my_thread to finish, but not for more than 2 seconds"
   ]
  },
  {
   "cell_type": "markdown",
   "id": "cb2f2a42",
   "metadata": {},
   "source": [
    "###### 4. isAlive() :-\n",
    "The isAlive() method is used to check whether a thread is currently executing or alive. The method returns True if the thread is alive and False otherwise.\n",
    "\n",
    "Here's a brief explanation of how isAlive() is typically used:\n",
    "\n",
    "Checking Thread Status:\n",
    "\n",
    "You can use isAlive() to check whether a thread is still running or has completed its execution.\n",
    "\n",
    "Example:"
   ]
  },
  {
   "cell_type": "code",
   "execution_count": 38,
   "id": "d9d172f5",
   "metadata": {},
   "outputs": [
    {
     "name": "stdout",
     "output_type": "stream",
     "text": [
      "Thread is running.Thread is alive.\n",
      "\n",
      "Thread is finishing.\n",
      "Thread is not alive.\n"
     ]
    }
   ],
   "source": [
    "import threading\n",
    "import time\n",
    "\n",
    "def my_function():\n",
    "    print(\"Thread is running.\")\n",
    "    time.sleep(2)\n",
    "    print(\"Thread is finishing.\")\n",
    "\n",
    "# Create a thread\n",
    "my_thread = threading.Thread(target=my_function)\n",
    "\n",
    "# Start the thread\n",
    "my_thread.start()\n",
    "\n",
    "# Check if the thread is alive\n",
    "if my_thread.is_alive():\n",
    "    print(\"Thread is alive.\")\n",
    "else:\n",
    "    print(\"Thread is not alive.\")\n",
    "\n",
    "# Wait for the thread to finish\n",
    "my_thread.join()\n",
    "\n",
    "# Check again after the thread has finished\n",
    "if my_thread.is_alive():\n",
    "    print(\"Thread is alive.\")\n",
    "else:\n",
    "    print(\"Thread is not alive.\")\n"
   ]
  },
  {
   "cell_type": "markdown",
   "id": "88921e99",
   "metadata": {},
   "source": [
    "##### Q4. Write a python program to create two threads. Thread one must print the list of squares and threas two must print the list of cubes.\n",
    "##### Sol. "
   ]
  },
  {
   "cell_type": "code",
   "execution_count": 5,
   "id": "22b61c03",
   "metadata": {},
   "outputs": [
    {
     "name": "stdout",
     "output_type": "stream",
     "text": [
      "square of 1 :- 1\n",
      "square of 2 :- 4\n",
      "square of 3 :- 9\n",
      "square of 4 :- 16\n",
      "square of 5 :- 25\n",
      "square of 6 :- 36\n",
      "square of 7 :- 49\n",
      "square of 8 :- 64\n",
      "square of 9 :- 81\n",
      "cubes of 1 :- 1\n",
      "cubes of 2 :- 8\n",
      "cubes of 3 :- 27\n",
      "cubes of 4 :- 64\n",
      "cubes of 5 :- 125\n",
      "cubes of 6 :- 216\n",
      "cubes of 7 :- 343\n",
      "cubes of 8 :- 512\n",
      "cubes of 9 :- 729\n",
      "both threads have finished\n"
     ]
    }
   ],
   "source": [
    "import threading\n",
    "\n",
    "def list_of_square():\n",
    "    for i in range(1,10):\n",
    "        print(f\"square of {i} :- {i**2}\")\n",
    "        \n",
    "def list_of_cubes():\n",
    "    for i in range(1,10):\n",
    "        print(f\"cubes of {i} :- {i**3}\")\n",
    "              \n",
    "# create thread\n",
    "              \n",
    "thread1 = threading.Thread(target = list_of_square)\n",
    "thread2 = threading.Thread(target = list_of_cubes)\n",
    "              \n",
    "# start thread\n",
    "thread1.start()\n",
    "thread2.start()\n",
    "              \n",
    "# wait for threads to finish\n",
    "thread1.join()\n",
    "thread2.join()\n",
    "              \n",
    "print('both threads have finished')"
   ]
  },
  {
   "cell_type": "code",
   "execution_count": null,
   "id": "9c035924",
   "metadata": {},
   "outputs": [],
   "source": []
  },
  {
   "cell_type": "markdown",
   "id": "404d94c5",
   "metadata": {},
   "source": [
    "#### Q5. State advantages and disadvantages of multithreading.\n",
    "##### Sol.Multithreading is a programming concept where multiple threads within a process execute independently, sharing the same resources such as memory space. This approach has both advantages and disadvantages:\n",
    "\n",
    "###### Advantages of Multithreading:\n",
    "\n",
    "###### 1).Improved Performance:\n",
    "\n",
    "a).Concurrency: Multithreading allows multiple threads to execute concurrently, making better use of available CPU resources and potentially improving the overall performance of a program.\n",
    "\n",
    "b).Responsiveness: In applications with a graphical user interface (GUI), multithreading can help maintain a responsive user interface even when other tasks are being performed in the background.\n",
    "\n",
    "###### 2).Resource Sharing:\n",
    "a).Efficient Resource Utilization: Threads within a process share the same address space and resources, leading to efficient memory and resource utilization.\n",
    "\n",
    "b).Communication: Threads within the same process can communicate with each other more easily, as they can directly access shared data.\n",
    "\n",
    "###### 3).Simplified Programming:\n",
    "a)Parallelism: Multithreading simplifies the implementation of parallelism, allowing developers to divide complex tasks into smaller, more manageable threads.\n",
    "\n",
    "b).Task Decomposition: Certain algorithms and tasks can be naturally decomposed into parallelizable units, making multithreading a suitable choice for these scenarios.\n",
    "\n",
    "###### 4).Responsiveness:\n",
    "a)Interactive Applications: Multithreading is beneficial for applications that require a high level of interactivity, such as games or real-time systems, as it allows for the concurrent execution of different components.\n",
    "\n",
    "#### Disadvantages of Multithreading:\n",
    "###### 1).Complexity:\n",
    "a).Programming Complexity: Writing and debugging multithreaded code can be more challenging than single-threaded code. Issues such as race conditions and deadlocks are common and can be difficult to identify and fix.\n",
    "\n",
    "b).Synchronization Overhead: Proper synchronization mechanisms are required to avoid data corruption and race conditions, adding complexity to the code.\n",
    "\n",
    "###### 2).Resource Competition:\n",
    "a).Resource Contentions: Threads may compete for shared resources, leading to contention and potential performance degradation. This is especially true when multiple threads are trying to access and modify the same data simultaneously.\n",
    "\n",
    "###### 3).Difficulty in Debugging:\n",
    "a)Debugging Challenges: Identifying and fixing issues in multithreaded programs, such as race conditions or deadlocks, can be more complex and time-consuming than debugging single-threaded applications.\n",
    "\n",
    "###### 4).Potential for Deadlocks:\n",
    "a).Deadlock Risks: Incorrectly implemented synchronization can lead to deadlocks, where two or more threads are unable to proceed because each is waiting for the other to release a resource.\n",
    "\n",
    "###### 5).Portability Issues:\n",
    "a).Platform Dependency: Multithreading implementations can vary across different operating systems and platforms, making it challenging to write portable multithreaded code.\n",
    "\n",
    "###### In summary, while multithreading offers advantages in terms of performance and resource utilization, it introduces complexities and potential issues that developers must carefully manage to ensure the correct and efficient operation of their programs."
   ]
  },
  {
   "cell_type": "code",
   "execution_count": null,
   "id": "394b2112",
   "metadata": {},
   "outputs": [],
   "source": []
  },
  {
   "cell_type": "markdown",
   "id": "ab813fc8",
   "metadata": {},
   "source": [
    "##### Q6. Explain deadlocks and raise conditions.\n",
    "##### Sol. 1).Deadlocks:\n",
    "A deadlock is a situation in computing where two or more processes are unable to proceed because each is waiting for the other to release a resource. In other words, each process holds a resource and is also waiting for another resource acquired by some other process. As a result, the processes are effectively stuck in a circular waiting pattern.\n",
    "\n",
    "Let's consider a simple example with two processes (P1 and P2) and two resources (R1 and R2):\n",
    "\n",
    "###### Process P1:\n",
    "Acquires Resource R1\n",
    "Requests Resource R2\n",
    "\n",
    "###### Process P2:\n",
    "Acquires Resource R2\n",
    "Requests Resource R1\n",
    "In this scenario, if P1 acquires R1 and then requests R2, while P2 acquires R2 and requests R1, and both requests are granted simultaneously, a deadlock can occur. Both processes are now waiting for a resource that the other process holds, resulting in a cyclic dependency that cannot be resolved. As a result, neither process can proceed, and the system is in a deadlock state.\n",
    "\n",
    "#### Note:- It's important to note that deadlocks are not guaranteed to occur every time the code is run; they depend on the timing and scheduling of the threads. However, the code is designed to create a situation where a deadlock can potentially occur. To prevent deadlocks, it's crucial to carefully manage the order in which locks are acquired and released."
   ]
  },
  {
   "cell_type": "code",
   "execution_count": 6,
   "id": "436bf5d8",
   "metadata": {},
   "outputs": [
    {
     "name": "stdout",
     "output_type": "stream",
     "text": [
      "Process One attempting to acquire Lock A\n",
      "Process One acquired Lock A\n",
      "Process One attempting to acquire Lock B\n",
      "Process One acquired Lock B\n",
      "Process Two attempting to acquire Lock B\n",
      "Process Two acquired Lock B\n",
      "Process Two attempting to acquire Lock A\n",
      "Process Two acquired Lock A\n"
     ]
    }
   ],
   "source": [
    "import threading\n",
    "\n",
    "# Define two resources (locks)\n",
    "lock_a = threading.Lock()\n",
    "lock_b = threading.Lock()\n",
    "\n",
    "def process_one():\n",
    "    print(\"Process One attempting to acquire Lock A\")\n",
    "    with lock_a:\n",
    "        print(\"Process One acquired Lock A\")\n",
    "        print(\"Process One attempting to acquire Lock B\")\n",
    "        with lock_b:\n",
    "            print(\"Process One acquired Lock B\")\n",
    "\n",
    "def process_two():\n",
    "    print(\"Process Two attempting to acquire Lock B\")\n",
    "    with lock_b:\n",
    "        print(\"Process Two acquired Lock B\")\n",
    "        print(\"Process Two attempting to acquire Lock A\")\n",
    "        with lock_a:\n",
    "            print(\"Process Two acquired Lock A\")\n",
    "\n",
    "# Create two threads, each representing a process\n",
    "thread_one = threading.Thread(target=process_one)\n",
    "thread_two = threading.Thread(target=process_two)\n",
    "\n",
    "# Start the threads\n",
    "thread_one.start()\n",
    "thread_two.start()\n",
    "\n",
    "# Wait for both threads to finish\n",
    "thread_one.join()\n",
    "thread_two.join()"
   ]
  },
  {
   "cell_type": "markdown",
   "id": "65150bb7",
   "metadata": {},
   "source": [
    "In above example, we have two resources (Lock A and Lock B) that both processes (represented by two threads) need to acquire. The processes attempt to acquire the locks in a different order, creating a circular waiting pattern that can lead to a deadlock.\n",
    "\n",
    "When you run this Python code, you may observe that it hangs and doesn't complete. This is because the threads are deadlocked – each is holding one lock and waiting for the other lock to be released, which will never happen.\n",
    "\n",
    "To prevent deadlocks, it's crucial to ensure that threads acquire locks in a consistent and agreed-upon order. Deadlocks can be avoided by using techniques such as lock ordering, timeouts, and careful design of resource acquisition strategies."
   ]
  },
  {
   "cell_type": "code",
   "execution_count": null,
   "id": "12b4280f",
   "metadata": {},
   "outputs": [],
   "source": []
  },
  {
   "cell_type": "markdown",
   "id": "5c1cd391",
   "metadata": {},
   "source": [
    "##### 2).Race Conditions:\n",
    "A race condition is a situation in which the behavior of a program depends on the relative timing of events, such as the order in which threads are scheduled to run. These conditions can lead to unpredictable and undesirable outcomes when multiple threads access shared data concurrently, and at least one of them modifies the data.\n",
    "\n",
    "A race condition in Python can occur when two or more threads access shared data concurrently, and at least one of them modifies the data.\n",
    "\n",
    "Consider a scenario where two threads (Thread A and Thread B) share a variable (counter) and both increment its value:\n",
    "\n",
    "###### Thread A:\n",
    "Reads the current value of counter (e.g., counter = 0)\n",
    "\n",
    "Increments the value (counter = counter + 1)\n",
    "\n",
    "###### Thread B:\n",
    "Reads the current value of counter (still counter = 0)\n",
    "\n",
    "Increments the value (counter = counter + 1)\n",
    "\n",
    "If these operations are not properly synchronized, a race condition can occur. For instance, if Thread A reads the value of counter before Thread B has finished incrementing it, both threads might end up incrementing from the original value of 0 to 1, resulting in a final value of 1 instead of the expected 2.\n",
    "\n",
    "To prevent race conditions, developers use synchronization mechanisms, such as locks or mutexes, to ensure that only one thread can access and modify shared data at a time. Proper synchronization helps avoid data inconsistency and ensures the predictable behavior of a program in a multithreaded environment."
   ]
  },
  {
   "cell_type": "code",
   "execution_count": 7,
   "id": "2afcaa2e",
   "metadata": {},
   "outputs": [
    {
     "name": "stdout",
     "output_type": "stream",
     "text": [
      "Final value of the shared counter: 2000000\n"
     ]
    }
   ],
   "source": [
    "import threading\n",
    "\n",
    "# Shared resource\n",
    "shared_counter = 0\n",
    "\n",
    "# Function that increments the shared counter\n",
    "def increment_counter():\n",
    "    global shared_counter\n",
    "    for _ in range(1000000):  # Perform a large number of increments\n",
    "        shared_counter += 1\n",
    "\n",
    "# Create two threads that both increment the shared counter\n",
    "thread_one = threading.Thread(target=increment_counter)\n",
    "thread_two = threading.Thread(target=increment_counter)\n",
    "\n",
    "# Start the threads\n",
    "thread_one.start()\n",
    "thread_two.start()\n",
    "\n",
    "# Wait for both threads to finish\n",
    "thread_one.join()\n",
    "thread_two.join()\n",
    "\n",
    "# Display the final value of the shared counter\n",
    "print(\"Final value of the shared counter:\", shared_counter)"
   ]
  },
  {
   "cell_type": "markdown",
   "id": "3bfbe26c",
   "metadata": {},
   "source": [
    "In above example:\n",
    "\n",
    "The shared_counter variable is a shared resource that both threads (thread_one and thread_two) will try to increment concurrently.\n",
    "\n",
    "The increment_counter function is a simple function that increments the shared_counter by 1, and each thread runs this function in a loop for a large number of iterations (1000000).\n",
    "\n",
    "Both threads are started simultaneously, and they increment the shared counter concurrently.\n",
    "\n",
    "Finally, the program prints the final value of the shared counter.\n",
    "\n",
    "Due to the lack of proper synchronization mechanisms (such as locks or other thread-safe constructs), a race condition is likely to occur in this example. The final value of shared_counter may not be the expected 2000000 (2 million), as each thread is incrementing the counter independently, and the interleaved execution of their operations can lead to unpredictable results.\n",
    "\n",
    "To avoid race conditions, it's essential to use synchronization mechanisms to ensure that only one thread can access and modify the shared data at a time. For instance, using locks to protect the critical section of code that modifies the shared resource would help maintain data integrity."
   ]
  },
  {
   "cell_type": "code",
   "execution_count": null,
   "id": "3301853f",
   "metadata": {},
   "outputs": [],
   "source": []
  },
  {
   "cell_type": "code",
   "execution_count": null,
   "id": "1e6b88d6",
   "metadata": {},
   "outputs": [],
   "source": []
  }
 ],
 "metadata": {
  "kernelspec": {
   "display_name": "Python 3 (ipykernel)",
   "language": "python",
   "name": "python3"
  },
  "language_info": {
   "codemirror_mode": {
    "name": "ipython",
    "version": 3
   },
   "file_extension": ".py",
   "mimetype": "text/x-python",
   "name": "python",
   "nbconvert_exporter": "python",
   "pygments_lexer": "ipython3",
   "version": "3.10.9"
  }
 },
 "nbformat": 4,
 "nbformat_minor": 5
}
